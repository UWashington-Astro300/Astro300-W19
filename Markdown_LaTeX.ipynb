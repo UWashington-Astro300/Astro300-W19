{
 "cells": [
  {
   "cell_type": "markdown",
   "metadata": {
    "collapsed": false
   },
   "source": [
    "Markdown and $\\LaTeX$\n",
    "====================="
   ]
  },
  {
   "cell_type": "markdown",
   "metadata": {
    "collapsed": false
   },
   "source": [
    "Markdown\n",
    "========\n",
    "\n",
    "## Jupyter Notebooks use the [Markdown](https://en.wikipedia.org/wiki/Markdown) language to render text in cells"
   ]
  },
  {
   "cell_type": "raw",
   "metadata": {
    "collapsed": false
   },
   "source": [
    "Heading\n",
    "======="
   ]
  },
  {
   "cell_type": "markdown",
   "metadata": {
    "collapsed": false
   },
   "source": [
    "Heading\n",
    "======="
   ]
  },
  {
   "cell_type": "raw",
   "metadata": {
    "collapsed": false
   },
   "source": [
    "## Sub-heading\n",
    "### Sub-sub-heading\n",
    "#### Sub-sub-sub-heading\n",
    "##### Sub-sub-sub-sub-heading"
   ]
  },
  {
   "cell_type": "markdown",
   "metadata": {
    "collapsed": false
   },
   "source": [
    "## Sub-heading\n",
    "### Sub-sub-heading\n",
    "#### Sub-sub-sub-heading\n",
    "##### Sub-sub-sub-sub-heading"
   ]
  },
  {
   "cell_type": "raw",
   "metadata": {
    "collapsed": false
   },
   "source": [
    "Horizontal rule:\n",
    "\n",
    "---"
   ]
  },
  {
   "cell_type": "markdown",
   "metadata": {
    "collapsed": false
   },
   "source": [
    "---"
   ]
  },
  {
   "cell_type": "raw",
   "metadata": {
    "collapsed": false
   },
   "source": [
    "Text attributes: _italic_, **bold**, `monospace`."
   ]
  },
  {
   "cell_type": "markdown",
   "metadata": {
    "collapsed": false
   },
   "source": [
    "Text attributes: _italic_, **bold**, `monospace`."
   ]
  },
  {
   "cell_type": "raw",
   "metadata": {
    "collapsed": false
   },
   "source": [
    "Bullet list:\n",
    "\n",
    "  * john\n",
    "  * paul\n",
    "  * george\n",
    "    * ringo"
   ]
  },
  {
   "cell_type": "markdown",
   "metadata": {
    "collapsed": false
   },
   "source": [
    "* john\n",
    "* paul\n",
    "* george\n",
    "  * ringo"
   ]
  },
  {
   "cell_type": "raw",
   "metadata": {
    "collapsed": false
   },
   "source": [
    "Numbered list (you need the \".\" after the number):\n",
    "\n",
    "  1. john\n",
    "  2. paul\n",
    "  3. george\n",
    "  4. ringo"
   ]
  },
  {
   "cell_type": "markdown",
   "metadata": {
    "collapsed": false
   },
   "source": [
    "1. john\n",
    "2. paul\n",
    "3. george\n",
    "4. ringo"
   ]
  },
  {
   "cell_type": "raw",
   "metadata": {
    "collapsed": false
   },
   "source": [
    "A web link:\n",
    "\n",
    "[Words](url)\n",
    "\n",
    "This is pretty much just taken from the [Wiki entry for Markdown](https://en.wikipedia.org/wiki/Markdown)"
   ]
  },
  {
   "cell_type": "markdown",
   "metadata": {
    "collapsed": false
   },
   "source": [
    "This is pretty much just taken from the [Wiki entry for Markdown](https://en.wikipedia.org/wiki/Markdown)"
   ]
  },
  {
   "cell_type": "markdown",
   "metadata": {
    "collapsed": false
   },
   "source": [
    "---\n",
    "\n",
    "# $\\LaTeX$\n",
    "\n",
    "## Jupyter Notebooks use the $\\LaTeX$ language to typeset equations."
   ]
  },
  {
   "cell_type": "raw",
   "metadata": {
    "collapsed": false
   },
   "source": [
    "Most LaTeX commands are prefixed with a \"\\\". For example \\pi is the\n",
    "command to produce the lower case Greek letter pi.\n",
    "\n",
    "The characters  # $ % & ~ _ ^ \\ { } are special characters in LaTeX. If\n",
    "you want to typeset them you need to put a \\ in front of them. For\n",
    "example \\$ will typeset the symbol $\n",
    "\n",
    "Special case: if you want the \"\\\" character use \\backslash"
   ]
  },
  {
   "cell_type": "markdown",
   "metadata": {
    "collapsed": false
   },
   "source": [
    "----"
   ]
  },
  {
   "cell_type": "raw",
   "metadata": {
    "collapsed": false
   },
   "source": [
    "$ - in-line math mode\n",
    "\n",
    "The circumfrence of a circle is $2 \\pi r$"
   ]
  },
  {
   "cell_type": "markdown",
   "metadata": {
    "collapsed": false
   },
   "source": [
    "The circumfrence of a circle is $2 \\pi r$"
   ]
  },
  {
   "cell_type": "raw",
   "metadata": {
    "collapsed": false
   },
   "source": [
    "$$ - display mode\n",
    "\n",
    "$$ \n",
    "2 \\pi r \n",
    "$$"
   ]
  },
  {
   "cell_type": "markdown",
   "metadata": {
    "collapsed": false
   },
   "source": [
    "$$ \n",
    "2 \\pi r \n",
    "$$"
   ]
  },
  {
   "cell_type": "raw",
   "metadata": {
    "collapsed": false
   },
   "source": [
    "Do not put any bank lines around the equation. This will not work:\n",
    "\n",
    "$$ \n",
    "\n",
    "2 \\pi r \n",
    "$$"
   ]
  },
  {
   "cell_type": "markdown",
   "metadata": {
    "collapsed": false
   },
   "source": [
    "$$ \n",
    "\n",
    "2 \\pi r \n",
    "$$"
   ]
  },
  {
   "cell_type": "raw",
   "metadata": {
    "collapsed": false
   },
   "source": [
    "Superscript: ^\n",
    "\n",
    "$$\n",
    "\\pi r^{2}\n",
    "$$"
   ]
  },
  {
   "cell_type": "markdown",
   "metadata": {
    "collapsed": false
   },
   "source": [
    "$$\n",
    "\\pi r^{2}\n",
    "$$"
   ]
  },
  {
   "cell_type": "raw",
   "metadata": {
    "collapsed": false
   },
   "source": [
    "Subscript: _\n",
    "\n",
    "$$\n",
    "x_{2}\n",
    "$$"
   ]
  },
  {
   "cell_type": "markdown",
   "metadata": {
    "collapsed": false
   },
   "source": [
    "$$\n",
    "x_{2}\n",
    "$$"
   ]
  },
  {
   "cell_type": "raw",
   "metadata": {
    "collapsed": false
   },
   "source": [
    "Fractions: \\frac{}{}\n",
    "\n",
    "$$\n",
    "\\frac{2}{\\pi}\n",
    "$$"
   ]
  },
  {
   "cell_type": "markdown",
   "metadata": {
    "collapsed": false
   },
   "source": [
    "$$\n",
    "\\frac{2}{\\pi}\n",
    "$$"
   ]
  },
  {
   "cell_type": "raw",
   "metadata": {
    "collapsed": false
   },
   "source": [
    "Nice looking delimiters\n",
    "\n",
    "Do not use () or []\n",
    "\n",
    "$$\n",
    "( \\frac{2}{\\pi} )\n",
    "$$"
   ]
  },
  {
   "cell_type": "markdown",
   "metadata": {
    "collapsed": false
   },
   "source": [
    "$$\n",
    "( \\frac{2}{\\pi} )\n",
    "$$"
   ]
  },
  {
   "cell_type": "raw",
   "metadata": {
    "collapsed": false
   },
   "source": [
    "Use \\left( and \\right) or \\left[ \\right]\n",
    "\n",
    "$$\n",
    "\\left( \\frac{2}{\\pi} \\right)\n",
    "$$"
   ]
  },
  {
   "cell_type": "markdown",
   "metadata": {
    "collapsed": false
   },
   "source": [
    "$$\n",
    "\\left( \\frac{2}{\\pi} \\right)\n",
    "$$"
   ]
  },
  {
   "cell_type": "raw",
   "metadata": {
    "collapsed": false
   },
   "source": [
    "Font size (from small to big): \\tiny \\Tiny \\small \\normalsize \\large \\Large \\LARGE \\huge \\Huge"
   ]
  },
  {
   "cell_type": "raw",
   "metadata": {
    "collapsed": false
   },
   "source": [
    "$$\n",
    "\\huge\n",
    "\\left( \\frac{2}{\\pi} \\right)\n",
    "$$"
   ]
  },
  {
   "cell_type": "markdown",
   "metadata": {
    "collapsed": false
   },
   "source": [
    "$$\n",
    "\\huge\n",
    "\\left( \\frac{2}{\\pi} \\right)\n",
    "$$"
   ]
  },
  {
   "cell_type": "raw",
   "metadata": {
    "collapsed": false
   },
   "source": [
    "$$\n",
    "\\large\n",
    "x_{2}\n",
    "$$"
   ]
  },
  {
   "cell_type": "markdown",
   "metadata": {
    "collapsed": false
   },
   "source": [
    "$$\n",
    "\\large\n",
    "x_{2}\n",
    "$$"
   ]
  },
  {
   "cell_type": "raw",
   "metadata": {
    "collapsed": false
   },
   "source": [
    "$$\n",
    "\\large\n",
    "x_{\\small 2}\n",
    "$$"
   ]
  },
  {
   "cell_type": "markdown",
   "metadata": {
    "collapsed": false
   },
   "source": [
    "$$\n",
    "\\large\n",
    "x_{\\small 2}\n",
    "$$"
   ]
  },
  {
   "cell_type": "raw",
   "metadata": {
    "collapsed": false
   },
   "source": [
    "Spacing can make equations look nicer\n",
    "\n",
    "\\, - really, really small space\n",
    "\\: - really small space\n",
    "\\; - small space\n",
    "\\  - text space (space after backslash!) - depends on fontsize\n",
    "\\quad - big space\n",
    "\\qquad - really big space\n",
    "\\! - (negative) really, really, small space"
   ]
  },
  {
   "cell_type": "raw",
   "metadata": {
    "collapsed": false
   },
   "source": [
    "$$\n",
    "f(x)\\! =\\! x^{2}\\! +\\! 2 \\\\\n",
    "f(x) = x^{2}+2 \\\\\n",
    "f(x)\\, =\\, x^{2}\\,+\\,2 \\\\\n",
    "f(x)\\: =\\: x^{2}\\:+\\:2 \\\\\n",
    "f(x)\\; =\\; x^{2}\\;+\\;2 \\\\\n",
    "f(x)\\ =\\ x^{2}\\ +\\ 2 \\\\\n",
    "f(x)\\quad =\\quad x^{2}\\quad +\\quad 2 \\\\\n",
    "f(x)\\qquad =\\qquad x^{2}\\qquad +\\qquad 2 \\\\\n",
    "$$"
   ]
  },
  {
   "cell_type": "markdown",
   "metadata": {
    "collapsed": false
   },
   "source": [
    "$$\n",
    "f(x)\\! =\\! x^{2}\\! +\\! 2 \\\\\n",
    "f(x) = x^{2}+2 \\\\\n",
    "f(x)\\, =\\, x^{2}\\,+\\,2 \\\\\n",
    "f(x)\\: =\\: x^{2}\\:+\\:2 \\\\\n",
    "f(x)\\; =\\; x^{2}\\;+\\;2 \\\\\n",
    "f(x)\\ =\\ x^{2}\\ +\\ 2 \\\\\n",
    "f(x)\\quad =\\quad x^{2}\\quad +\\quad 2 \\\\\n",
    "f(x)\\qquad =\\qquad x^{2}\\qquad +\\qquad 2 \\\\\n",
    "$$"
   ]
  },
  {
   "cell_type": "raw",
   "metadata": {
    "collapsed": false
   },
   "source": [
    "$$\n",
    "\\large\n",
    "\\sqrt{2x}\n",
    "$$"
   ]
  },
  {
   "cell_type": "markdown",
   "metadata": {
    "collapsed": false
   },
   "source": [
    "$$\n",
    "\\large\n",
    "f(x)=\\sqrt{2x}\n",
    "$$"
   ]
  },
  {
   "cell_type": "raw",
   "metadata": {
    "collapsed": false
   },
   "source": [
    "$$\n",
    "\\large\n",
    "f(x) = \\sqrt{\\,2x\\,}\n",
    "$$"
   ]
  },
  {
   "cell_type": "markdown",
   "metadata": {
    "collapsed": false
   },
   "source": [
    "$$\n",
    "\\large\n",
    "f(x) = \\sqrt{\\,2x\\,}\n",
    "$$"
   ]
  },
  {
   "cell_type": "raw",
   "metadata": {
    "collapsed": false
   },
   "source": [
    "Aligned Equations\n",
    "\n",
    "Use \\\\ to start a new line\n",
    "Use & to mark where you want the equations to line up\n",
    "\n",
    "\\begin{align}\n",
    "a_1 & = b_1 + c_1 \\\\\n",
    "a_2 & = b_2 + c_2 + d_2\n",
    "\\end{align}"
   ]
  },
  {
   "cell_type": "markdown",
   "metadata": {
    "collapsed": false
   },
   "source": [
    "\\begin{align}\n",
    "a_1 & = b_1 + c_1 \\\\\n",
    "a_2 & = b_2 + c_2 + d_2\n",
    "\\end{align}"
   ]
  },
  {
   "cell_type": "markdown",
   "metadata": {
    "collapsed": false
   },
   "source": [
    "### These few commands, plus a list of [Latex Symbols](http://oeis.org/wiki/List_of_LaTeX_mathematical_symbols), are all you need for most $\\LaTeX$ equations\n",
    "\n",
    "### If you cannot find a symbol, you can try the [Detexify Latex](http://detexify.kirelabs.org/classify.html) drawing tool"
   ]
  },
  {
   "cell_type": "markdown",
   "metadata": {
    "collapsed": false
   },
   "source": [
    "### Note: Jupyter notebooks only support a small subset of the full $\\LaTeX$ language.\n",
    "\n",
    "### You will definitely find symbols that will not render in a notebook!"
   ]
  },
  {
   "cell_type": "markdown",
   "metadata": {
    "collapsed": false
   },
   "source": [
    "----"
   ]
  },
  {
   "cell_type": "markdown",
   "metadata": {
    "collapsed": false
   },
   "source": [
    "## Writing $\\LaTeX$ equations from scratch can be a pain. There are some ways to make it easier:"
   ]
  },
  {
   "cell_type": "markdown",
   "metadata": {
    "collapsed": false
   },
   "source": [
    "### Use can use `SymPy` to make $\\LaTeX$ equations for you!"
   ]
  },
  {
   "cell_type": "code",
   "execution_count": 0,
   "metadata": {
    "collapsed": false
   },
   "outputs": [
   ],
   "source": [
    "import sympy as sp"
   ]
  },
  {
   "cell_type": "code",
   "execution_count": 0,
   "metadata": {
    "collapsed": false
   },
   "outputs": [
   ],
   "source": [
    "z = sp.symbols('z')"
   ]
  },
  {
   "cell_type": "code",
   "execution_count": 0,
   "metadata": {
    "collapsed": false
   },
   "outputs": [
   ],
   "source": [
    "my_equation =  1/( ( z + 2 ) * ( z + 1 ) )\n",
    "\n",
    "print(sp.latex(my_equation))"
   ]
  },
  {
   "cell_type": "raw",
   "metadata": {
    "collapsed": false
   },
   "source": [
    "$$ \n",
    "\\frac{1}{\\left(z + 1\\right) \\left(z + 2\\right)}\n",
    "$$"
   ]
  },
  {
   "cell_type": "markdown",
   "metadata": {
    "collapsed": false
   },
   "source": [
    "$$ \n",
    "\\frac{1}{\\left(z + 1\\right) \\left(z + 2\\right)}\n",
    "$$"
   ]
  },
  {
   "cell_type": "markdown",
   "metadata": {
    "collapsed": false
   },
   "source": [
    "### My favorite trick is the Wikipedia $\\LaTeX$ equation cheat:"
   ]
  },
  {
   "cell_type": "markdown",
   "metadata": {
    "collapsed": false
   },
   "source": [
    "* #### Navigate over to: [Special Relativity](https://en.wikipedia.org/wiki/Special_relativity)"
   ]
  },
  {
   "cell_type": "markdown",
   "metadata": {
    "collapsed": false
   },
   "source": [
    "double-click on this cell\n",
    "\n",
    "$$\n",
    "%put equation here\n",
    "$$"
   ]
  },
  {
   "cell_type": "markdown",
   "metadata": {
    "collapsed": false
   },
   "source": [
    "# Magic!"
   ]
  },
  {
   "cell_type": "markdown",
   "metadata": {
    "collapsed": false
   },
   "source": [
    "----"
   ]
  },
  {
   "cell_type": "markdown",
   "metadata": {
    "collapsed": false
   },
   "source": [
    "## Use can use $\\LaTeX$ in plots:"
   ]
  },
  {
   "cell_type": "code",
   "execution_count": 0,
   "metadata": {
    "collapsed": false
   },
   "outputs": [
   ],
   "source": [
    "%matplotlib inline\n",
    "\n",
    "import numpy as np\n",
    "import matplotlib.pyplot as plt"
   ]
  },
  {
   "cell_type": "code",
   "execution_count": 0,
   "metadata": {
    "collapsed": false
   },
   "outputs": [
   ],
   "source": [
    "plt.style.use('ggplot')\n",
    "\n",
    "my_x = np.linspace(0,2*np.pi,100)\n",
    "my_y = np.sin(5*my_x) * np.exp(-np.sqrt(my_x))"
   ]
  },
  {
   "cell_type": "code",
   "execution_count": 0,
   "metadata": {
    "collapsed": false,
    "scrolled": true
   },
   "outputs": [
   ],
   "source": [
    "fig,ax = plt.subplots(1,1)\n",
    "fig.set_size_inches(10,4)\n",
    "\n",
    "fig.tight_layout()\n",
    "\n",
    "ax.plot(my_x, my_y, color='r', marker='None', linestyle='-');\n",
    "\n",
    "ax.set_xlabel(\"This is in units of 2$\\pi$\")\n",
    "ax.set_ylabel(\"This is Y\")\n",
    "\n",
    "ax.text(2.0, 0.4, '$y\\ =\\, \\sin(5a)\\, e^{-\\sqrt{a}}$', color='green', fontsize=36);"
   ]
  },
  {
   "cell_type": "markdown",
   "metadata": {
    "collapsed": false
   },
   "source": [
    "----"
   ]
  },
  {
   "cell_type": "markdown",
   "metadata": {
    "collapsed": false
   },
   "source": [
    "Your assignment\n",
    "===============\n",
    "\n",
    "# Part I\n",
    "\n",
    "* ### Go to the [Overleaf](https://v2.overleaf.com/) site and create an account using your `uw.edu` address.\n",
    "* ### It is important that you use your `uw.edu` address! "
   ]
  },
  {
   "cell_type": "markdown",
   "metadata": {
    "collapsed": false
   },
   "source": [
    "# Part II\n",
    "\n",
    "  * ### Create a butterfly plot: http://en.wikipedia.org/wiki/Butterfly_curve_(transcendental)\n",
    "  * ### Plot X vs. Y\n",
    "  * ### Feel free to change the parameters to get a different butterfly\n",
    "  * ### If you don't like the butterfly, you can do a fancier [parametic equation](https://en.wikipedia.org/wiki/Parametric_equation)\n",
    "  * ### Make gratuitous use of $\\LaTeX$ labels\n",
    "  * ### Save the plot to a png file\n",
    "  * ### You don't need to hand-in the plot, We will use it next class\n",
    "  * ### I have started it for you below\n",
    "\n",
    "  ----"
   ]
  },
  {
   "cell_type": "code",
   "execution_count": 0,
   "metadata": {
    "collapsed": false
   },
   "outputs": [
   ],
   "source": [
    "t = np.linspace(0,12*np.pi,3000)"
   ]
  },
  {
   "cell_type": "code",
   "execution_count": 0,
   "metadata": {
    "collapsed": false
   },
   "outputs": [
   ],
   "source": [
   ]
  },
  {
   "cell_type": "code",
   "execution_count": 0,
   "metadata": {
    "collapsed": false
   },
   "outputs": [
   ],
   "source": [
    "fig,ax = plt.subplots(1,1)                    # One window\n",
    "fig.set_size_inches(11,8.5)                   # (width,height) - letter paper landscape\n",
    "\n",
    "fig.tight_layout()                            # Make better use of space on plot\n",
    "\n"
   ]
  },
  {
   "cell_type": "code",
   "execution_count": 0,
   "metadata": {
    "collapsed": false
   },
   "outputs": [
   ],
   "source": [
    "fig.savefig('MyCoolPlot.png', bbox_inches='tight')"
   ]
  }
 ],
 "metadata": {
  "anaconda-cloud": {
  },
  "kernelspec": {
   "display_name": "Python 3 (Ubuntu Linux)",
   "language": "python",
   "name": "python3"
  },
  "language_info": {
   "codemirror_mode": {
    "name": "ipython",
    "version": 3
   },
   "file_extension": ".py",
   "mimetype": "text/x-python",
   "name": "python",
   "nbconvert_exporter": "python",
   "pygments_lexer": "ipython3",
   "version": "3.6.7"
  }
 },
 "nbformat": 4,
 "nbformat_minor": 0
}