{
 "cells": [
  {
   "cell_type": "markdown",
   "metadata": {
    "collapsed": false
   },
   "source": [
    "## First Last - Reading Data"
   ]
  },
  {
   "cell_type": "code",
   "execution_count": 0,
   "metadata": {
    "collapsed": true
   },
   "outputs": [
   ],
   "source": [
    "import numpy as np\n",
    "import pandas as pd"
   ]
  },
  {
   "cell_type": "markdown",
   "metadata": {
    "collapsed": false
   },
   "source": [
    "### Read in the datafile `./Data/MainBelt.csv`"
   ]
  },
  {
   "cell_type": "code",
   "execution_count": 0,
   "metadata": {
    "collapsed": true
   },
   "outputs": [
   ],
   "source": [
   ]
  },
  {
   "cell_type": "markdown",
   "metadata": {
    "collapsed": false
   },
   "source": [
    "### Write a function to compute the Diameters of the Main Belt Asteroids (MBAs)\n",
    "\n",
    "* The function takes 2 arguments: an absolute magnitude and an albedo `(H, A)`\n",
    "* The function returns the diameter of the asteroid\n",
    "* The largest asteroid should have a diameter of ~ 1000 km"
   ]
  },
  {
   "cell_type": "code",
   "execution_count": 0,
   "metadata": {
    "collapsed": false
   },
   "outputs": [
   ],
   "source": [
   ]
  },
  {
   "cell_type": "code",
   "execution_count": 0,
   "metadata": {
    "collapsed": true
   },
   "outputs": [
   ],
   "source": [
   ]
  },
  {
   "cell_type": "markdown",
   "metadata": {
    "collapsed": false
   },
   "source": [
    "### Write a function to compute the Masses of the MBAs. Assume $\\rho$ = 3,000 kg/m$^3$\n",
    "\n",
    "* The function takes 2 arguments: a diameter and a density `(dia, den)`\n",
    "* The function returns the mass of the asteroid\n",
    "* The most massive asteroid should have a mass of ~ 1e21 kg"
   ]
  },
  {
   "cell_type": "code",
   "execution_count": 0,
   "metadata": {
    "collapsed": false
   },
   "outputs": [
   ],
   "source": [
   ]
  },
  {
   "cell_type": "code",
   "execution_count": 0,
   "metadata": {
    "collapsed": true
   },
   "outputs": [
   ],
   "source": [
   ]
  },
  {
   "cell_type": "markdown",
   "metadata": {
    "collapsed": false
   },
   "source": [
    "### List the names of the 5 most massive MBAs"
   ]
  },
  {
   "cell_type": "code",
   "execution_count": 0,
   "metadata": {
    "collapsed": true
   },
   "outputs": [
   ],
   "source": [
   ]
  },
  {
   "cell_type": "markdown",
   "metadata": {
    "collapsed": false
   },
   "source": [
    "### List the names of the 5 least massive MBAs"
   ]
  },
  {
   "cell_type": "code",
   "execution_count": 0,
   "metadata": {
    "collapsed": true
   },
   "outputs": [
   ],
   "source": [
   ]
  },
  {
   "cell_type": "markdown",
   "metadata": {
    "collapsed": false
   },
   "source": [
    "### Determine the total mass of all of the MBAs"
   ]
  },
  {
   "cell_type": "code",
   "execution_count": 0,
   "metadata": {
    "collapsed": true
   },
   "outputs": [
   ],
   "source": [
   ]
  },
  {
   "cell_type": "markdown",
   "metadata": {
    "collapsed": false
   },
   "source": [
    "### Determine the fraction of the total mass contained in the 5 largest MBAs"
   ]
  },
  {
   "cell_type": "code",
   "execution_count": 0,
   "metadata": {
    "collapsed": true
   },
   "outputs": [
   ],
   "source": [
   ]
  },
  {
   "cell_type": "markdown",
   "metadata": {
    "collapsed": false
   },
   "source": [
    "### How does the total mass of the MBAs compare to the mass of the Moon ($7.35\\ \\times\\ 10^{22}$ kg)?\n",
    "\n",
    "* Compute Total MBA Mass / Lunar Mass"
   ]
  },
  {
   "cell_type": "code",
   "execution_count": 0,
   "metadata": {
    "collapsed": true
   },
   "outputs": [
   ],
   "source": [
   ]
  },
  {
   "cell_type": "markdown",
   "metadata": {
    "collapsed": false
   },
   "source": [
    "### Due Mon Jan 28 - 1pm\n",
    "- `Make sure to change the filename to your name!`\n",
    "- `Make sure to change the Title to your name!`\n",
    "- `Save notebook as .html: File -> Download as -> HTML (.html)`\n",
    "- `Upload .html and .ipynb to Canvas`"
   ]
  },
  {
   "cell_type": "markdown",
   "metadata": {
    "collapsed": false
   },
   "source": [
    "***\n",
    "\n",
    "## Absolute Magnitude, Size and Mass - Solar System Objects\n",
    "\n",
    "The absolute magnitude **H** of a solar system object is the magnitude that it would have if it was 1 AU from the Earth and 1 AU from the Sun while having a phase angle of 0 degrees. Remember, astronomical magnitudes are \"backwards\".  The magnitude of a bright object is *less* than the magnitude of a dimmer object.\n",
    "\n",
    "The phase angle **$\\theta$** in astronomical observations is the angle between the light incident onto an observed object and the light reflected from the object. In the context of astronomical observations, this is usually the angle $\\angle$ Sun-object-observer.\n",
    "\n",
    "<p align=\"center\"> \n",
    "<img src=\"./images/Phase.jpg\">\n",
    "</p>\n",
    "\n",
    "It is actually impossible for an object to be 1 AU from the Earth and 1 AU from the Sun while having a phase angle of 0 degrees. The Sun and the Earth would occupy the same point.  However, this is the definition of **H**.  Please note, that the definition of absolute magnitude for solar system objects is *very* different from the definition of absolute magnitude used for stars.\n",
    "\n",
    "The Absolute magnitude of an object is related to the physical size of the object via the equation:\n",
    "\n",
    "$$\\large D\\ (\\textrm{in km}) = \\frac{1329}{\\sqrt{A}}\\  10^{-0.2H}$$\n",
    "\n",
    "Where **D** is the diameter of the object in kilometers and **A** is the geometric albedo of the object. \n",
    "\n",
    "The geometric albedo **A** of an astronomical body is the ratio of its actual brightness at zero phase angle (i.e., as seen from the light source) to that of an idealized flat, fully reflecting, diffusively scattering disk with the same cross-section.\n",
    "\n",
    "Perfect reflectors of light have A = 1 and perfect absorbers have **A** = 0. Typical asteroids have a wide range of values: 0.02 $<$ A $<$ 0.8.\n",
    "\n",
    "Once we have the diameter of the object, we can determine the mass if we know the density ($\\rho$).\n",
    "\n",
    "$ \\large \\mathrm{Mass} = \\rho \\cdot \\mathrm{Volume} = \\rho \\cdot \\frac{4}{3} \\pi r^3 \\ = \\ \\rho \\cdot \\frac{1}{6} \\pi D^3 $\n",
    "\n",
    "This assumes that the object is spherical (this is **not** a very good assumption for asteroids)."
   ]
  },
  {
   "cell_type": "markdown",
   "metadata": {
    "collapsed": false
   },
   "source": [
    "----\n",
    "\n",
    "# <font color=blue>Ravenclaw</font>\n",
    "\n",
    "* The file `./Data/M15.dat` contains data for the magnitude and color of stars in the globular cluster M15\n",
    "* The file `./Data/M15.readme` decsribes the structure of datafile.\n"
   ]
  },
  {
   "cell_type": "code",
   "execution_count": 0,
   "metadata": {
    "collapsed": false
   },
   "outputs": [
   ],
   "source": [
   ]
  },
  {
   "cell_type": "code",
   "execution_count": 0,
   "metadata": {
    "collapsed": false
   },
   "outputs": [
   ],
   "source": [
   ]
  },
  {
   "cell_type": "markdown",
   "metadata": {
    "collapsed": false
   },
   "source": [
    "### Write a function called `find_bright_stars`\n",
    "\n",
    "* The function takes 2 arguments: a pandas table name and a magnitude `(table, mag)`\n",
    "* The function returns the number of stars in `table` that are brighter than `mag`\n",
    "\n",
    "* For example `find_bright_stars(M15_Table, 13)` will output `2`\n"
   ]
  },
  {
   "cell_type": "code",
   "execution_count": 0,
   "metadata": {
    "collapsed": false
   },
   "outputs": [
   ],
   "source": [
   ]
  },
  {
   "cell_type": "code",
   "execution_count": 0,
   "metadata": {
    "collapsed": false
   },
   "outputs": [
   ],
   "source": [
   ]
  },
  {
   "cell_type": "markdown",
   "metadata": {
    "collapsed": false
   },
   "source": [
    "### Write a function called `find_distance`\n",
    "\n",
    "* The function takes 2 arguments: a pandas table name and a distance `(table, dist)`\n",
    "* The function returns the number of stars in `table` that are within `dist` arcseconds of the star 653\n",
    "\n",
    "* For example `find_distance(M15_Table, 10)` will output `392`"
   ]
  },
  {
   "cell_type": "code",
   "execution_count": 0,
   "metadata": {
    "collapsed": false
   },
   "outputs": [
   ],
   "source": [
   ]
  },
  {
   "cell_type": "code",
   "execution_count": 0,
   "metadata": {
    "collapsed": false
   },
   "outputs": [
   ],
   "source": [
   ]
  }
 ],
 "metadata": {
  "anaconda-cloud": {
  },
  "kernelspec": {
   "display_name": "Python 3 (Ubuntu Linux)",
   "language": "python",
   "name": "python3"
  },
  "language_info": {
   "codemirror_mode": {
    "name": "ipython",
    "version": 3
   },
   "file_extension": ".py",
   "mimetype": "text/x-python",
   "name": "python",
   "nbconvert_exporter": "python",
   "pygments_lexer": "ipython3",
   "version": "3.6.7"
  }
 },
 "nbformat": 4,
 "nbformat_minor": 0
}