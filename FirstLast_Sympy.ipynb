{
 "cells": [
  {
   "cell_type": "markdown",
   "metadata": {
    "collapsed": false
   },
   "source": [
    "## First Last - SymPy"
   ]
  },
  {
   "cell_type": "code",
   "execution_count": 0,
   "metadata": {
    "collapsed": false
   },
   "outputs": [
   ],
   "source": [
   ]
  },
  {
   "cell_type": "markdown",
   "metadata": {
    "collapsed": false
   },
   "source": [
    "## Part I\n",
    "\n",
    "$$ \\Large {\\displaystyle f(x)=3e^{-{\\frac {x^{2}}{8}}}} \\sin(x/3)$$"
   ]
  },
  {
   "cell_type": "markdown",
   "metadata": {
    "collapsed": false
   },
   "source": [
    "* Find the first four terms of the Taylor expansion of the above equation (at x = 0)\n",
    "* Make a plot of the function\n",
    "* Plot size 10 in x 4 in\n",
    "* X limts -5, 5\n",
    "* Y limits -2, 2\n",
    "* On the same plot:\n",
    "  * Over-plot the 1-term Taylor expansion using a different color\n",
    "  * Over-plot the 2-term Taylor expansion using a different color\n",
    "  * Over-plot the 3-term Taylor expansion using a different color\n",
    "  * Over-plot the 4-term Taylor expansion using a different color"
   ]
  },
  {
   "cell_type": "code",
   "execution_count": 0,
   "metadata": {
    "collapsed": false
   },
   "outputs": [
   ],
   "source": [
   ]
  },
  {
   "cell_type": "markdown",
   "metadata": {
    "collapsed": false
   },
   "source": [
    "## Part II\n",
    "\n",
    "$$\\Large {\\displaystyle g(x)=x^{2} - 0.75}$$\n"
   ]
  },
  {
   "cell_type": "markdown",
   "metadata": {
    "collapsed": false
   },
   "source": [
    "#### What are the value(s) for `x` where f(x) = g(x)"
   ]
  },
  {
   "cell_type": "code",
   "execution_count": 0,
   "metadata": {
    "collapsed": false
   },
   "outputs": [
   ],
   "source": [
   ]
  },
  {
   "cell_type": "markdown",
   "metadata": {
    "collapsed": false
   },
   "source": [
    "### Due Mon Mar 4 - 1 pm\n",
    "- `Make sure to change the filename to your name!`\n",
    "- `Make sure to change the Title to your name!`\n",
    "- `File -> Download as -> HTML (.html)`\n",
    "- `upload your .html and .ipynb file to the class Canvas page`"
   ]
  },
  {
   "cell_type": "code",
   "execution_count": 0,
   "metadata": {
    "collapsed": false
   },
   "outputs": [
   ],
   "source": [
   ]
  }
 ],
 "metadata": {
  "anaconda-cloud": {
  },
  "kernelspec": {
   "display_name": "Python 3 (Anaconda 5)",
   "language": "python",
   "name": "anaconda5"
  },
  "language_info": {
   "codemirror_mode": {
    "name": "ipython",
    "version": 3
   },
   "file_extension": ".py",
   "mimetype": "text/x-python",
   "name": "python",
   "nbconvert_exporter": "python",
   "pygments_lexer": "ipython3",
   "version": "3.6.6"
  }
 },
 "nbformat": 4,
 "nbformat_minor": 0
}