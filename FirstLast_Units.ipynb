{
 "cells": [
  {
   "cell_type": "markdown",
   "metadata": {
    "collapsed": false
   },
   "source": [
    "# First Last - Units in Python"
   ]
  },
  {
   "cell_type": "markdown",
   "metadata": {
    "collapsed": false
   },
   "source": [
    "* Use the `Astropy` units and constants packages to solve the following problems.\n",
    "* Do not hardcode any constants!\n",
    "* Unless asked, your units should be in the simplest SI units possible.\n",
    "* Your answers should be as sentences. For example:\n",
    "  * `The range would be 123 km.`"
   ]
  },
  {
   "cell_type": "code",
   "execution_count": 0,
   "metadata": {
    "collapsed": false
   },
   "outputs": [
   ],
   "source": [
    "import numpy as np\n",
    "\n",
    "from astropy import units as u\n",
    "from astropy import constants as const\n",
    "from astropy.units import imperial\n",
    "imperial.enable()"
   ]
  },
  {
   "cell_type": "markdown",
   "metadata": {
    "collapsed": false
   },
   "source": [
    "### The range of a projectile launched with a velocity (v) at and angle ($\\theta$) is\n",
    "\n",
    "$$R\\ =\\  {v^2 \\over g}\\ sin(2\\theta)$$"
   ]
  },
  {
   "cell_type": "markdown",
   "metadata": {
    "collapsed": false
   },
   "source": [
    "**Problem 1** - Find R for v = 123 mph and $\\theta$ = 1000 arc minutes"
   ]
  },
  {
   "cell_type": "code",
   "execution_count": 0,
   "metadata": {
    "collapsed": false
   },
   "outputs": [
   ],
   "source": [
   ]
  },
  {
   "cell_type": "markdown",
   "metadata": {
    "collapsed": false
   },
   "source": [
    "**Problem 2** - How fast do you have to throw a football at 33.3 degrees so that is goes exactly 100 yards? Express your answer in mph"
   ]
  },
  {
   "cell_type": "code",
   "execution_count": 0,
   "metadata": {
    "collapsed": false
   },
   "outputs": [
   ],
   "source": [
   ]
  },
  {
   "cell_type": "markdown",
   "metadata": {
    "collapsed": false
   },
   "source": [
    "### Kepler's third law can be expressed as:\n",
    "\n",
    "$$ T^2 = \\left( {{4\\pi^2} \\over {GM}} \\right)\\ r^3 $$\n",
    "\n",
    "Where __T__ is the orbial period of an object at distance (__r__) from the center of an object of mass (__M__)."
   ]
  },
  {
   "cell_type": "markdown",
   "metadata": {
    "collapsed": false
   },
   "source": [
    "And the velocity of an object in orbit is\n",
    "\n",
    "$$ v=\\sqrt{GM\\over r} $$"
   ]
  },
  {
   "cell_type": "markdown",
   "metadata": {
    "collapsed": false
   },
   "source": [
    "**Problem 3** - Calculate the orbital period of International Space Station (ISS). ISS orbits 254 miles above the **surface** of the Earth. Expess your answer in minutes (make sure your answer makes sense!)."
   ]
  },
  {
   "cell_type": "code",
   "execution_count": 0,
   "metadata": {
    "collapsed": false
   },
   "outputs": [
   ],
   "source": [
   ]
  },
  {
   "cell_type": "markdown",
   "metadata": {
    "collapsed": false
   },
   "source": [
    "**Problem 4** - Calculate the velocity of ISS. Expess your answer in km/s and mph."
   ]
  },
  {
   "cell_type": "code",
   "execution_count": 0,
   "metadata": {
    "collapsed": false
   },
   "outputs": [
   ],
   "source": [
   ]
  },
  {
   "cell_type": "code",
   "execution_count": 0,
   "metadata": {
    "collapsed": false
   },
   "outputs": [
   ],
   "source": [
   ]
  },
  {
   "cell_type": "markdown",
   "metadata": {
    "collapsed": false
   },
   "source": [
    "**Problem 5** - The Procliamer's song [500 miles](https://youtu.be/MJuyn0WAYNI?t=27s) has a duration of 3 minutes and 33 seconds. Calculate at what altitude, above the Earth's surface, you would have to orbit to go 1000 miles in this time. Express your answer in units of the alititude of the ISS above Earth's surface."
   ]
  },
  {
   "cell_type": "code",
   "execution_count": 0,
   "metadata": {
    "collapsed": false
   },
   "outputs": [
   ],
   "source": [
   ]
  },
  {
   "cell_type": "markdown",
   "metadata": {
    "collapsed": false
   },
   "source": [
    "### The Power being received by a solar panel in space can be expressed as:\n",
    "\n",
    "$$ I\\  =\\ {{L_{\\odot}} \\over {4 \\pi d^2}}\\ \\varepsilon$$\n",
    "\n",
    "Where __I__ is the power __per unit area__ at a distance (__d__) from the Sun, and $\\varepsilon$ is the efficiency of the solar panel.\n",
    "\n",
    "The solar panels that power spacecraft have an efficiency of about 40%."
   ]
  },
  {
   "cell_type": "markdown",
   "metadata": {
    "collapsed": false
   },
   "source": [
    "**Problem 6** -  The [New Horizons](http://pluto.jhuapl.edu/) spacecraft requires 220 Watts of power.\n",
    "\n",
    "Calculate the area of a solar panel that would be needed to power New Horizons at a distance of 1 AU from the Sun."
   ]
  },
  {
   "cell_type": "code",
   "execution_count": 0,
   "metadata": {
    "collapsed": false
   },
   "outputs": [
   ],
   "source": [
   ]
  },
  {
   "cell_type": "markdown",
   "metadata": {
    "collapsed": false
   },
   "source": [
    "**Problem 7** - Express your answer in units of the area of a piece of US letter sized paper (8.5 in x 11 in)."
   ]
  },
  {
   "cell_type": "code",
   "execution_count": 0,
   "metadata": {
    "collapsed": false
   },
   "outputs": [
   ],
   "source": [
   ]
  },
  {
   "cell_type": "markdown",
   "metadata": {
    "collapsed": false
   },
   "source": [
    "**Problem 8** - Same question as above but now a d = 30 AU.\n",
    "\n",
    "Express you answer in US letter sized paper"
   ]
  },
  {
   "cell_type": "code",
   "execution_count": 0,
   "metadata": {
    "collapsed": false
   },
   "outputs": [
   ],
   "source": [
   ]
  },
  {
   "cell_type": "markdown",
   "metadata": {
    "collapsed": false
   },
   "source": [
    "**Problem 9** - The main part of the Oort cloud is thought to be at a distance of about 10,000 AU.\n",
    "\n",
    "Calculate the size of the solar panel New Horizons would need to operate in the Oort cloud.\n",
    "\n",
    "Express your answer in units of the area of an American football field (120 yd x 53.3 yd)."
   ]
  },
  {
   "cell_type": "code",
   "execution_count": 0,
   "metadata": {
    "collapsed": false
   },
   "outputs": [
   ],
   "source": [
   ]
  },
  {
   "cell_type": "markdown",
   "metadata": {
    "collapsed": false
   },
   "source": [
    "**Problem 10** - Calculate the maximum distance from the Sun where a solar panel of 1 football field can power the New Horizons spacecraft. Express your answer in AU."
   ]
  },
  {
   "cell_type": "code",
   "execution_count": 0,
   "metadata": {
    "collapsed": false
   },
   "outputs": [
   ],
   "source": [
   ]
  },
  {
   "cell_type": "markdown",
   "metadata": {
    "collapsed": false
   },
   "source": [
    "### Luminosity\n",
    "\n",
    "An accretion disk that rotates around a black hole has a total luminosity that can be approximated as:\n",
    "\n",
    "$$\n",
    "L_{disk}\\  =\\ \\frac{GM_{bh}\\dot{M}}{2r_{in}}\n",
    "$$\n",
    "\n",
    "Where r$_{in}$ is the distance from the center of the black hole to the inner edge of the\n",
    "accretion disk, and $\\dot{M}$ is the mass accretion rate."
   ]
  },
  {
   "cell_type": "markdown",
   "metadata": {
    "collapsed": false
   },
   "source": [
    "**Problem 11** - Calculate the mass accretion rate ($\\dot{M}$) of an accretion disk around a $10^8$ solar mass balck hole with a luminosity of 5.7 $\\times$ 10$^{40}$ Watts, and a r$_{in}$ of 4.56 million miles. Express your answer in solar masses per year."
   ]
  },
  {
   "cell_type": "code",
   "execution_count": 0,
   "metadata": {
    "collapsed": false
   },
   "outputs": [
   ],
   "source": [
   ]
  },
  {
   "cell_type": "markdown",
   "metadata": {
    "collapsed": false
   },
   "source": [
    "### Earth?\n",
    "\n",
    "The self gravitational potential energy of the Earth is:\n",
    "\n",
    "$$ \\large\n",
    "PE \\ = \\ \\frac{3}{5} \\cdot \\frac{GM_{\\oplus}^2}{R_{\\oplus}}\n",
    "$$  \n",
    "\n",
    "This is the amount of energy you need to give the Earth to move all of its components pieces infinitely far away (i.e. to destroy it!)."
   ]
  },
  {
   "cell_type": "markdown",
   "metadata": {
    "collapsed": false
   },
   "source": [
    "**Problem 12** - Calculate how massive an object you whould have to hit the Earth with at 45,000 mph to destroy the Earth. Express your answer in Earth masses."
   ]
  },
  {
   "cell_type": "code",
   "execution_count": 0,
   "metadata": {
    "collapsed": false
   },
   "outputs": [
   ],
   "source": [
   ]
  },
  {
   "cell_type": "markdown",
   "metadata": {
    "collapsed": true
   },
   "source": [
    "### Due Mon Feb 4 - 1 pm\n",
    "- `Make sure to change the filename to your name!`\n",
    "- `Make sure to change the Title to your name!`\n",
    "- `Save your file to HTML: File -> Download as -> HTML`\n",
    "- `Upload the .html file to Canvas`"
   ]
  },
  {
   "cell_type": "code",
   "execution_count": 0,
   "metadata": {
    "collapsed": false
   },
   "outputs": [
   ],
   "source": [
   ]
  }
 ],
 "metadata": {
  "kernelspec": {
   "display_name": "Python 3 (Ubuntu Linux)",
   "language": "python",
   "name": "python3"
  },
  "language_info": {
   "codemirror_mode": {
    "name": "ipython",
    "version": 3
   },
   "file_extension": ".py",
   "mimetype": "text/x-python",
   "name": "python",
   "nbconvert_exporter": "python",
   "pygments_lexer": "ipython3",
   "version": "3.6.7"
  }
 },
 "nbformat": 4,
 "nbformat_minor": 0
}