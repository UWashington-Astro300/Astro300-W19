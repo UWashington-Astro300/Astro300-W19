{
 "cells": [
  {
   "cell_type": "markdown",
   "metadata": {
    "collapsed": false
   },
   "source": [
    "# The Astro 300 Python programming style guide"
   ]
  },
  {
   "cell_type": "markdown",
   "metadata": {
    "collapsed": false
   },
   "source": [
    "![XKCD Style](http://imgs.xkcd.com/comics/code_quality.png)"
   ]
  },
  {
   "cell_type": "markdown",
   "metadata": {
    "collapsed": false
   },
   "source": [
    "This notebook is a summary of the python programming style we will use in \n",
    "Astro 300.\n",
    "\n",
    "**Half** of your grade, on each assignment,\n",
    "will be based on how well your code follows these guidelines.\n",
    "\n",
    "These guidelines are a small subset of the \n",
    "[PEP 8](https://www.python.org/dev/peps/pep-0008/)\n",
    "programming style used by python developers."
   ]
  },
  {
   "cell_type": "markdown",
   "metadata": {
    "collapsed": false
   },
   "source": [
    "`|--------|---------|---------|---------|---------|---------|---------|---------`"
   ]
  },
  {
   "cell_type": "markdown",
   "metadata": {
    "collapsed": true
   },
   "source": [
    "# Variable Names\n",
    "\n",
    "- use only lowercase letters [a-z] and underscores [ _ ]\n",
    "- no blank spaces between the characters\n",
    "- avoid using a single character as a variable name\n",
    "- The purpose of the variable should be obvious from its name"
   ]
  },
  {
   "cell_type": "markdown",
   "metadata": {
    "collapsed": false
   },
   "source": [
    "###  *An Example:*\n",
    "\n",
    "You want to find the kinetic energy of a particle with mass 10 and velocity 20:\n",
    "\n",
    "$$ \\mathrm{Kinetic\\ Energy}\\ = \\frac{1}{2}\\ mv^2 $$ "
   ]
  },
  {
   "cell_type": "code",
   "execution_count": 0,
   "metadata": {
    "collapsed": false
   },
   "outputs": [
   ],
   "source": [
    "# Good - Full credit\n",
    "\n",
    "mass_particle = 10.0\n",
    "velocity_particle = 20.0\n",
    "\n",
    "kinetic_energy = 0.5 * mass_particle * (velocity_particle ** 2)\n",
    "\n",
    "print(kinetic_energy)"
   ]
  },
  {
   "cell_type": "code",
   "execution_count": 0,
   "metadata": {
    "collapsed": false
   },
   "outputs": [
   ],
   "source": [
    "# Bad - Half credit at best\n",
    "\n",
    "x = 10.0\n",
    "y = 20.0\n",
    "\n",
    "print(0.5*x*y**2)"
   ]
  },
  {
   "cell_type": "code",
   "execution_count": 0,
   "metadata": {
    "collapsed": false
   },
   "outputs": [
   ],
   "source": [
    "# Really bad - no credit\n",
    "\n",
    "print(0.5*10*20**2)"
   ]
  },
  {
   "cell_type": "markdown",
   "metadata": {
    "collapsed": false
   },
   "source": [
    "`|--------|---------|---------|---------|---------|---------|---------|---------`"
   ]
  },
  {
   "cell_type": "markdown",
   "metadata": {
    "collapsed": false
   },
   "source": [
    "# Function Names\n",
    "\n",
    "Use the same guidelines as for variable names"
   ]
  },
  {
   "cell_type": "code",
   "execution_count": 0,
   "metadata": {
    "collapsed": false
   },
   "outputs": [
   ],
   "source": [
    "# Good\n",
    "\n",
    "def find_kinetic_energy(mass_part, velocity_part):\n",
    "    \n",
    "    kinetic_energy = 0.5 * mass_part * velocity_part ** 2\n",
    "    return(kinetic_energy)"
   ]
  },
  {
   "cell_type": "code",
   "execution_count": 0,
   "metadata": {
    "collapsed": false
   },
   "outputs": [
   ],
   "source": [
    "# Bad\n",
    "\n",
    "def KE(x,y):\n",
    "    return(0.5*x*y**2)"
   ]
  },
  {
   "cell_type": "code",
   "execution_count": 0,
   "metadata": {
    "collapsed": false
   },
   "outputs": [
   ],
   "source": [
    "# Good\n",
    "\n",
    "mass_particle = 10.0\n",
    "velocity_particle = 20.0\n",
    "\n",
    "kinetic_energy = find_kinetic_energy(mass_particle,velocity_particle)\n",
    "\n",
    "print(kinetic_energy)"
   ]
  },
  {
   "cell_type": "code",
   "execution_count": 0,
   "metadata": {
    "collapsed": false
   },
   "outputs": [
   ],
   "source": [
    "# Bad\n",
    "\n",
    "print(KE(10,20))"
   ]
  },
  {
   "cell_type": "markdown",
   "metadata": {
    "collapsed": false
   },
   "source": [
    "`|--------|---------|---------|---------|---------|---------|---------|---------`"
   ]
  },
  {
   "cell_type": "markdown",
   "metadata": {
    "collapsed": false
   },
   "source": [
    "# Line Length\n",
    "\n",
    "- Limit all lines to a maximum of 79 characters\n",
    "- The piece that seperates the sections in this notebook is 79 characters long\n",
    "- If you have to scroll horizontally - your line is too long\n",
    "\n",
    "The preferred way of wrapping long lines is by using Python's implied line continuation\n",
    "inside parentheses (), brackets [] and braces {}. \n",
    "\n",
    "Long lines can be broken over multiple lines by wrapping expressions in parentheses."
   ]
  },
  {
   "cell_type": "markdown",
   "metadata": {
    "collapsed": false
   },
   "source": [
    "###  *An Example:*"
   ]
  },
  {
   "cell_type": "code",
   "execution_count": 0,
   "metadata": {
    "collapsed": false
   },
   "outputs": [
   ],
   "source": [
    "# Some variables to use in an equation\n",
    "\n",
    "gross_wages = 50000\n",
    "taxable_interest = 1000\n",
    "dividends = 50\n",
    "qualified_dividends = 10\n",
    "ira_deduction = 2000\n",
    "student_loan_interest = 3000\n",
    "medical_deduction = 1000"
   ]
  },
  {
   "cell_type": "code",
   "execution_count": 0,
   "metadata": {
    "collapsed": false
   },
   "outputs": [
   ],
   "source": [
    "# Good\n",
    "\n",
    "income = (gross_wages\n",
    "          + taxable_interest\n",
    "          + (dividends - qualified_dividends)\n",
    "          - ira_deduction\n",
    "          - student_loan_interest\n",
    "          - medical_deduction)\n",
    "\n",
    "print(income)"
   ]
  },
  {
   "cell_type": "code",
   "execution_count": 0,
   "metadata": {
    "collapsed": false
   },
   "outputs": [
   ],
   "source": [
    "# Bad\n",
    " \n",
    "income = gross_wages + taxable_interest + (dividends - qualified_dividends) - ira_deduction - student_loan_interest - medical_deduction\n",
    "\n",
    "print(income)"
   ]
  },
  {
   "cell_type": "markdown",
   "metadata": {
    "collapsed": false
   },
   "source": [
    "###  Long text can be wrapped in `\"\"\"`"
   ]
  },
  {
   "cell_type": "code",
   "execution_count": 0,
   "metadata": {
    "collapsed": false
   },
   "outputs": [
   ],
   "source": [
    "quote_the_raven = \"\"\"\n",
    "Once upon a midnight dreary, while I pondered, weak and weary,\n",
    "Over many a quaint and curious volume of forgotten lore—\n",
    "While I nodded, nearly napping, suddenly there came a tapping,\n",
    "As of some one gently rapping, rapping at my chamber door.\n",
    "\"Tis some visiter,\" I muttered, \"tapping at my chamber door—\n",
    "            Only this and nothing more.\"\n",
    "\"\"\""
   ]
  },
  {
   "cell_type": "code",
   "execution_count": 0,
   "metadata": {
    "collapsed": false
   },
   "outputs": [
   ],
   "source": [
    "print(quote_the_raven)"
   ]
  },
  {
   "cell_type": "markdown",
   "metadata": {
    "collapsed": false
   },
   "source": [
    "`|--------|---------|---------|---------|---------|---------|---------|---------`"
   ]
  },
  {
   "cell_type": "markdown",
   "metadata": {
    "collapsed": false
   },
   "source": [
    "## Spaces\n",
    "\n",
    "- Use spaces around math symbols\n",
    "\n",
    "`Yes: my_answer = 2 + 4`\n",
    "  \n",
    "`No:  my_answer=2+4`\n",
    "\n",
    "\n",
    "- Avoid spaces inside parentheses, brackets or braces, except after commas.\n",
    "\n",
    "`Yes: my_answer = spam(ham[1], {eggs: 2})`\n",
    "\n",
    "`No:  my_answer = spam( ham[ 1 ], { eggs: 2 } )`\n"
   ]
  },
  {
   "cell_type": "markdown",
   "metadata": {
    "collapsed": false
   },
   "source": [
    "# You should always try to make your code as readable as possible.\n",
    "\n",
    "### Feel free to break any of these rules if it makes your code easier to understand by *someone who has never seen your code.*"
   ]
  }
 ],
 "metadata": {
  "anaconda-cloud": {
  },
  "kernelspec": {
   "display_name": "Python 3 (Ubuntu Linux)",
   "language": "python",
   "name": "python3"
  },
  "language_info": {
   "codemirror_mode": {
    "name": "ipython",
    "version": 3
   },
   "file_extension": ".py",
   "mimetype": "text/x-python",
   "name": "python",
   "nbconvert_exporter": "python",
   "pygments_lexer": "ipython3",
   "version": "3.6.7"
  }
 },
 "nbformat": 4,
 "nbformat_minor": 0
}