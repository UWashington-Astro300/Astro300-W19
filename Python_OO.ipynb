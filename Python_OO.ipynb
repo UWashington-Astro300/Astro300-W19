{
 "cells": [
  {
   "cell_type": "markdown",
   "metadata": {
    "collapsed": false
   },
   "source": [
    "# Object-oriented programming\n",
    "\n",
    "There are many different ways to program in Python. In this class we will be (mostly) programing in what is \n",
    "called the [*Procedural*](https://en.wikipedia.org/wiki/Procedural_programming) style.\n",
    "However, at its heart, Python is an [*Objected-Oriented*](https://en.wikipedia.org/wiki/Object-oriented_programming) programming language.\n",
    "The *Objected-Oriented* style of programming has many advantages, but is less straightforward than *Procedural* programming\n",
    "\n",
    "As you progress in your programming life, there will come a time when you find that moving to the *Objected-Oriented* paradigm will make your life easier.\n",
    "\n",
    "I would like to say I created this introduction to aid in your exploration of *Objected-Oriented* Python, but I did not. I just shamelessly stole and modified [Brett Morris'](https://github.com/bmorris3/2016_astro_bootcamp/blob/master/intro_to_oo.ipynb) awesome work."
   ]
  },
  {
   "cell_type": "markdown",
   "metadata": {
    "collapsed": false
   },
   "source": [
    "## Example - Asteroids\n",
    "\n",
    "In our introduction to Python, we used a dataset of main belt asteroids. \n",
    "\n",
    "This dataset contained the following data for the asteroids:\n",
    "\n",
    "* Names\n",
    "* Absolute Magnitudes (H)\n",
    "* Albedo (A)\n",
    "\n",
    "Let us work with this data from an *Objected-Oriented* point of view.\n",
    "\n",
    "## Defining a new object\n",
    "\n",
    "To create a new object, you use the `class` command, rather than the `def` command that you would use for functions,\n",
    "```python\n",
    "class SpaceRock(object):\n",
    "```\n",
    "We've named the new object `SpaceRock` - object names in python should be uppercase without underscores separating words (whereas functions are usually all lowercase and words are separated by underscores). \n",
    "\n",
    "\n",
    "### The `__init__` method\n",
    "\n",
    "Now we will define how you call the `SpaceRock` constructor (the call that creates new `SpaceRock` objects). Let's say you want to be able to create a asteroid like this...\n",
    "\n",
    "```python\n",
    "new_asteroid = SpaceRock(name=my_name, ab_mag=my_ab_mag, albedo=my_albedo)\n",
    "```\n",
    "All Python objects get initialized with a function called `__init__` defined within the class, like this: \n",
    "```python\n",
    "class SpaceRock(object):\n",
    "    def __init__(self, name=None, ab_mag=None, albedo=None):\n",
    "```\n",
    "You define the `__init__` function like all other functions, except that the first argument is always called `self`. This `self` is the shorthand variable that you use to refer to the `SpaceRock` object within the `__init__` method.\n",
    "\n",
    "\n",
    "### Attributes\n",
    "\n",
    "Objects have _attributes_, which are like variables stored on an object. We'll want to store the values above into the `SpaceRock` object, each with their own attribute, like this: \n",
    "\n",
    "```python\n",
    "class SpaceRock(object):\n",
    "    def __init__(self, name=None, ab_mag=None, albedo=None):\n",
    "        self.name = name\n",
    "        self.ab_mag = ab_mag\n",
    "        self.albedo = albedo        \n",
    "```\n",
    "Each attribute is defined by setting `self.<attribute name> = <value>`. All attributes should be defined within the `__init__` method. "
   ]
  },
  {
   "cell_type": "markdown",
   "metadata": {
    "collapsed": false
   },
   "source": [
    "## A Working Example\n",
    "\n",
    "Let's now create an instance of the `SpaceRock` object, and see how it works: "
   ]
  },
  {
   "cell_type": "code",
   "execution_count": 0,
   "metadata": {
    "collapsed": false
   },
   "outputs": [
   ],
   "source": [
    "import numpy as np\n",
    "from astropy import units as u"
   ]
  },
  {
   "cell_type": "code",
   "execution_count": 0,
   "metadata": {
    "collapsed": false
   },
   "outputs": [
   ],
   "source": [
    "class SpaceRock(object):\n",
    "    \n",
    "    def __init__(self, name=None, ab_mag=None, albedo=None):\n",
    "        self.name = name\n",
    "        self.ab_mag = ab_mag\n",
    "        self.albedo = albedo        "
   ]
  },
  {
   "cell_type": "code",
   "execution_count": 0,
   "metadata": {
    "collapsed": false
   },
   "outputs": [
   ],
   "source": [
    "# Create some fake data:\n",
    "\n",
    "my_name = \"Geralt of Rivia\"\n",
    "my_ab_mag = 5.13\n",
    "my_albedo = 0.131\n",
    "\n",
    "# Initialize a SpaceRock object:\n",
    "\n",
    "new_asteroid = SpaceRock(name=my_name, ab_mag=my_ab_mag, albedo=my_albedo)"
   ]
  },
  {
   "cell_type": "markdown",
   "metadata": {
    "collapsed": false
   },
   "source": [
    "We can see what values are stored in each attribute like this: "
   ]
  },
  {
   "cell_type": "code",
   "execution_count": 0,
   "metadata": {
    "collapsed": false
   },
   "outputs": [
   ],
   "source": [
    "new_asteroid.name"
   ]
  },
  {
   "cell_type": "code",
   "execution_count": 0,
   "metadata": {
    "collapsed": false
   },
   "outputs": [
   ],
   "source": [
    "new_asteroid.albedo"
   ]
  },
  {
   "cell_type": "markdown",
   "metadata": {
    "collapsed": false
   },
   "source": [
    "### Methods\n",
    "\n",
    "So far this just looks like another way to store your data. It becomes more powerful when you write _methods_ for your object. \n",
    "\n",
    "**Methods** can be thought of as functions associated with an object.\n",
    "\n",
    "You can now access the attributes of the object within methods by calling `self.<attribute name>`.\n",
    "\n",
    "Let's make a simple method for the `SpaceRock` object, which determines the size of the asteroid."
   ]
  },
  {
   "cell_type": "code",
   "execution_count": 0,
   "metadata": {
    "collapsed": false
   },
   "outputs": [
   ],
   "source": [
    "class SpaceRock(object):\n",
    "    \n",
    "    def __init__(self, name=None, ab_mag=None, albedo=None):\n",
    "        self.name = name\n",
    "        self.ab_mag = ab_mag\n",
    "        self.albedo = albedo\n",
    "        \n",
    "    def diameter(self):\n",
    "        result = (1329.0 / np.sqrt(self.albedo)) * (10 ** (-0.2 * self.ab_mag))\n",
    "        return result * u.km"
   ]
  },
  {
   "cell_type": "markdown",
   "metadata": {
    "collapsed": false
   },
   "source": [
    "### To use a method you need to add `()` to the end of the method"
   ]
  },
  {
   "cell_type": "code",
   "execution_count": 0,
   "metadata": {
    "collapsed": false
   },
   "outputs": [
   ],
   "source": [
    "new_asteroid = SpaceRock(name=my_name, ab_mag=my_ab_mag, albedo=my_albedo)\n",
    "\n",
    "new_asteroid.diameter()"
   ]
  },
  {
   "cell_type": "markdown",
   "metadata": {
    "collapsed": false
   },
   "source": [
    "### Real data\n",
    "\n",
    "Lets use some real data. A short version of the `MainBelt.csv` dataset."
   ]
  },
  {
   "cell_type": "code",
   "execution_count": 0,
   "metadata": {
    "collapsed": false
   },
   "outputs": [
   ],
   "source": [
    "import pandas as pd"
   ]
  },
  {
   "cell_type": "code",
   "execution_count": 0,
   "metadata": {
    "collapsed": false
   },
   "outputs": [
   ],
   "source": [
    "rock_table = pd.read_csv('./Data/MainBelt_small.csv')"
   ]
  },
  {
   "cell_type": "code",
   "execution_count": 0,
   "metadata": {
    "collapsed": false
   },
   "outputs": [
   ],
   "source": [
    "print(rock_table)"
   ]
  },
  {
   "cell_type": "markdown",
   "metadata": {
    "collapsed": false
   },
   "source": [
    "##### Since we are using `pandas` and `units` we have to pull the values from the table with the `.values` method:"
   ]
  },
  {
   "cell_type": "code",
   "execution_count": 0,
   "metadata": {
    "collapsed": false
   },
   "outputs": [
   ],
   "source": [
    "my_name = rock_table['Name'].values\n",
    "my_ab_mag = rock_table['H'].values\n",
    "my_albedo = rock_table['A'].values\n",
    "\n",
    "rocks = SpaceRock(name=my_name,\n",
    "                  ab_mag=my_ab_mag,\n",
    "                  albedo=my_albedo)"
   ]
  },
  {
   "cell_type": "code",
   "execution_count": 0,
   "metadata": {
    "collapsed": false
   },
   "outputs": [
   ],
   "source": [
    "rocks.diameter()"
   ]
  },
  {
   "cell_type": "markdown",
   "metadata": {
    "collapsed": false
   },
   "source": [
    "One of the nice things about creating a `Class` is that all of the methods within the `Class` know about each other.\n",
    "\n",
    "For example: I want to create a new method that uses the results of the `diameter` method I already defined.\n",
    "\n",
    "Easy, just use the variable `self.diameter()` in my new method"
   ]
  },
  {
   "cell_type": "code",
   "execution_count": 0,
   "metadata": {
    "collapsed": false
   },
   "outputs": [
   ],
   "source": [
    "class SpaceRock(object):\n",
    "    \n",
    "    def __init__(self, name=None, ab_mag=None, albedo=None):\n",
    "        self.name = name\n",
    "        self.ab_mag = ab_mag\n",
    "        self.albedo = albedo\n",
    "        \n",
    "    def diameter(self):\n",
    "        result = (1329.0 / np.sqrt(self.albedo)) * (10 ** (-0.2 * self.ab_mag))\n",
    "        return result * u.km\n",
    "    \n",
    "    def two_diameter(self):\n",
    "        result = 2.0 * self.diameter()\n",
    "        return result"
   ]
  },
  {
   "cell_type": "code",
   "execution_count": 0,
   "metadata": {
    "collapsed": false
   },
   "outputs": [
   ],
   "source": [
    "rocks = SpaceRock(name=my_name,\n",
    "                  ab_mag=my_ab_mag,\n",
    "                  albedo=my_albedo)"
   ]
  },
  {
   "cell_type": "code",
   "execution_count": 0,
   "metadata": {
    "collapsed": false
   },
   "outputs": [
   ],
   "source": [
    "rocks.diameter()"
   ]
  },
  {
   "cell_type": "code",
   "execution_count": 0,
   "metadata": {
    "collapsed": false
   },
   "outputs": [
   ],
   "source": [
    "rocks.two_diameter()"
   ]
  },
  {
   "cell_type": "markdown",
   "metadata": {
    "collapsed": false
   },
   "source": [
    "As you modify your `Class` all of the methods within the `Class` know about the modifications.\n",
    "\n",
    "For example: Let us add some more attributes to our Asteroid data."
   ]
  },
  {
   "cell_type": "code",
   "execution_count": 0,
   "metadata": {
    "collapsed": false
   },
   "outputs": [
   ],
   "source": [
    "class SpaceRock(object):\n",
    "    \n",
    "    def __init__(self, name = None, ab_mag = None, albedo = None, \n",
    "                 semi_major= None, ecc = None):\n",
    "        \n",
    "        self.name = name\n",
    "        self.ab_mag = ab_mag\n",
    "        self.albedo = albedo\n",
    "        self.semi_major = semi_major\n",
    "        self.ecc = ecc\n",
    "        \n",
    "    def diameter(self):\n",
    "        result = (1329.0 / np.sqrt(self.albedo)) * (10 ** (-0.2 * self.ab_mag))\n",
    "        return result * u.km\n",
    "    \n",
    "    def two_diameter(self):\n",
    "        result = 2.0 * self.diameter()\n",
    "        return result\n",
    "    \n",
    "    def find_perihelion(self):\n",
    "        result = self.semi_major * ( 1.0 - self.ecc )\n",
    "        return result * u.AU\n",
    "    "
   ]
  },
  {
   "cell_type": "code",
   "execution_count": 0,
   "metadata": {
    "collapsed": false
   },
   "outputs": [
   ],
   "source": [
    "my_name = rock_table['Name'].values\n",
    "my_ab_mag = rock_table['H'].values\n",
    "my_albedo = rock_table['A'].values\n",
    "my_semi_major = rock_table['a'].values\n",
    "my_ecc = rock_table['ecc'].values\n",
    "\n",
    "more_rocks = SpaceRock(name=my_name,\n",
    "                       ecc = my_ecc,\n",
    "                       semi_major=my_semi_major,\n",
    "                       ab_mag=my_ab_mag,\n",
    "                       albedo=my_albedo)"
   ]
  },
  {
   "cell_type": "code",
   "execution_count": 0,
   "metadata": {
    "collapsed": false
   },
   "outputs": [
   ],
   "source": [
    "more_rocks.diameter()"
   ]
  },
  {
   "cell_type": "code",
   "execution_count": 0,
   "metadata": {
    "collapsed": false
   },
   "outputs": [
   ],
   "source": [
    "more_rocks.find_perihelion()"
   ]
  },
  {
   "cell_type": "code",
   "execution_count": 0,
   "metadata": {
    "collapsed": false
   },
   "outputs": [
   ],
   "source": [
    "for idx,value in enumerate(more_rocks.find_perihelion()):\n",
    "\n",
    "    rock_name = more_rocks.name[idx]\n",
    "\n",
    "    my_string = \"The Asteroid {0} has a perihelion distance of {1:.2f}\".format(rock_name.strip(), value)\n",
    "\n",
    "    print(my_string)"
   ]
  },
  {
   "cell_type": "markdown",
   "metadata": {
    "collapsed": true
   },
   "source": [
    "## Documentation\n",
    "\n",
    "If you want to share your code with collaborators or with your future self, you should include documentation. We've neglected that above, so let's add in some _docstrings_!"
   ]
  },
  {
   "cell_type": "code",
   "execution_count": 0,
   "metadata": {
    "collapsed": false
   },
   "outputs": [
   ],
   "source": [
    "class SpaceRock(object):\n",
    "    \n",
    "    \"\"\"Container for Asteroids\"\"\"\n",
    "    \n",
    "    def __init__(self, name = None, ab_mag = None, albedo = None, \n",
    "                 semi_major= None, ecc = None):\n",
    "        \n",
    "        \"\"\"\n",
    "        Parameters\n",
    "        ----------\n",
    "        name : string\n",
    "            Name of the target\n",
    "        ab_mag : array-like\n",
    "            Absolute Magnitude of each Asteroid\n",
    "        albedo : array-like\n",
    "            Albedo of each Asteroid\n",
    "        semi_major : array-like\n",
    "            Semi Major Axis of each Asteroid in AU\n",
    "        ecc : array-like\n",
    "            Eccentricity of each Asteroid\n",
    "        \"\"\"\n",
    "        \n",
    "        self.name = name\n",
    "        self.ab_mag = ab_mag\n",
    "        self.albedo = albedo\n",
    "        self.semi_major = semi_major\n",
    "        self.ecc = ecc\n",
    "        \n",
    "    def diameter(self):\n",
    "        \"\"\"\n",
    "        Determine the diameter (in km) of the Asteroids\n",
    "        \"\"\"\n",
    "        result = (1329.0 / np.sqrt(self.albedo)) * (10 ** (-0.2 * self.ab_mag))\n",
    "        return result * u.km\n",
    "    \n",
    "    def two_diameter(self):\n",
    "        \"\"\"\n",
    "        Determine twice the diameter (in km) of the Asteroids\n",
    "        \"\"\"\n",
    "        result = 2.0 * self.diameter()\n",
    "        return result\n",
    "    \n",
    "    def find_perihelion(self):\n",
    "        \"\"\"\n",
    "        Determine the perihelion distance of the Asteroids in AU\n",
    "        \"\"\"\n",
    "        result = self.semi_major * ( 1.0 - self.ecc )\n",
    "        return result * u.AU"
   ]
  },
  {
   "cell_type": "code",
   "execution_count": 0,
   "metadata": {
    "collapsed": false
   },
   "outputs": [
   ],
   "source": [
    "rocks = (SpaceRock(name=my_name, ecc = my_ecc, semi_major=my_semi_major, \n",
    "                   ab_mag=my_ab_mag, albedo=my_albedo))"
   ]
  },
  {
   "cell_type": "markdown",
   "metadata": {
    "collapsed": false
   },
   "source": [
    "Now you can see the documentation on the module within the Notebooks by typing\n",
    "```\n",
    "rocks?\n",
    "```\n",
    "...you can see the documentation for each method by typing\n",
    "```\n",
    "rocks.diameter?\n",
    "```"
   ]
  },
  {
   "cell_type": "code",
   "execution_count": 0,
   "metadata": {
    "collapsed": true
   },
   "outputs": [
   ],
   "source": [
    "rocks?"
   ]
  },
  {
   "cell_type": "code",
   "execution_count": 0,
   "metadata": {
    "collapsed": true
   },
   "outputs": [
   ],
   "source": [
    "rocks.diameter?"
   ]
  },
  {
   "cell_type": "code",
   "execution_count": 0,
   "metadata": {
    "collapsed": false
   },
   "outputs": [
   ],
   "source": [
   ]
  }
 ],
 "metadata": {
  "anaconda-cloud": {
  },
  "kernelspec": {
   "display_name": "Python 3 (Ubuntu Linux)",
   "language": "python",
   "name": "python3"
  },
  "language_info": {
   "codemirror_mode": {
    "name": "ipython",
    "version": 3
   },
   "file_extension": ".py",
   "mimetype": "text/x-python",
   "name": "python",
   "nbconvert_exporter": "python",
   "pygments_lexer": "ipython3",
   "version": "3.5.2"
  }
 },
 "nbformat": 4,
 "nbformat_minor": 0
}