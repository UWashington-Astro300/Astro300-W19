{
 "cells": [
  {
   "cell_type": "markdown",
   "metadata": {
    "collapsed": false
   },
   "source": [
    "# Fitting Data"
   ]
  },
  {
   "cell_type": "code",
   "execution_count": 0,
   "metadata": {
    "collapsed": false
   },
   "outputs": [
   ],
   "source": [
    "%matplotlib inline\n",
    "\n",
    "import matplotlib.pyplot as plt\n",
    "import pandas as pd\n",
    "import numpy as np"
   ]
  },
  {
   "cell_type": "code",
   "execution_count": 0,
   "metadata": {
    "collapsed": false
   },
   "outputs": [
   ],
   "source": [
    "plt.style.use('ggplot')"
   ]
  },
  {
   "cell_type": "code",
   "execution_count": 0,
   "metadata": {
    "collapsed": false
   },
   "outputs": [
   ],
   "source": [
    "my_data1 = pd.read_csv('./Data/fit_data1.csv')\n",
    "my_data1[0:1]"
   ]
  },
  {
   "cell_type": "code",
   "execution_count": 0,
   "metadata": {
    "collapsed": false
   },
   "outputs": [
   ],
   "source": [
    "fig,ax = plt.subplots(1,1)\n",
    "fig.set_size_inches(6,4)\n",
    "\n",
    "fig.tight_layout()\n",
    "\n",
    "ax.set_xlabel(\"This is X\")\n",
    "ax.set_ylabel(\"This is Y\")\n",
    "\n",
    "ax.plot(my_data1['x'],my_data1['y'], color = \"m\",\n",
    "        marker=\"o\",linestyle=\"None\",markersize=10);"
   ]
  },
  {
   "cell_type": "markdown",
   "metadata": {
    "collapsed": false
   },
   "source": [
    "## `np.polyfit(x-data array, y-data array, order-of-fit)`\n",
    "\n",
    "### First-order fitting:  $f(x) = ax + b$"
   ]
  },
  {
   "cell_type": "code",
   "execution_count": 0,
   "metadata": {
    "collapsed": false
   },
   "outputs": [
   ],
   "source": [
    "my_fit1 = np.polyfit(my_data1['x'],my_data1['y'],1)\n",
    "\n",
    "my_fit1       # The coefficients of the fit (a,b)"
   ]
  },
  {
   "cell_type": "markdown",
   "metadata": {
    "collapsed": false
   },
   "source": [
    "### You can use `np.poly1d(fit-parameters)` to plot and explore the fitted polynomial"
   ]
  },
  {
   "cell_type": "code",
   "execution_count": 0,
   "metadata": {
    "collapsed": false
   },
   "outputs": [
   ],
   "source": [
    "fitted_polynomial = np.poly1d(my_fit1)"
   ]
  },
  {
   "cell_type": "code",
   "execution_count": 0,
   "metadata": {
    "collapsed": false
   },
   "outputs": [
   ],
   "source": [
    "fitted_polynomial(my_data1['x'])"
   ]
  },
  {
   "cell_type": "code",
   "execution_count": 0,
   "metadata": {
    "collapsed": false
   },
   "outputs": [
   ],
   "source": [
    "fig,ax = plt.subplots(1,1)\n",
    "fig.set_size_inches(6,4)\n",
    "\n",
    "fig.tight_layout()\n",
    "\n",
    "ax.set_xlabel(\"This is X\")\n",
    "ax.set_ylabel(\"This is Y\")\n",
    "\n",
    "ax.plot(my_data1['x'], fitted_polynomial(my_data1['x']),\n",
    "        linewidth=5, color='y', linestyle='--',\n",
    "        label=\"Fit to Data\")\n",
    "\n",
    "ax.plot(my_data1['x'], my_data1['y'], color = \"m\",\n",
    "        marker=\"o\", linestyle=\"None\", markersize=10,\n",
    "        label = \"Data\")\n",
    "\n",
    "ax.legend(loc=0);"
   ]
  },
  {
   "cell_type": "code",
   "execution_count": 0,
   "metadata": {
    "collapsed": false
   },
   "outputs": [
   ],
   "source": [
    "fitted_polynomial(5)                 # value of f(x) at x = 5"
   ]
  },
  {
   "cell_type": "code",
   "execution_count": 0,
   "metadata": {
    "collapsed": false
   },
   "outputs": [
   ],
   "source": [
    "fitted_polynomial.roots              # value of x at f(x) = 0"
   ]
  },
  {
   "cell_type": "code",
   "execution_count": 0,
   "metadata": {
    "collapsed": false
   },
   "outputs": [
   ],
   "source": [
    "(fitted_polynomial - 40).roots       # value of x at f(x) = 40"
   ]
  },
  {
   "cell_type": "markdown",
   "metadata": {
    "collapsed": false
   },
   "source": [
    "### Second-order fitting:  $f(x) = ax^2 + bx + c$"
   ]
  },
  {
   "cell_type": "code",
   "execution_count": 0,
   "metadata": {
    "collapsed": false
   },
   "outputs": [
   ],
   "source": [
    "my_data2 = pd.read_csv('./Data/fit_data2.csv')"
   ]
  },
  {
   "cell_type": "code",
   "execution_count": 0,
   "metadata": {
    "collapsed": false
   },
   "outputs": [
   ],
   "source": [
    "fig,ax = plt.subplots(1,1)\n",
    "fig.set_size_inches(6,4)\n",
    "\n",
    "fig.tight_layout()\n",
    "\n",
    "ax.set_xlabel(\"This is X\")\n",
    "ax.set_ylabel(\"This is Y\")\n",
    "\n",
    "ax.plot(my_data2['x'],my_data2['y'], color = \"m\",\n",
    "        marker=\"o\",linestyle=\"None\",markersize=10);"
   ]
  },
  {
   "cell_type": "code",
   "execution_count": 0,
   "metadata": {
    "collapsed": false
   },
   "outputs": [
   ],
   "source": [
    "my_fit2 = np.polyfit(my_data2['x'],my_data2['y'],2)\n",
    "\n",
    "my_fit2"
   ]
  },
  {
   "cell_type": "code",
   "execution_count": 0,
   "metadata": {
    "collapsed": false
   },
   "outputs": [
   ],
   "source": [
    "fitted_polynomial = np.poly1d(my_fit2)"
   ]
  },
  {
   "cell_type": "code",
   "execution_count": 0,
   "metadata": {
    "collapsed": false
   },
   "outputs": [
   ],
   "source": [
    "fig,ax = plt.subplots(1,1)\n",
    "fig.set_size_inches(6,4)\n",
    "\n",
    "fig.tight_layout()\n",
    "\n",
    "ax.set_xlabel(\"This is X\")\n",
    "ax.set_ylabel(\"This is Y\")\n",
    "\n",
    "ax.plot(my_data2['x'], fitted_polynomial(my_data2['x']),\n",
    "        linewidth=5, color='y', linestyle='--',\n",
    "        label=\"Fit to Data\")\n",
    "\n",
    "ax.plot(my_data2['x'], my_data2['y'], color = \"m\",\n",
    "        marker=\"o\", linestyle=\"None\", markersize=10,\n",
    "        label = \"Data\")\n",
    "\n",
    "ax.legend(loc=0);"
   ]
  },
  {
   "cell_type": "code",
   "execution_count": 0,
   "metadata": {
    "collapsed": false
   },
   "outputs": [
   ],
   "source": [
    "fitted_polynomial(5)                 # value of f(x) at x = 5"
   ]
  },
  {
   "cell_type": "code",
   "execution_count": 0,
   "metadata": {
    "collapsed": false
   },
   "outputs": [
   ],
   "source": [
    "fitted_polynomial.roots              # value of x at f(x) = 0"
   ]
  },
  {
   "cell_type": "code",
   "execution_count": 0,
   "metadata": {
    "collapsed": false
   },
   "outputs": [
   ],
   "source": [
    "(fitted_polynomial - 20).roots       # value of x at f(x) = 20"
   ]
  },
  {
   "cell_type": "code",
   "execution_count": 0,
   "metadata": {
    "collapsed": false
   },
   "outputs": [
   ],
   "source": [
    "(fitted_polynomial - 80).roots       # value of x at f(x) = 80, no real root"
   ]
  },
  {
   "cell_type": "markdown",
   "metadata": {
    "collapsed": false
   },
   "source": [
    "### Side Topic - Complex Numbers\n",
    "\n",
    "* Python uses `j` for the imaginary  part of a complex number\n",
    "* `numpy` has *some* support for complex numbers\n",
    "* `cmath` (complex math) is much better"
   ]
  },
  {
   "cell_type": "code",
   "execution_count": 0,
   "metadata": {
    "collapsed": false
   },
   "outputs": [
   ],
   "source": [
    "my_complex = (fitted_polynomial - 80).roots"
   ]
  },
  {
   "cell_type": "code",
   "execution_count": 0,
   "metadata": {
    "collapsed": false
   },
   "outputs": [
   ],
   "source": [
    "my_complex[0]"
   ]
  },
  {
   "cell_type": "code",
   "execution_count": 0,
   "metadata": {
    "collapsed": false
   },
   "outputs": [
   ],
   "source": [
    "my_complex[0].real"
   ]
  },
  {
   "cell_type": "code",
   "execution_count": 0,
   "metadata": {
    "collapsed": false
   },
   "outputs": [
   ],
   "source": [
    "my_complex[0].imag"
   ]
  },
  {
   "cell_type": "code",
   "execution_count": 0,
   "metadata": {
    "collapsed": false
   },
   "outputs": [
   ],
   "source": [
    "number_array = [1+1j, 1+0j, 4.5, 3, 2, 2j]"
   ]
  },
  {
   "cell_type": "code",
   "execution_count": 0,
   "metadata": {
    "collapsed": false
   },
   "outputs": [
   ],
   "source": [
    "np.isreal(number_array)"
   ]
  },
  {
   "cell_type": "code",
   "execution_count": 0,
   "metadata": {
    "collapsed": false
   },
   "outputs": [
   ],
   "source": [
    "np.iscomplex(number_array)"
   ]
  },
  {
   "cell_type": "code",
   "execution_count": 0,
   "metadata": {
    "collapsed": false
   },
   "outputs": [
   ],
   "source": [
    "np.sqrt(-1)"
   ]
  },
  {
   "cell_type": "code",
   "execution_count": 0,
   "metadata": {
    "collapsed": false
   },
   "outputs": [
   ],
   "source": [
    "import cmath as cx"
   ]
  },
  {
   "cell_type": "code",
   "execution_count": 0,
   "metadata": {
    "collapsed": false
   },
   "outputs": [
   ],
   "source": [
    "cx.sqrt(-1)"
   ]
  },
  {
   "cell_type": "markdown",
   "metadata": {
    "collapsed": false
   },
   "source": [
    "### Be careful! Very high-order fits may be garbage"
   ]
  },
  {
   "cell_type": "code",
   "execution_count": 0,
   "metadata": {
    "collapsed": false
   },
   "outputs": [
   ],
   "source": [
    "my_fit3 = np.polyfit(my_data1['x'],my_data1['y'],10)\n",
    "\n",
    "fitted_polynomial = np.poly1d(my_fit3)"
   ]
  },
  {
   "cell_type": "code",
   "execution_count": 0,
   "metadata": {
    "collapsed": false
   },
   "outputs": [
   ],
   "source": [
    "fig,ax = plt.subplots(1,1)\n",
    "fig.set_size_inches(6,4)\n",
    "\n",
    "fig.tight_layout()\n",
    "\n",
    "ax.set_xlabel(\"This is X\")\n",
    "ax.set_ylabel(\"This is Y\")\n",
    "\n",
    "ax.set_ylim(-20,120)\n",
    "\n",
    "xx = np.linspace(0,10,200)\n",
    "\n",
    "ax.plot(xx, fitted_polynomial(xx), \n",
    "        linewidth=5, color='y', linestyle='-', \n",
    "        label=\"Fit to Data\")\n",
    "\n",
    "ax.plot(my_data1['x'], my_data1['y'], color = \"m\",\n",
    "        marker=\"o\", linestyle=\"None\", markersize=15,\n",
    "        label=\"Data\")\n",
    "\n",
    "ax.legend(loc=0);"
   ]
  },
  {
   "cell_type": "markdown",
   "metadata": {
    "collapsed": false
   },
   "source": [
    "### Side Topic - The unpack operator (**\\***)\n",
    "\n",
    " * The unpacking operator takes a list and unpacks each value and sends each, in order.\n",
    " * It makes a list **iterable**"
   ]
  },
  {
   "cell_type": "code",
   "execution_count": 0,
   "metadata": {
    "collapsed": false
   },
   "outputs": [
   ],
   "source": [
    "my_list = [3.1, 5.6, 11.5, 19.6]"
   ]
  },
  {
   "cell_type": "code",
   "execution_count": 0,
   "metadata": {
    "collapsed": false
   },
   "outputs": [
   ],
   "source": [
    "def some_numbers(a, b, c, d):\n",
    "    my_string = \"I have four numbers: {0}, {1}, {2}, and {3}\".format(a,b,c,d)\n",
    "    print(my_string)"
   ]
  },
  {
   "cell_type": "markdown",
   "metadata": {
    "collapsed": false
   },
   "source": [
    "##### This will not work as the list (`my_list`) is sent as one blob:"
   ]
  },
  {
   "cell_type": "code",
   "execution_count": 0,
   "metadata": {
    "collapsed": false
   },
   "outputs": [
   ],
   "source": [
    "some_numbers(my_list)"
   ]
  },
  {
   "cell_type": "markdown",
   "metadata": {
    "collapsed": false
   },
   "source": [
    "##### This **will** work as the list (`*my_list`) is unpacked and sent as 4 pieces:"
   ]
  },
  {
   "cell_type": "code",
   "execution_count": 0,
   "metadata": {
    "collapsed": false
   },
   "outputs": [
   ],
   "source": [
    "some_numbers(*my_list)"
   ]
  },
  {
   "cell_type": "markdown",
   "metadata": {
    "collapsed": false
   },
   "source": [
    "# Fitting a specific function - `curve_fit`"
   ]
  },
  {
   "cell_type": "code",
   "execution_count": 0,
   "metadata": {
    "collapsed": false
   },
   "outputs": [
   ],
   "source": [
    "from scipy.optimize import curve_fit"
   ]
  },
  {
   "cell_type": "code",
   "execution_count": 0,
   "metadata": {
    "collapsed": false
   },
   "outputs": [
   ],
   "source": [
    "my_data3 = pd.read_csv('./Data/fit_data3.csv')"
   ]
  },
  {
   "cell_type": "code",
   "execution_count": 0,
   "metadata": {
    "collapsed": false
   },
   "outputs": [
   ],
   "source": [
    "fig,ax = plt.subplots(1,1)\n",
    "fig.set_size_inches(6,4)\n",
    "\n",
    "fig.tight_layout()\n",
    "\n",
    "ax.set_ylim(-100,140)\n",
    "\n",
    "ax.set_xlabel(\"This is X\")\n",
    "ax.set_ylabel(\"This is Y\")\n",
    "\n",
    "ax.plot(my_data3['x'],my_data3['y'], color = \"m\",\n",
    "        marker=\"o\",linestyle=\"None\",markersize=10);"
   ]
  },
  {
   "cell_type": "markdown",
   "metadata": {
    "collapsed": false
   },
   "source": [
    "$$ \\Large f(x) = a \\sin(bx) $$"
   ]
  },
  {
   "cell_type": "code",
   "execution_count": 0,
   "metadata": {
    "collapsed": false
   },
   "outputs": [
   ],
   "source": [
    "def ringo(x,a,b):\n",
    "    return a*np.sin(b*x)"
   ]
  },
  {
   "cell_type": "markdown",
   "metadata": {
    "collapsed": false
   },
   "source": [
    "##### You need to provide an initial guess to the parameters `a` and `b`"
   ]
  },
  {
   "cell_type": "code",
   "execution_count": 0,
   "metadata": {
    "collapsed": false
   },
   "outputs": [
   ],
   "source": [
    "my_guess_a = 75.0\n",
    "my_guess_b = 1.0/5.0\n",
    "\n",
    "init_guesses = [my_guess_a, my_guess_b]"
   ]
  },
  {
   "cell_type": "markdown",
   "metadata": {
    "collapsed": false
   },
   "source": [
    "#### My Parameters:\n",
    "\n",
    "* `Function to fit = ringo`\n",
    "* `X points to fit = my_data3['x']`\n",
    "* `Y points to fit = my_data3['y']`\n",
    "* `Initial guess at values for a,b = init_guesses`"
   ]
  },
  {
   "cell_type": "code",
   "execution_count": 0,
   "metadata": {
    "collapsed": false
   },
   "outputs": [
   ],
   "source": [
    "fitpars, error = curve_fit(ringo,my_data3['x'],my_data3['y'],p0=init_guesses)\n",
    "\n",
    "print(fitpars)"
   ]
  },
  {
   "cell_type": "code",
   "execution_count": 0,
   "metadata": {
    "collapsed": false
   },
   "outputs": [
   ],
   "source": [
    "Z = np.linspace(0,100,1000)\n",
    "\n",
    "fig,ax = plt.subplots(1,1)\n",
    "fig.set_size_inches(6,4)\n",
    "\n",
    "fig.tight_layout()\n",
    "\n",
    "ax.set_ylim(-100,140)\n",
    "\n",
    "ax.set_xlabel(\"This is X\")\n",
    "ax.set_ylabel(\"This is Y\")\n",
    "\n",
    "ax.plot(my_data3['x'],my_data3['y'], color = \"m\",\n",
    "        marker=\"o\", linestyle=\"None\", markersize=10,\n",
    "        label = \"Data\")\n",
    "\n",
    "ax.plot(Z, ringo(Z, *init_guesses),\n",
    "        'g--', linewidth=3,\n",
    "        label = \"Initial Guess\")\n",
    "\n",
    "ax.plot(Z, ringo(Z, *fitpars),\n",
    "        'y-',  linewidth=3,\n",
    "        label = \"Fit to Data\")\n",
    "\n",
    "ax.legend(loc=0);"
   ]
  },
  {
   "cell_type": "markdown",
   "metadata": {
    "collapsed": false
   },
   "source": [
    "### Bad initial guesses can lead to very bad fits"
   ]
  },
  {
   "cell_type": "code",
   "execution_count": 0,
   "metadata": {
    "collapsed": false
   },
   "outputs": [
   ],
   "source": [
    "my_guess_a = 35.0\n",
    "my_guess_b = 1.0\n",
    "\n",
    "init_guesses = [my_guess_a, my_guess_b]"
   ]
  },
  {
   "cell_type": "code",
   "execution_count": 0,
   "metadata": {
    "collapsed": false
   },
   "outputs": [
   ],
   "source": [
    "fitpars, error = curve_fit(ringo,my_data3['x'],my_data3['y'],p0=init_guesses)\n",
    "\n",
    "print(fitpars)"
   ]
  },
  {
   "cell_type": "code",
   "execution_count": 0,
   "metadata": {
    "collapsed": false
   },
   "outputs": [
   ],
   "source": [
    "fig,ax = plt.subplots(1,1)\n",
    "fig.set_size_inches(6,4)\n",
    "\n",
    "fig.tight_layout()\n",
    "\n",
    "ax.set_ylim(-100,140)\n",
    "\n",
    "ax.set_xlabel(\"This is X\")\n",
    "ax.set_ylabel(\"This is Y\")\n",
    "\n",
    "ax.plot(my_data3['x'],my_data3['y'], color = \"m\",\n",
    "        marker=\"o\", linestyle=\"None\", markersize=10,\n",
    "        label = \"Data\")\n",
    "\n",
    "ax.plot(Z, ringo(Z, *init_guesses),\n",
    "        'g--', linewidth=3,\n",
    "        label = \"Initial Guess\")\n",
    "\n",
    "ax.plot(Z, ringo(Z, *fitpars),\n",
    "        'y-',  linewidth=3,\n",
    "        label = \"Fit to Data\")\n",
    "\n",
    "ax.legend(loc=0);"
   ]
  },
  {
   "cell_type": "markdown",
   "metadata": {
    "collapsed": false
   },
   "source": [
    "### Side Topic - Scaling data: Normalization\n",
    "\n",
    "* It is often useful to rescale your data.\n",
    "* One of the most common types of rescaling is called: `min-max normalization`.\n",
    "* This method rescales that data so the range of the `y-data` is `[0->1]`\n",
    "\n",
    "$$ \\Large\n",
    "\\text{Normalized}(y)={\\frac  {y-{\\text{min}}(y)}{{\\text{max}}(y)-{\\text{min}}(y)}}\n",
    "$$"
   ]
  },
  {
   "cell_type": "code",
   "execution_count": 0,
   "metadata": {
    "collapsed": false
   },
   "outputs": [
   ],
   "source": [
    "def normalize_data(data_array):\n",
    "    result = (data_array - data_array.min()) / (data_array.max() - data_array.min())\n",
    "    return result"
   ]
  },
  {
   "cell_type": "code",
   "execution_count": 0,
   "metadata": {
    "collapsed": false
   },
   "outputs": [
   ],
   "source": [
    "my_data3['y'].min(), my_data3['y'].max()"
   ]
  },
  {
   "cell_type": "code",
   "execution_count": 0,
   "metadata": {
    "collapsed": false
   },
   "outputs": [
   ],
   "source": [
    "y_normal = normalize_data(my_data3['y'])"
   ]
  },
  {
   "cell_type": "code",
   "execution_count": 0,
   "metadata": {
    "collapsed": false
   },
   "outputs": [
   ],
   "source": [
    "y_normal.min(), y_normal.max()"
   ]
  },
  {
   "cell_type": "code",
   "execution_count": 0,
   "metadata": {
    "collapsed": false
   },
   "outputs": [
   ],
   "source": [
    "fig,ax = plt.subplots(1,2)\n",
    "fig.set_size_inches(14,4)\n",
    "\n",
    "fig.tight_layout()\n",
    "\n",
    "\n",
    "ax[0].set_xlabel(\"This is X\")\n",
    "ax[0].set_ylabel(\"This is Y\")\n",
    "\n",
    "ax[0].plot(my_data3['x'], my_data3['y'], color = \"m\",\n",
    "           marker=\"o\", linestyle=\"None\", markersize=10)\n",
    "\n",
    "ax[1].set_xlabel(\"This is X\")\n",
    "ax[1].set_ylabel(\"This is Normalized Y\")\n",
    "\n",
    "ax[1].plot(my_data3['x'], y_normal, color = \"m\",\n",
    "           marker=\"o\", linestyle=\"None\", markersize=10);"
   ]
  },
  {
   "cell_type": "markdown",
   "metadata": {
    "collapsed": false
   },
   "source": [
    "----\n",
    "\n",
    "## [Interpolating data](https://en.wikipedia.org/wiki/Interpolation)\n",
    "\n",
    "* Allows you to estimate the value of a function for an intermediate value.\n",
    "* This is often used in experimental data where you have a limited number of values of the independent `(x)` variable."
   ]
  },
  {
   "cell_type": "code",
   "execution_count": 0,
   "metadata": {
    "collapsed": false
   },
   "outputs": [
   ],
   "source": [
    "my_spectra = pd.read_csv('./Data/Spectral_Line.csv')\n",
    "my_spectra[0:1]"
   ]
  },
  {
   "cell_type": "code",
   "execution_count": 0,
   "metadata": {
    "collapsed": false
   },
   "outputs": [
   ],
   "source": [
    "fig,ax = plt.subplots(1,1)\n",
    "fig.set_size_inches(11,6)\n",
    "\n",
    "fig.tight_layout()\n",
    "\n",
    "ax.set_ylim(-0.1, 1.1)\n",
    "\n",
    "ax.set_xlabel(\"Wavelength [nm]\")\n",
    "ax.set_ylabel(\"Flux\")\n",
    "\n",
    "ax.plot(my_spectra['wavelength'], my_spectra['flux'], color =\"b\",\n",
    "        marker=\"o\", linestyle=\"None\", markersize=12);"
   ]
  },
  {
   "cell_type": "markdown",
   "metadata": {
    "collapsed": false
   },
   "source": [
    "### Cubic Spline Interpolation\n",
    "\n",
    "* One of the most common forms of data interpolation is [Cubic Spline Interpolation](https://en.wikipedia.org/wiki/Spline_interpolation)\n",
    "* In Python this is done with the `SciPy` function: `UnivariateSpline`"
   ]
  },
  {
   "cell_type": "code",
   "execution_count": 0,
   "metadata": {
    "collapsed": false
   },
   "outputs": [
   ],
   "source": [
    "from scipy.interpolate import UnivariateSpline"
   ]
  },
  {
   "cell_type": "code",
   "execution_count": 0,
   "metadata": {
    "collapsed": false
   },
   "outputs": [
   ],
   "source": [
    "my_spline = UnivariateSpline(my_spectra['wavelength'], my_spectra['flux'], s=0)"
   ]
  },
  {
   "cell_type": "markdown",
   "metadata": {
    "collapsed": false
   },
   "source": [
    "Setting `s=0` means interpolate through all of the points (no smoothing)"
   ]
  },
  {
   "cell_type": "code",
   "execution_count": 0,
   "metadata": {
    "collapsed": false
   },
   "outputs": [
   ],
   "source": [
    "my_wavelength = np.linspace(0.50,1.25,100)"
   ]
  },
  {
   "cell_type": "code",
   "execution_count": 0,
   "metadata": {
    "collapsed": false
   },
   "outputs": [
   ],
   "source": [
    "fig,ax = plt.subplots(1,1)\n",
    "fig.set_size_inches(11,6)\n",
    "\n",
    "fig.tight_layout()\n",
    "\n",
    "ax.set_xlabel(\"Wavelength\")\n",
    "ax.set_ylabel(\"Flux\")\n",
    "\n",
    "ax.plot(my_wavelength, my_spline(my_wavelength),\n",
    "        color=\"r\", marker=\"None\",\n",
    "        linestyle=\"-\", linewidth=4,\n",
    "        label = \"Interpolated Data\")\n",
    "\n",
    "ax.plot(my_spectra['wavelength'],my_spectra['flux'],\n",
    "        color=\"b\", marker=\"o\",\n",
    "        linestyle=\"None\", markersize=12,\n",
    "        label = \"Data\");\n",
    "\n",
    "ax.legend(loc=0);"
   ]
  },
  {
   "cell_type": "code",
   "execution_count": 0,
   "metadata": {
    "collapsed": false
   },
   "outputs": [
   ],
   "source": [
    "my_spline(1.0)"
   ]
  },
  {
   "cell_type": "markdown",
   "metadata": {
    "collapsed": false
   },
   "source": [
    "### Side Topic - Finding Local Minimum\n",
    "\n",
    "* The `SciPy` function: `fmin`\n",
    "* `fmin(interpolated-data, starting point in x)`\n",
    "* The search will move to the right"
   ]
  },
  {
   "cell_type": "code",
   "execution_count": 0,
   "metadata": {
    "collapsed": false
   },
   "outputs": [
   ],
   "source": [
    "from scipy.optimize import fmin"
   ]
  },
  {
   "cell_type": "code",
   "execution_count": 0,
   "metadata": {
    "collapsed": false
   },
   "outputs": [
   ],
   "source": [
    "my_min = fmin(my_spline, 0.9)"
   ]
  },
  {
   "cell_type": "markdown",
   "metadata": {
    "collapsed": false
   },
   "source": [
    "#### The `x-value` of the local minimum"
   ]
  },
  {
   "cell_type": "code",
   "execution_count": 0,
   "metadata": {
    "collapsed": false
   },
   "outputs": [
   ],
   "source": [
    "my_min"
   ]
  },
  {
   "cell_type": "markdown",
   "metadata": {
    "collapsed": false
   },
   "source": [
    "#### The `y-value` of the local minimum"
   ]
  },
  {
   "cell_type": "code",
   "execution_count": 0,
   "metadata": {
    "collapsed": false
   },
   "outputs": [
   ],
   "source": [
    "my_spline(my_min)"
   ]
  },
  {
   "cell_type": "code",
   "execution_count": 0,
   "metadata": {
    "collapsed": false
   },
   "outputs": [
   ],
   "source": [
    "my_min.astype"
   ]
  },
  {
   "cell_type": "code",
   "execution_count": 0,
   "metadata": {
    "collapsed": false
   },
   "outputs": [
   ],
   "source": [
    "local_min_string = (\"Local Minimum \\n X = {0:.2f} \\n Y = {1:.2f}\"\n",
    "                   .format(my_min[0],my_spline(my_min)[0]))\n",
    "\n",
    "local_min_string"
   ]
  },
  {
   "cell_type": "markdown",
   "metadata": {
    "collapsed": false
   },
   "source": [
    "#### If you want a local maximum - flip the fit over!\n",
    "\n",
    "* Notice the `(-)` sign on the `y-array`"
   ]
  },
  {
   "cell_type": "code",
   "execution_count": 0,
   "metadata": {
    "collapsed": false
   },
   "outputs": [
   ],
   "source": [
    "my_spline_flipped = UnivariateSpline(my_spectra['wavelength'], -my_spectra['flux'], s=0)"
   ]
  },
  {
   "cell_type": "code",
   "execution_count": 0,
   "metadata": {
    "collapsed": false
   },
   "outputs": [
   ],
   "source": [
    "my_max = fmin(my_spline_flipped, 0.6)"
   ]
  },
  {
   "cell_type": "code",
   "execution_count": 0,
   "metadata": {
    "collapsed": false
   },
   "outputs": [
   ],
   "source": [
    "my_max"
   ]
  },
  {
   "cell_type": "code",
   "execution_count": 0,
   "metadata": {
    "collapsed": false
   },
   "outputs": [
   ],
   "source": [
    "my_spline(my_max)"
   ]
  },
  {
   "cell_type": "code",
   "execution_count": 0,
   "metadata": {
    "collapsed": false
   },
   "outputs": [
   ],
   "source": [
    "local_max_string = (\"Local Maximum \\n X = {0:.2f} \\n Y = {1:.2f}\"\n",
    "                   .format(my_max[0],my_spline(my_max)[0]))\n",
    "\n",
    "local_max_string"
   ]
  },
  {
   "cell_type": "code",
   "execution_count": 0,
   "metadata": {
    "collapsed": false
   },
   "outputs": [
   ],
   "source": [
    "fig,ax = plt.subplots(1,1)\n",
    "fig.set_size_inches(11,6)\n",
    "\n",
    "fig.tight_layout()\n",
    "\n",
    "ax.set_xlabel(\"Wavelength\")\n",
    "ax.set_ylabel(\"Flux\")\n",
    "\n",
    "ax.plot(my_wavelength, my_spline(my_wavelength),\n",
    "        color=\"r\", marker=\"None\",\n",
    "        linestyle=\"-\", linewidth=4,\n",
    "        label = \"Interpolated Data\")\n",
    "\n",
    "ax.plot(my_spectra['wavelength'],my_spectra['flux'],\n",
    "        color=\"b\", marker=\"o\",\n",
    "        linestyle=\"None\", markersize=12,\n",
    "        label = \"Data\");\n",
    "\n",
    "ax.legend(loc=0)\n",
    "\n",
    "ax.vlines(my_min, my_spline(my_min), 0.2,\n",
    "          color = 'm', linewidth=5.0)\n",
    "\n",
    "ax.text(my_min, 0.22, local_min_string,\n",
    "        horizontalalignment='center',\n",
    "        fontsize = 14, color = 'green')\n",
    "\n",
    "ax.vlines(my_max, my_spline(my_max), 0.8,\n",
    "          color = 'm', linewidth=5.0)\n",
    "\n",
    "ax.text(my_max, 0.65, local_max_string,\n",
    "        horizontalalignment='center',\n",
    "        fontsize = 14, color = 'green');"
   ]
  },
  {
   "cell_type": "markdown",
   "metadata": {
    "collapsed": false
   },
   "source": [
    "----"
   ]
  },
  {
   "cell_type": "code",
   "execution_count": 0,
   "metadata": {
    "collapsed": false
   },
   "outputs": [
   ],
   "source": [
    "from astroplan import download_IERS_A\n",
    "\n",
    "download_IERS_A()"
   ]
  },
  {
   "cell_type": "code",
   "execution_count": 0,
   "metadata": {
    "collapsed": false
   },
   "outputs": [
   ],
   "source": [
   ]
  }
 ],
 "metadata": {
  "anaconda-cloud": {
  },
  "kernelspec": {
   "display_name": "Python 3 (Anaconda 5)",
   "language": "python",
   "name": "anaconda5"
  },
  "language_info": {
   "codemirror_mode": {
    "name": "ipython",
    "version": 3
   },
   "file_extension": ".py",
   "mimetype": "text/x-python",
   "name": "python",
   "nbconvert_exporter": "python",
   "pygments_lexer": "ipython3",
   "version": "3.6.6"
  }
 },
 "nbformat": 4,
 "nbformat_minor": 0
}