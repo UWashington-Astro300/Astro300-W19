{
 "cells": [
  {
   "cell_type": "markdown",
   "metadata": {
    "collapsed": false
   },
   "source": [
    "## First Last - Plotting Asteroids"
   ]
  },
  {
   "cell_type": "code",
   "execution_count": 0,
   "metadata": {
    "collapsed": true
   },
   "outputs": [
   ],
   "source": [
    "%matplotlib inline\n",
    "import matplotlib.pyplot as plt\n",
    "\n",
    "import numpy as np\n",
    "import pandas as pd"
   ]
  },
  {
   "cell_type": "markdown",
   "metadata": {
    "collapsed": false
   },
   "source": [
    "#### The file `./Data/SDSS_MainBelt.csv` contains data on objects in the asteroid belt collected by the [Sloan Digital Sky Survey](http://www.sdss.org/).\n",
    "\n",
    "The columns are:\n",
    "- **`Name`** - Object name\n",
    "- **`a`** - semi-major axis\n",
    "- **`cA`** - SDSS a$^*$ color\n",
    "- **`cI`** - SDSS i color (near infrared)\n",
    "- **`cZ`** - SDSS z color (infrared)\n",
    "- **`X`** - X position [au] - Sun-centered coords (10/29/2014)\n",
    "- **`Y`** - Y position [au] - Sun-centered coords (10/29/2014)\n",
    "- **`Z`** - Z position [au] - Sun-centered coords (10/29/2014)"
   ]
  },
  {
   "cell_type": "markdown",
   "metadata": {
    "collapsed": false
   },
   "source": [
    "## Read in the file `./Data/SDSS_MainBelt.csv`"
   ]
  },
  {
   "cell_type": "code",
   "execution_count": 0,
   "metadata": {
    "collapsed": true
   },
   "outputs": [
   ],
   "source": [
   ]
  },
  {
   "cell_type": "markdown",
   "metadata": {
    "collapsed": false
   },
   "source": [
    "## The Color of the Asteroids \n",
    "- Make three (3) plots in one row\n",
    "- In each panel, plot a histogram of the semi-major axis (`a`) for **all** of the asteroids.\n",
    "- Bins = 100.\n",
    "- Only show 2.0 AU < `a` < 3.6 AU\n",
    "- In the first panel, overplot a histogram of `a` for C-Type asteroids only.\n",
    "- In the first panel, overplot a histogram of `a` for S-Type asteroids only.\n",
    "- In the first panel, overplot a histogram of `a` for V-Type asteroids only.\n",
    "- In each panel, draw a vertical line at `a` = mean(`a`) for that type of asteroid.\n",
    "- Adjust the color and transparency of the overplotted histograms so that it is easy to see.\n",
    "- The asteroid types can be determined from their colors (see image below).\n",
    "- Output size w:15in, h:5in\n",
    "- Make the plot look nice (including clear labels)"
   ]
  },
  {
   "cell_type": "code",
   "execution_count": 0,
   "metadata": {
    "collapsed": true
   },
   "outputs": [
   ],
   "source": [
   ]
  },
  {
   "cell_type": "markdown",
   "metadata": {
    "collapsed": false
   },
   "source": [
    "## The Position of the Asteroids \n",
    "- Make a 3D plot of X vs Y vs Z for the asteroids\n",
    "- Orient the plot so you can see the 3D structure of the asteroid belt\n",
    "- Output size w:9in, h:9in\n",
    "- Make the plot look nice"
   ]
  },
  {
   "cell_type": "code",
   "execution_count": 0,
   "metadata": {
    "collapsed": true
   },
   "outputs": [
   ],
   "source": [
   ]
  },
  {
   "cell_type": "markdown",
   "metadata": {
    "collapsed": false
   },
   "source": [
    "---\n",
    "\n",
    "### Asteroid classes - SDSS Colors\n",
    "\n",
    "---\n",
    "\n",
    "<center><img src=\"images/Colors.jpg\" width=600px></center>"
   ]
  },
  {
   "cell_type": "markdown",
   "metadata": {
    "collapsed": false
   },
   "source": [
    "### Due Wed Feb 20 - 1 pm\n",
    "- `Make sure to change the filename to your name!`\n",
    "- `Make sure to change the Title to your name!`\n",
    "- `File -> Download as -> HTML (.html)`\n",
    "- `upload your .html and .ipynb file to the class Canvas page`"
   ]
  },
  {
   "cell_type": "code",
   "execution_count": 0,
   "metadata": {
    "collapsed": false
   },
   "outputs": [
   ],
   "source": [
   ]
  }
 ],
 "metadata": {
  "anaconda-cloud": {
  },
  "kernelspec": {
   "display_name": "Python 3 (Ubuntu Linux)",
   "language": "python",
   "name": "python3"
  },
  "language_info": {
   "codemirror_mode": {
    "name": "ipython",
    "version": 3
   },
   "file_extension": ".py",
   "mimetype": "text/x-python",
   "name": "python",
   "nbconvert_exporter": "python",
   "pygments_lexer": "ipython3",
   "version": "3.6.7"
  }
 },
 "nbformat": 4,
 "nbformat_minor": 0
}