{
 "cells": [
  {
   "cell_type": "markdown",
   "metadata": {
    "collapsed": false
   },
   "source": [
    "# Strings Homework\n",
    "\n",
    "* Start with the ReadingData homework from last week\n",
    "* Format the output to match the examples below.\n",
    "* The numbers should be expressed to 2 decimals."
   ]
  },
  {
   "cell_type": "markdown",
   "metadata": {
    "collapsed": false
   },
   "source": [
    "## List the names of the 5 most massive MBAs\n",
    "\n",
    "\n",
    "```\n",
    "The 5 largest asteroids are (starting with the largest):\n",
    "At number N is NAME with a mass of MASS kg\n",
    ".\n",
    ".\n",
    "At number N is NAME with a mass of MASS kg\n",
    "```\n"
   ]
  },
  {
   "cell_type": "markdown",
   "metadata": {
    "collapsed": false
   },
   "source": [
    "---\n",
    "\n",
    "## List the names of the 5 least massive MBAs\n",
    "\n",
    "\n",
    "```\n",
    "The 5 smallest asteroids are (starting with the smallest):\n",
    "At number N is NAME with a mass of MASS kg\n",
    ".\n",
    ".\n",
    "At number N is NAME with a mass of MASS kg\n",
    "```"
   ]
  },
  {
   "cell_type": "markdown",
   "metadata": {
    "collapsed": false
   },
   "source": [
    "---\n",
    "\n",
    "## And finally the summary paragraph:\n",
    "\n",
    "```\n",
    "The total mass of the main belt of the asteroid belt is MASS kg, of which N% of\n",
    "the total mass in contained in the five most massive asteroids. The Moon is N times\n",
    "more massive than the total mass of the main belt asteroids.\n",
    "```"
   ]
  },
  {
   "cell_type": "markdown",
   "metadata": {
    "collapsed": false
   },
   "source": [
    "---\n",
    "\n",
    "### Due Wed Jan 30 - 1pm\n",
    "- `Save notebook as .html: File -> Download as -> HTML (.html)`\n",
    "- `Upload .html to Canvas`"
   ]
  },
  {
   "cell_type": "code",
   "execution_count": 0,
   "metadata": {
    "collapsed": false
   },
   "outputs": [
   ],
   "source": [
   ]
  }
 ],
 "metadata": {
  "kernelspec": {
   "display_name": "Python 3 (Ubuntu Linux)",
   "language": "python",
   "name": "python3"
  },
  "language_info": {
   "codemirror_mode": {
    "name": "ipython",
    "version": 3
   },
   "file_extension": ".py",
   "mimetype": "text/x-python",
   "name": "python",
   "nbconvert_exporter": "python",
   "pygments_lexer": "ipython3",
   "version": "3.6.7"
  }
 },
 "nbformat": 4,
 "nbformat_minor": 0
}