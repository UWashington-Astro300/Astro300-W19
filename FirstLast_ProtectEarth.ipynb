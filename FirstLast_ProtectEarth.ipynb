{
 "cells": [
  {
   "cell_type": "markdown",
   "metadata": {
    "collapsed": false
   },
   "source": [
    "# First Last - Protect Earth"
   ]
  },
  {
   "cell_type": "markdown",
   "metadata": {
    "collapsed": false
   },
   "source": [
    "The goal of this project is to use your Astro 300 python programming skills to answer the 3 questions below.\n",
    "\n",
    "Your aim is to:\n",
    "\n",
    "- Create a well commmented python notebook that shows your programming.\n",
    "- Keep to the class style guide (good variable names).\n",
    "- Do not hard code any common physical constants.\n",
    "- Easy to read and neat output that **clearly** shows the answers to the questions.\n",
    "- There should be no calculations outside of the `class` definition.\n",
    "\n",
    "The starting point is the dataset **`./Data/PHA.csv`** that contains data for 10 objects classified as potentially hazardous asteroids."
   ]
  },
  {
   "cell_type": "markdown",
   "metadata": {
    "collapsed": false
   },
   "source": [
    "## Due between Fri Feb 8 (5pm) - Tue Feb 12 (Noon)\n",
    " * `Submit < 5pm Feb 8` - **30 pts** possible.\n",
    " * `5pm Feb 8 < Submit < 5pm Feb 10` - **20** pts possible.\n",
    " * `5pm Feb 10 < Submit < Noon Feb 12` - **10** pts possible.\n",
    " * `File -> Download as... -> HTML (right-click to save HTML file)`\n",
    " * `Upload HTML file to Canvas`\n",
    " * `Make sure to change the filename to your name!`\n",
    " * `Make sure to change the Title to your name!`"
   ]
  },
  {
   "cell_type": "code",
   "execution_count": 0,
   "metadata": {
    "collapsed": true
   },
   "outputs": [
   ],
   "source": [
    "import numpy as np\n",
    "import pandas as pd\n",
    "\n",
    "from astropy import units as u\n",
    "from astropy import constants as const"
   ]
  },
  {
   "cell_type": "code",
   "execution_count": 0,
   "metadata": {
    "collapsed": true
   },
   "outputs": [
   ],
   "source": [
    "class SpaceRock(object):\n",
    "    \n",
    "    def __init__(self, name = None, ab_mag = None, albedo = None, \n",
    "                 semi_major= None, ecc = None):\n",
    "        \n",
    "        self.name = name\n",
    "        self.ab_mag = ab_mag\n",
    "        self.albedo = albedo\n",
    "        self.semi_major = semi_major\n",
    "        self.ecc = ecc\n",
    "        \n",
    "    def diameter(self):\n",
    "        result = (1329.0 / np.sqrt(self.albedo)) * (10 ** (-0.2 * self.ab_mag))\n",
    "        return result * u.km"
   ]
  },
  {
   "cell_type": "markdown",
   "metadata": {
    "collapsed": false
   },
   "source": [
    "## Read in the dataset `./Data/PHA.csv`"
   ]
  },
  {
   "cell_type": "code",
   "execution_count": 0,
   "metadata": {
    "collapsed": false
   },
   "outputs": [
   ],
   "source": [
   ]
  },
  {
   "cell_type": "code",
   "execution_count": 0,
   "metadata": {
    "collapsed": false
   },
   "outputs": [
   ],
   "source": [
   ]
  },
  {
   "cell_type": "markdown",
   "metadata": {
    "collapsed": false
   },
   "source": [
    "## ...and use the data to call `SpaceRock`"
   ]
  },
  {
   "cell_type": "code",
   "execution_count": 0,
   "metadata": {
    "collapsed": true
   },
   "outputs": [
   ],
   "source": [
   ]
  },
  {
   "cell_type": "markdown",
   "metadata": {
    "collapsed": false
   },
   "source": [
    "---\n",
    "\n",
    "## There should **only** be calls to the `SpaceRock` class below this line (and formatting)\n",
    "\n",
    "---"
   ]
  },
  {
   "cell_type": "markdown",
   "metadata": {
    "collapsed": false
   },
   "source": [
    "## 1 - Determine the speed of each of the PHAs at **r** = 1 AU.\n",
    "\n",
    "\n",
    "* Make sure you use units.\n",
    "* Express your answer SI units with 2 digits after the decimal.\n",
    "* The output should be a series of lines like:\n",
    "  * `The speed of NAME at 1 AU is VALUE UNIT.` "
   ]
  },
  {
   "cell_type": "code",
   "execution_count": 0,
   "metadata": {
    "collapsed": false
   },
   "outputs": [
   ],
   "source": [
   ]
  },
  {
   "cell_type": "markdown",
   "metadata": {
    "collapsed": false
   },
   "source": [
    "## 2 - Determine the kinetic energy each PHA would have if they impacted the surface of the Earth\n",
    "\n",
    "- Assume asteroids have $\\rho$ = 3,000 kg/m$^3$\n",
    "- Express your answer in gigatons of TNT with 1 digit after the decimal\n",
    "- 1 ton TNT $= 4.18 \\times 10^9$ J\n",
    "- 1 gigaton = 1e9 tons\n",
    "\n",
    "* The output should be a series of lines like:\n",
    "  * `The kinetic energy of NAME hitting the Earth is VALUE UNIT.` "
   ]
  },
  {
   "cell_type": "code",
   "execution_count": 0,
   "metadata": {
    "collapsed": true
   },
   "outputs": [
   ],
   "source": [
   ]
  },
  {
   "cell_type": "markdown",
   "metadata": {
    "collapsed": true
   },
   "source": [
    "## 3 - Determine how many nuclear weapons, with a yield of 1 ton-TNT, will be needed to destroy each of the PHAs.\n",
    "\n",
    "- Express your answer in the number of 1 ton-TNT weapons with 1 digit after the decimal\n",
    "- 1 ton TNT $= 4.18 \\times 10^9$ J\n",
    "\n",
    "* The output should be a series of lines like:\n",
    "  * `It would take VALUE 1 ton nuclear weaponds to destroy NAME.` "
   ]
  },
  {
   "cell_type": "code",
   "execution_count": 0,
   "metadata": {
    "collapsed": true
   },
   "outputs": [
   ],
   "source": [
   ]
  },
  {
   "cell_type": "markdown",
   "metadata": {
    "collapsed": false
   },
   "source": [
    "----\n",
    "\n",
    "# <font color=blue>Ravenclaw</font>"
   ]
  },
  {
   "cell_type": "markdown",
   "metadata": {
    "collapsed": false
   },
   "source": [
    "## 4 - Determine the size of the crater each PHA would make if they impacted the surface of the Earth\n",
    "\n",
    "- Assume asteroids and the Earth's surface have a density = 3,000 kg/m$^3$\n",
    "* The output should be a series of lines like:\n",
    "  * `If NAME hit the Earth, it would form a crater with a size of VALUE UNIT.`"
   ]
  },
  {
   "cell_type": "code",
   "execution_count": 0,
   "metadata": {
    "collapsed": false
   },
   "outputs": [
   ],
   "source": [
   ]
  },
  {
   "cell_type": "markdown",
   "metadata": {
    "collapsed": false
   },
   "source": [
    "---"
   ]
  },
  {
   "cell_type": "markdown",
   "metadata": {
    "collapsed": false
   },
   "source": [
    "## Some Orbital Mechanics\n",
    "\n",
    "Kepler's first law says: *The orbit of every planet is an ellipse with the sun at one focus*. The Semimajor axis **a** and the eccentricity **ecc** parametrize the size and shape of the ellipse. The units of **a** in our dataset are Astronomical Units (AU), the average distance between the Sun and the Earth.\n",
    "\n",
    "![Orbit Diagram](images/Orbit.jpg)\n",
    "\n",
    "For a closed elliptical orbit (orbits gravitationally bound to the Sun), $ecc = \\sqrt{1 - {b^2}/{a^2}}$, where **a** and **b** are the semimajor and semiminor axes. As you can see from the equation, when **a** = **b**, **ecc** = 0 (a circle), and when **a** $>>$ **b**, **ecc** approaches 1. When **ecc** = 1, the orbit is a parabolic orbit (just bound). When **ecc** $>$ 1 the orbit is a hyperbolic orbit (unbound).\n",
    "\n",
    "---\n",
    "\n",
    "The speed of an object on an elliptical orbit around the Sun at a distance **r** from the Sun is:\n",
    "\n",
    "$$ \\large\n",
    "v\\ =\\ \\sqrt{GM_{\\odot}\\ \\left(\\frac{2}{r} - \\frac{1}{a}\\right)}\n",
    "$$\n",
    "\n",
    "Watch your units! Both `r` and `a` should have the same units\n",
    "\n",
    "---"
   ]
  },
  {
   "cell_type": "markdown",
   "metadata": {
    "collapsed": false
   },
   "source": [
    "## Encountering the Earth\n",
    "\n",
    "The encounter speed of an asteroid meeting the Earth at 1 AU is (assuimg aligned prograde orbits):\n",
    "\n",
    "$$ \\large\n",
    "V_{\\textrm{encounter}}\\ =\\ V_{\\textrm{asteroid at 1AU}}\\ -\\ V_{\\textrm{Earth}}\n",
    "$$\n",
    "\n",
    "Where $V_{\\textrm{Earth}}\\ =\\ 30\\ \\textrm{km/s}$\n",
    "\n",
    "## Hitting the Earth\n",
    "\n",
    "The impact speed of an asteroid hitting the Earth is:\n",
    "\n",
    "$$ \\large\n",
    "V_{\\textrm{impact}}\\ =\\ \\sqrt{V_{\\textrm{encounter}}^2 + V_{\\textrm{escape}}^2}\n",
    "$$\n",
    "\n",
    "Where $V_{\\textrm{escape}}\\ = 11.2\\ \\textrm{km/s}$\n",
    "\n",
    "---"
   ]
  },
  {
   "cell_type": "markdown",
   "metadata": {
    "collapsed": false
   },
   "source": [
    "## Blowing up an asteroid\n",
    "\n",
    "The self gravitational potential energy of a uniform sphere of mass (M) and diameter (D) is:\n",
    "\n",
    "$$ \\large\n",
    "PE \\ = \\ \\frac{6}{5} \\cdot \\frac{GM^2}{D}\n",
    "$$\n",
    "\n",
    "This is the amount of energy you need to give the sphere to move all of its components pieces infinitely far away (i.e. to destroy it!).\n",
    "\n",
    "Remember that the mass and diameter of the asteroid is derived from its absolute magnitude **H** and albedo **A**, and density."
   ]
  },
  {
   "cell_type": "markdown",
   "metadata": {
    "collapsed": false
   },
   "source": [
    "---\n",
    "\n",
    "## Size of Crater\n",
    "\n",
    "This size of the crater formed by an impacting asteroid can be estimated by:\n",
    "\n",
    "$$ \\large\n",
    "\\textrm{Size of Crater} = 1.8\\ \\rho_{p}^{0.11}\\ \\rho_{t}^{-0.33}\\ g^{-0.22}\\ D^{0.13}\\ W^{0.22}\n",
    "$$\n",
    "\n",
    "Where\n",
    "\n",
    "* $\\rho_{p}$ is the asteroid density\n",
    "* $\\rho_{t}$ is the target density\n",
    "* $D$ is the asteroid diameter\n",
    "* $W$ is the kinetic energy of the asteroid hitting the Earth's surface\n",
    "\n",
    "### Important Note!!!!\n",
    "\n",
    "This type of equation is sometimes refered to as an *emperical scaling relation*\n",
    "\n",
    "- The units do not work out as written\n",
    "- You need to put all variables into the same unit system (such as mks)\n",
    "- Then use .value to just pull off the numerical value\n",
    "- The answer will be in whatever unit system you used (such as mks)\n",
    "\n",
    "- Remember: Do all of this work as a `method` in the `SpaceRock()` class!\n"
   ]
  },
  {
   "cell_type": "code",
   "execution_count": 0,
   "metadata": {
    "collapsed": false
   },
   "outputs": [
   ],
   "source": [
   ]
  }
 ],
 "metadata": {
  "kernelspec": {
   "display_name": "Python 3 (Ubuntu Linux)",
   "language": "python",
   "name": "python3"
  },
  "language_info": {
   "codemirror_mode": {
    "name": "ipython",
    "version": 3
   },
   "file_extension": ".py",
   "mimetype": "text/x-python",
   "name": "python",
   "nbconvert_exporter": "python",
   "pygments_lexer": "ipython3",
   "version": "3.6.7"
  }
 },
 "nbformat": 4,
 "nbformat_minor": 0
}