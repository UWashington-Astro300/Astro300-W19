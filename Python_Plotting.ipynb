{
 "cells": [
  {
   "cell_type": "markdown",
   "metadata": {
    "collapsed": false
   },
   "source": [
    "# Plotting data with Python - `matplotlib`"
   ]
  },
  {
   "cell_type": "code",
   "execution_count": 0,
   "metadata": {
    "collapsed": false
   },
   "outputs": [
   ],
   "source": [
    "%matplotlib inline\n",
    "\n",
    "import matplotlib.pyplot as plt\n",
    "import numpy as np\n",
    "import pandas as pd"
   ]
  },
  {
   "cell_type": "markdown",
   "metadata": {
    "collapsed": false
   },
   "source": [
    "### Simple Plotting"
   ]
  },
  {
   "cell_type": "code",
   "execution_count": 0,
   "metadata": {
    "collapsed": false
   },
   "outputs": [
   ],
   "source": [
    "my_time = np.linspace(0,2,100)                              # 100 points linearly spaced between 0.0 and 2.0\n",
    "my_voltage = np.cos(2*np.pi*my_time) * np.exp(-my_time)"
   ]
  },
  {
   "cell_type": "code",
   "execution_count": 0,
   "metadata": {
    "collapsed": false
   },
   "outputs": [
   ],
   "source": [
    "plt.plot(my_time,my_voltage)"
   ]
  },
  {
   "cell_type": "markdown",
   "metadata": {
    "collapsed": false
   },
   "source": [
    "### Simple plotting - with *style*"
   ]
  },
  {
   "cell_type": "markdown",
   "metadata": {
    "collapsed": false
   },
   "source": [
    "The default style of `matplotlib` is a bit lacking in style. Some would term it ugly. The new version of `matplotlib` has added some new styles that you can use in place of the default. Changing the style will effect all of the rest of the plots on the notebook.\n",
    "\n",
    "Examples of the various styles can be found [here](http://matplotlib.org/examples/style_sheets/style_sheets_reference.html)"
   ]
  },
  {
   "cell_type": "code",
   "execution_count": 0,
   "metadata": {
    "collapsed": false
   },
   "outputs": [
   ],
   "source": [
    "plt.style.available"
   ]
  },
  {
   "cell_type": "code",
   "execution_count": 0,
   "metadata": {
    "collapsed": false
   },
   "outputs": [
   ],
   "source": [
    "plt.style.use('ggplot')"
   ]
  },
  {
   "cell_type": "code",
   "execution_count": 0,
   "metadata": {
    "collapsed": false
   },
   "outputs": [
   ],
   "source": [
    "plt.plot(my_time,my_voltage)"
   ]
  },
  {
   "cell_type": "code",
   "execution_count": 0,
   "metadata": {
    "collapsed": false
   },
   "outputs": [
   ],
   "source": [
    "plt.xlabel('Time (s)')\n",
    "plt.ylabel('Voltage (mV)')\n",
    "plt.title('This is a title')\n",
    "\n",
    "plt.ylim(-1.5,1.5)\n",
    "\n",
    "plt.plot(my_time, my_voltage, color='b', marker='None', linestyle='--');   # adding the ';' at then suppresses the Out[] line"
   ]
  },
  {
   "cell_type": "code",
   "execution_count": 0,
   "metadata": {
    "collapsed": false
   },
   "outputs": [
   ],
   "source": [
    "mask1 = np.where((my_voltage>-0.4) & (my_voltage<0))\n",
    "\n",
    "plt.plot(my_time, my_voltage, color='b', marker='None', linestyle='--')\n",
    "\n",
    "plt.plot(my_time[mask1],my_voltage[mask1],color=\"g\",marker=\"o\",linestyle=\"None\",markersize=8);"
   ]
  },
  {
   "cell_type": "raw",
   "metadata": {
    "collapsed": false
   },
   "source": [
    "  Colors                 Markers                Linestyles\n",
    "                                       \n",
    "'b'     blue         's'        square          '-'   Solid line\n",
    "'g'     green        'o'        circle          '--'  Dashed \n",
    "'r'     red          '^'        triangle        ':'   Dotted \n",
    "'c'     cyan         '+'        plus            '-.'  Dash Dot \n",
    "'m'     magenta      '.'        dot             \n",
    "'y'     yellow       '*'        star \n",
    "'k'     black        'D'        diamond         size in pts (72 pt = 1 in)\n",
    "'w'     white        'x'        cross   "
   ]
  },
  {
   "cell_type": "markdown",
   "metadata": {
    "collapsed": false
   },
   "source": [
    "### In addition, you can specify colors in many different ways:\n",
    "\n",
    "- Grayscale intensities: `color = '0.8'`\n",
    "- RGB triplets: `color = (0.3, 0.1, 0.9)`\n",
    "- RGB triplets (with transparency): `color = (0.3, 0.1, 0.9, 0.4)`\n",
    "- Hex strings: `color = '#7ff00'`\n",
    "- [HTML color names](https://en.wikipedia.org/wiki/Web_colors): `color = 'Chartreuse'`\n",
    "- a name from the [xkcd color survey](https://xkcd.com/color/rgb/) prefixed with 'xkcd:' (e.g., 'xkcd:poison green')"
   ]
  },
  {
   "cell_type": "markdown",
   "metadata": {
    "collapsed": false
   },
   "source": [
    "### Simple Histograms"
   ]
  },
  {
   "cell_type": "code",
   "execution_count": 0,
   "metadata": {
    "collapsed": false
   },
   "outputs": [
   ],
   "source": [
    "#Histogram of \"some_data\" with 20 bins\n",
    "\n",
    "np.random.seed(42)\n",
    "some_data = np.random.normal(2.0,1.0,500)  # 500 points from a normal dist, ave = 2.0, std = 1.0\n",
    "\n",
    "plt.hist(some_data, bins=20, facecolor='MediumOrchid');"
   ]
  },
  {
   "cell_type": "code",
   "execution_count": 0,
   "metadata": {
    "collapsed": false
   },
   "outputs": [
   ],
   "source": [
    "mask2 = np.where(some_data > 3.0)\n",
    "\n",
    "plt.hist(some_data[mask2], bins=20, facecolor='MediumOrchid');"
   ]
  },
  {
   "cell_type": "code",
   "execution_count": 0,
   "metadata": {
    "collapsed": false
   },
   "outputs": [
   ],
   "source": [
    "more_data = np.random.normal(2.0,2.0,500)  # 500 points from a normal dist, ave = 2.0, std = 2.0\n",
    "\n",
    "plt.hist(some_data, bins=20, facecolor='#b20010')\n",
    "plt.hist(more_data, bins=20, facecolor='#0200b0', alpha = 0.30);"
   ]
  },
  {
   "cell_type": "markdown",
   "metadata": {
    "collapsed": false
   },
   "source": [
    "## You have better control of the plot with the `object oriented` interface.\n",
    "\n",
    "While most ``plt`` functions translate directly to ``ax`` methods (such as ``plt.plot()`` → ``ax.plot()``, ``plt.legend()`` → ``ax.legend()``, etc.), this is not the case for all commands.\n",
    "In particular, functions to set limits, labels, and titles are slightly modified.\n",
    "For transitioning between matlab-style functions and object-oriented methods, make the following changes:\n",
    "\n",
    "- ``plt.xlabel()``  → ``ax.set_xlabel()``\n",
    "- ``plt.ylabel()`` → ``ax.set_ylabel()``\n",
    "- ``plt.xlim()``  → ``ax.set_xlim()``\n",
    "- ``plt.ylim()`` → ``ax.set_ylim()``\n",
    "- ``plt.title()`` → ``ax.set_title()``"
   ]
  },
  {
   "cell_type": "code",
   "execution_count": 0,
   "metadata": {
    "collapsed": false
   },
   "outputs": [
   ],
   "source": [
    "fig,ax = plt.subplots(1,1)                    # One window\n",
    "fig.set_size_inches(11,8.5)                   # (width,height) - letter paper landscape\n",
    "\n",
    "fig.tight_layout()                          # Make better use of space on plot\n",
    "\n",
    "ax.set_xlim(0.0,1.5)\n",
    "\n",
    "ax.spines['bottom'].set_position('zero')    # Move the bottom axis line to x = 0\n",
    "\n",
    "ax.set_xlabel('Time (s)')\n",
    "ax.set_ylabel('Voltage (mV)')\n",
    "\n",
    "ax.plot(my_time, my_voltage, color='b', marker='None', linestyle='--')\n",
    "\n",
    "ax.text(0.8, 0.65, 'Bad Wolf', color='green', fontsize=36)            # You can place text on the plot\n",
    "\n",
    "ax.vlines(0.4, -0.4, 0.8, color='m', linewidth=3)                    # vlines(x, ymin, ymax)\n",
    "ax.hlines(0.8,  0.2, 0.6, color='y', linewidth=5);                    # hlines(y, xmin, xmax)"
   ]
  },
  {
   "cell_type": "code",
   "execution_count": 0,
   "metadata": {
    "collapsed": false
   },
   "outputs": [
   ],
   "source": [
    "fig.savefig('fig1.png', bbox_inches='tight')"
   ]
  },
  {
   "cell_type": "markdown",
   "metadata": {
    "collapsed": false
   },
   "source": [
    "### Plotting from multiple external data files\n",
    " * `glob` is a small library for pattern matching filenames"
   ]
  },
  {
   "cell_type": "code",
   "execution_count": 0,
   "metadata": {
    "collapsed": false
   },
   "outputs": [
   ],
   "source": [
    "import glob"
   ]
  },
  {
   "cell_type": "code",
   "execution_count": 0,
   "metadata": {
    "collapsed": false
   },
   "outputs": [
   ],
   "source": [
    "data_list = glob.glob('./Data/12_data*.csv')\n",
    "\n",
    "data_list"
   ]
  },
  {
   "cell_type": "code",
   "execution_count": 0,
   "metadata": {
    "collapsed": false
   },
   "outputs": [
   ],
   "source": [
    "for value in data_list:\n",
    "    print(value)"
   ]
  },
  {
   "cell_type": "code",
   "execution_count": 0,
   "metadata": {
    "collapsed": false
   },
   "outputs": [
   ],
   "source": [
    "fig,ax = plt.subplots(1,1)                    # One window\n",
    "fig.set_size_inches(11,8.5)                   # (width,height) - letter paper landscape\n",
    "\n",
    "fig.tight_layout()                            # Make better use of space on plot\n",
    "\n",
    "ax.set_xlim(0.0,80.0)\n",
    "ax.set_ylim(15.0,100.0)\n",
    "\n",
    "ax.set_xlabel(\"This is X\")\n",
    "ax.set_ylabel(\"This is Y\")\n",
    "\n",
    "for value in data_list:\n",
    "    \n",
    "    data = pd.read_csv(value)\n",
    "    ax.plot(data['x'], data['y'],marker=\"o\",linestyle=\"None\",markersize=7,label=value)\n",
    "    \n",
    "ax.legend(loc=0,shadow=True);"
   ]
  },
  {
   "cell_type": "raw",
   "metadata": {
    "collapsed": false
   },
   "source": [
    "Legend loc codes:\n",
    "\n",
    "0   best                6   center left\n",
    "1   upper right         7   center right\n",
    "2   upper left          8   lower center\n",
    "3   lower left          9   upper center\n",
    "4   lower right         10  center"
   ]
  },
  {
   "cell_type": "markdown",
   "metadata": {
    "collapsed": false
   },
   "source": [
    "### Scatter Plots\n",
    "\n",
    "* `.scatter` gives you more control over how each point is plotted\n",
    "* You can plot each point at a different size/color/etc\n",
    "* `c` = color\n",
    "* `s` = size"
   ]
  },
  {
   "cell_type": "code",
   "execution_count": 0,
   "metadata": {
    "collapsed": false
   },
   "outputs": [
   ],
   "source": [
    "random_x = np.random.normal(0.0,2.0,100)\n",
    "random_y = np.random.normal(0.0,4.0,100)\n",
    "\n",
    "my_colors = np.random.random(100)\n",
    "my_sizes  = np.random.random(100) * 1000"
   ]
  },
  {
   "cell_type": "code",
   "execution_count": 0,
   "metadata": {
    "collapsed": false
   },
   "outputs": [
   ],
   "source": [
    "fig,ax = plt.subplots(1,1)                    # One window\n",
    "fig.set_size_inches(11,8.5)                   # (width,height) - letter paper landscape\n",
    "\n",
    "fig.tight_layout()                            # Make better use of space on plot\n",
    "\n",
    "ax.set_xlim(-5.0,5.0)\n",
    "ax.set_ylim(-10.0,10.0)\n",
    "\n",
    "ax.set_xlabel(\"This is X\")\n",
    "ax.set_ylabel(\"This is Y\")\n",
    "\n",
    "ax.scatter(random_x, random_y, c = my_colors, s = my_sizes, alpha = 0.4);"
   ]
  },
  {
   "cell_type": "markdown",
   "metadata": {
    "collapsed": false
   },
   "source": [
    "----\n",
    "\n",
    "## Subplots\n",
    "- `subplot(rows,columns)`\n",
    "- Access each subplot like a matrix. `[x,y]`\n",
    "- Labels have to be added to each subplot separately\n",
    "- For example: `subplot(2,2)` makes four panels with the coordinates:"
   ]
  },
  {
   "cell_type": "raw",
   "metadata": {
    "collapsed": false
   },
   "source": [
    " [0,0] [0,1]\n",
    " [1,0] [1,1]"
   ]
  },
  {
   "cell_type": "code",
   "execution_count": 0,
   "metadata": {
    "collapsed": false
   },
   "outputs": [
   ],
   "source": [
    "fig, ax = plt.subplots(2,2)                                               # 2 rows 2 columns\n",
    "fig.set_size_inches(11,8.5)                                               # width, height\n",
    "\n",
    "fig.tight_layout()                                                        # Make better use of space on plot\n",
    "\n",
    "ax[0,0].plot(my_time, my_voltage, color='b', marker='None', linestyle='--')       # Plot at [0,0]\n",
    "ax[0,0].set_xlabel('Time (s)')\n",
    "ax[0,0].set_ylabel('Voltage (mV)')\n",
    "\n",
    "ax[0,1].hist(some_data, bins=20, facecolor='MediumOrchid')                        # Plot at [0,1]\n",
    "ax[0,1].set_xlim(-5,10)\n",
    "\n",
    "ax[1,0].hist(more_data,bins=20, facecolor='HotPink', histtype='stepfilled')       # Plot at [1,0]\n",
    "ax[1,0].vlines(2.0, 0.0, 70.0, color='xkcd:seafoam green', linewidth=3)\n",
    "ax[1,0].set_xlim(-5,10)\n",
    "\n",
    "ax[1,1].set_xscale('log')                                                         # Plot at [1,1] - x-axis set to log\n",
    "ax[1,1].plot(my_time, my_voltage, color='r', marker='None', linestyle='--')\n",
    "ax[1,1].set_xlabel('Time (s)')\n",
    "ax[1,1].set_ylabel('Voltage (mV)');"
   ]
  },
  {
   "cell_type": "markdown",
   "metadata": {
    "collapsed": false
   },
   "source": [
    "### Subplots with one row do not need a first index (`[0,0] -> [0]`)"
   ]
  },
  {
   "cell_type": "code",
   "execution_count": 0,
   "metadata": {
    "collapsed": false
   },
   "outputs": [
   ],
   "source": [
    "fig, ax = plt.subplots(1,2)                                               # 1 row1 2 columns\n",
    "fig.set_size_inches(11,4)                                                 # width, height\n",
    "\n",
    "fig.tight_layout()                                                        # Make better use of space on plot\n",
    "\n",
    "ax[0].plot(my_time, my_voltage, color='b', marker='None', linestyle='--')       # Plot at [0]\n",
    "ax[0].set_xlabel('Time (s)')\n",
    "ax[0].set_ylabel('Voltage (mV)')\n",
    "\n",
    "ax[1].hist(some_data, bins=20, facecolor='MediumOrchid')                        # Plot at [1]\n",
    "ax[1].set_xlim(-5,10)"
   ]
  },
  {
   "cell_type": "code",
   "execution_count": 0,
   "metadata": {
    "collapsed": false
   },
   "outputs": [
   ],
   "source": [
   ]
  },
  {
   "cell_type": "code",
   "execution_count": 0,
   "metadata": {
    "collapsed": false
   },
   "outputs": [
   ],
   "source": [
    "fig, ax = plt.subplots(1,2, sharey=True)                                  # Share Y axis\n",
    "fig.set_size_inches(11,4)                                                 # width, height\n",
    "\n",
    "fig.tight_layout()                                                        # Make better use of space on plot\n",
    "\n",
    "ax[0].plot(my_time, my_voltage, color='b', marker='None', linestyle='--')       # Plot at [0]\n",
    "ax[0].set_xlabel('Time (s)')\n",
    "ax[0].set_ylabel('Voltage (mV)')\n",
    "\n",
    "ax[1].set_xscale('log')                                                         # Plot at [1]\n",
    "ax[1].plot(my_time, my_voltage, color='r', marker='None', linestyle='--')\n",
    "ax[1].set_xlabel('Time (s)');"
   ]
  },
  {
   "cell_type": "markdown",
   "metadata": {
    "collapsed": false
   },
   "source": [
    "---\n",
    "\n",
    "## An Astronomical Example - Color Magnitude Diagrams"
   ]
  },
  {
   "cell_type": "code",
   "execution_count": 0,
   "metadata": {
    "collapsed": false
   },
   "outputs": [
   ],
   "source": [
    "star_table = pd.read_csv('./Data/M15_Bright.csv')\n",
    "star_table[0:3]"
   ]
  },
  {
   "cell_type": "code",
   "execution_count": 0,
   "metadata": {
    "collapsed": false
   },
   "outputs": [
   ],
   "source": [
    "fig, ax = plt.subplots(1,1)                 # 1 row, 2 colums\n",
    "fig.set_size_inches(15,10)\n",
    "\n",
    "fig.tight_layout()\n",
    "\n",
    "V = star_table['Vmag']\n",
    "B = star_table['Bmag']\n",
    "BV = B-V\n",
    "\n",
    "ax.set_xlim(-0.25,1.5)\n",
    "ax.set_ylim(12,19)\n",
    "\n",
    "ax.set_aspect(1/6)         # Make 1 unit in X = 6 units in Y\n",
    "ax.invert_yaxis()          # Magnitudes increase to smaller values\n",
    "\n",
    "ax.set_xlabel(\"B-V\")\n",
    "ax.set_ylabel(\"V\")\n",
    "\n",
    "ax.plot(BV,V,color=\"b\",marker=\"o\",linestyle=\"None\",markersize=5);\n",
    "\n",
    "# overplotting\n",
    "\n",
    "mask_color = ((V < 16.25) & (BV < 0.55))    # Remember - panads masks do not need np.where()\n",
    "\n",
    "ax.plot(BV[mask_color], V[mask_color],color=\"r\",marker=\"o\",linestyle=\"None\",markersize=4, alpha=0.5);"
   ]
  },
  {
   "cell_type": "markdown",
   "metadata": {
    "collapsed": false
   },
   "source": [
    "---\n",
    "# Alternative Projections\n",
    "\n",
    "## Polar Plots"
   ]
  },
  {
   "cell_type": "code",
   "execution_count": 0,
   "metadata": {
    "collapsed": false
   },
   "outputs": [
   ],
   "source": [
    "theta = np.linspace(0,2*np.pi,1000)"
   ]
  },
  {
   "cell_type": "markdown",
   "metadata": {
    "collapsed": false
   },
   "source": [
    "#### The axis (`ax`) command is a bit different for alternative projections:"
   ]
  },
  {
   "cell_type": "code",
   "execution_count": 0,
   "metadata": {
    "collapsed": false
   },
   "outputs": [
   ],
   "source": [
    "fig = plt.figure()\n",
    "\n",
    "ax1 = fig.add_subplot(121,projection='polar')\n",
    "ax2 = fig.add_subplot(122,projection='polar')\n",
    "\n",
    "fig.set_size_inches(12,6)\n",
    "\n",
    "fig.tight_layout()\n",
    "\n",
    "ax1.plot(theta,theta/5.0,label=\"spiral\")\n",
    "\n",
    "ax2.plot(theta,np.cos(4*theta),label=\"flower\");"
   ]
  },
  {
   "cell_type": "markdown",
   "metadata": {
    "collapsed": false
   },
   "source": [
    "## 3D plots"
   ]
  },
  {
   "cell_type": "code",
   "execution_count": 0,
   "metadata": {
    "collapsed": false
   },
   "outputs": [
   ],
   "source": [
    "from mpl_toolkits.mplot3d import Axes3D"
   ]
  },
  {
   "cell_type": "code",
   "execution_count": 0,
   "metadata": {
    "collapsed": false
   },
   "outputs": [
   ],
   "source": [
    "fig = plt.figure()\n",
    "ax = fig.add_subplot(111,projection='3d')\n",
    "\n",
    "fig.set_size_inches(9,9)\n",
    "\n",
    "fig.tight_layout()\n",
    "\n",
    "xx = np.cos(3*theta)\n",
    "yy = np.sin(2*theta)\n",
    "\n",
    "ax.plot(theta, xx, yy, c = \"Maroon\")\n",
    "ax.scatter(theta, xx, yy, c = \"Navy\", s = 15);\n",
    "\n",
    "ax.view_init(azim = -20, elev = 33)"
   ]
  },
  {
   "cell_type": "markdown",
   "metadata": {
    "collapsed": false
   },
   "source": [
    "## Tons of examples of `matplotlib` plots can be found [here](http://matplotlib.org/gallery.html)"
   ]
  },
  {
   "cell_type": "code",
   "execution_count": 0,
   "metadata": {
    "collapsed": false
   },
   "outputs": [
   ],
   "source": [
   ]
  }
 ],
 "metadata": {
  "anaconda-cloud": {
  },
  "kernelspec": {
   "display_name": "Python 3 (old Anaconda 3)",
   "language": "python",
   "name": "anaconda3"
  },
  "language_info": {
   "codemirror_mode": {
    "name": "ipython",
    "version": 3
   },
   "file_extension": ".py",
   "mimetype": "text/x-python",
   "name": "python",
   "nbconvert_exporter": "python",
   "pygments_lexer": "ipython3",
   "version": "3.5.5"
  }
 },
 "nbformat": 4,
 "nbformat_minor": 0
}