{
 "cells": [
  {
   "cell_type": "markdown",
   "metadata": {
    "collapsed": false
   },
   "source": [
    "# First Last - Fitting Data"
   ]
  },
  {
   "cell_type": "code",
   "execution_count": 0,
   "metadata": {
    "collapsed": true
   },
   "outputs": [
   ],
   "source": [
    "%matplotlib inline\n",
    "import matplotlib.pyplot as plt\n",
    "\n",
    "import numpy as np\n",
    "import pandas as pd\n",
    "\n",
    "from scipy.optimize import curve_fit"
   ]
  },
  {
   "cell_type": "markdown",
   "metadata": {
    "collapsed": false
   },
   "source": [
    "# Power on the Moon\n",
    "\n",
    "<img src=\"images/ApolloRTG.jpg\" alt=\"Apollo_ALSEP_RTG\" style=\"width: 500px;\"/>\n",
    "\n",
    "----\n",
    "\n",
    "* The Apollo lunar mission deployed a series of experiments on the Moon.\n",
    "* The experiment package was called the Apollo Lunar Surface Experiments Package [(ALSEP)](https://en.wikipedia.org/wiki/Apollo_Lunar_Surface_Experiments_Package)\n",
    "* The ALSEP was powered by a radioisotope thermoelectric generator [(RTG)](https://en.wikipedia.org/wiki/Radioisotope_thermoelectric_generator)\n",
    "\n",
    "----\n",
    "\n",
    "* An RTG is basically a fist-sized slug of Pu-238 wrapped in a material that generates electric power when heated.\n",
    "* Since the RTG is powered by a radioisotope, the output power decreases over time as the radioisotope decays."
   ]
  },
  {
   "cell_type": "markdown",
   "metadata": {
    "collapsed": false
   },
   "source": [
    "## Read in the datafile\n",
    "\n",
    "The data file `/Data/Apollo_RTG.csv` contains the power output of the Apollo 12 RTG as a function of time.\n",
    "\n",
    "The data colunms are\n",
    "\n",
    "* [Day] - Days on the Moon\n",
    "* [Power] - RTG power output in Watts"
   ]
  },
  {
   "cell_type": "code",
   "execution_count": 0,
   "metadata": {
    "collapsed": true
   },
   "outputs": [
   ],
   "source": [
   ]
  },
  {
   "cell_type": "markdown",
   "metadata": {
    "collapsed": false
   },
   "source": [
    "## Plot the Data\n",
    "\n",
    "* Day vs. Power\n",
    "* Use the OO interface to matplotlib\n",
    "* Fit the function with a polynomial (degree >= 3)\n",
    "* Plot the fit with the data\n",
    "- Output size w:11in, h:8.5in\n",
    "- Make the plot look nice (including clear labels)"
   ]
  },
  {
   "cell_type": "code",
   "execution_count": 0,
   "metadata": {
    "collapsed": true
   },
   "outputs": [
   ],
   "source": [
   ]
  },
  {
   "cell_type": "markdown",
   "metadata": {
    "collapsed": false
   },
   "source": [
    "## Power over time\n",
    "\n",
    "* All of your answer should be formatted as sentences\n",
    "* For example: `The power on day 0 is VALUE Watts`\n",
    "\n",
    "### 1 - What was the power output on Day 0?"
   ]
  },
  {
   "cell_type": "code",
   "execution_count": 0,
   "metadata": {
    "collapsed": false
   },
   "outputs": [
   ],
   "source": [
   ]
  },
  {
   "cell_type": "markdown",
   "metadata": {
    "collapsed": false
   },
   "source": [
    "### 2 - How many years after landing could you still power a 60 W lightbulb?"
   ]
  },
  {
   "cell_type": "code",
   "execution_count": 0,
   "metadata": {
    "collapsed": true
   },
   "outputs": [
   ],
   "source": [
   ]
  },
  {
   "cell_type": "markdown",
   "metadata": {
    "collapsed": false
   },
   "source": [
    "### 3 - How many years after landing could you still power a 5 W USB device?"
   ]
  },
  {
   "cell_type": "code",
   "execution_count": 0,
   "metadata": {
    "collapsed": true
   },
   "outputs": [
   ],
   "source": [
   ]
  },
  {
   "cell_type": "markdown",
   "metadata": {
    "collapsed": false
   },
   "source": [
    "### 4 - How many years after landing until the power output is 0 W?"
   ]
  },
  {
   "cell_type": "code",
   "execution_count": 0,
   "metadata": {
    "collapsed": true
   },
   "outputs": [
   ],
   "source": [
   ]
  },
  {
   "cell_type": "markdown",
   "metadata": {
    "collapsed": false
   },
   "source": [
    "---\n",
    "\n",
    "# Fitting data to a function\n",
    "\n",
    "* The datafile `./Data/linedata.csv` contains two columns of data\n",
    "* Use the OO interface to matplotlib\n",
    "* Plot the data (with labels!)\n",
    "* Fit the function below to the data\n",
    "* Find the values `(A,C,W)` that best fit the data\n",
    "- Output size w:11in, h:8.5in\n",
    "- Make the plot look nice (including clear labels)"
   ]
  },
  {
   "cell_type": "markdown",
   "metadata": {
    "collapsed": false
   },
   "source": [
    "----\n",
    "\n",
    "#### Fit a gaussian of the form:\n",
    "\n",
    "$$ \\Large f(x) = A e^{-\\frac{(x - C)^2}{W}} $$\n",
    "\n",
    "* A = amplitude of the gaussian\n",
    "* C = x-value of the central peak of the gaussian\n",
    "* W = width of the gaussian\n"
   ]
  },
  {
   "cell_type": "code",
   "execution_count": 0,
   "metadata": {
    "collapsed": false
   },
   "outputs": [
   ],
   "source": [
   ]
  },
  {
   "cell_type": "code",
   "execution_count": 0,
   "metadata": {
    "collapsed": false
   },
   "outputs": [
   ],
   "source": [
   ]
  },
  {
   "cell_type": "markdown",
   "metadata": {
    "collapsed": false
   },
   "source": [
    "### Due Mon Feb 25 - 1 pm\n",
    "- `Make sure to change the filename to your name!`\n",
    "- `Make sure to change the Title to your name!`\n",
    "- `File -> Download as -> HTML (.html)`\n",
    "- `upload your .html and .ipynb file to the class Canvas page`"
   ]
  },
  {
   "cell_type": "markdown",
   "metadata": {
    "collapsed": false
   },
   "source": [
    "----\n",
    "\n",
    "# <font color=blue>Ravenclaw</font>"
   ]
  },
  {
   "cell_type": "markdown",
   "metadata": {
    "collapsed": false
   },
   "source": [
    "#### The file `./Data/StarData.csv` is a spectra of a main sequence star\n",
    "\n",
    "* Col 1 - Wavelength `[angstroms]`\n",
    "* Col 2 - Flux `[normalized to 0->1]`"
   ]
  },
  {
   "cell_type": "markdown",
   "metadata": {
    "collapsed": false
   },
   "source": [
    "#### Read in the Data"
   ]
  },
  {
   "cell_type": "code",
   "execution_count": 0,
   "metadata": {
    "collapsed": false
   },
   "outputs": [
   ],
   "source": [
   ]
  },
  {
   "cell_type": "markdown",
   "metadata": {
    "collapsed": false
   },
   "source": [
    "#### Plot the Data\n",
    "\n",
    "* Use the OO interface to matplotlib\n",
    "* Output size w:11in, h:8.5in\n",
    "* Make the plot look nice (including clear labels and a legend)"
   ]
  },
  {
   "cell_type": "code",
   "execution_count": 0,
   "metadata": {
    "collapsed": false
   },
   "outputs": [
   ],
   "source": [
   ]
  },
  {
   "cell_type": "markdown",
   "metadata": {
    "collapsed": false
   },
   "source": [
    "#### Use [Wien's law](https://en.wikipedia.org/wiki/Wien%27s_displacement_law) to determine the temperature of the Star"
   ]
  },
  {
   "cell_type": "code",
   "execution_count": 1,
   "metadata": {
    "collapsed": false
   },
   "outputs": [
   ],
   "source": [
    "from astropy import units as u\n",
    "from astropy import constants as const"
   ]
  },
  {
   "cell_type": "code",
   "execution_count": 0,
   "metadata": {
    "collapsed": false
   },
   "outputs": [
   ],
   "source": [
   ]
  },
  {
   "cell_type": "markdown",
   "metadata": {
    "collapsed": false
   },
   "source": [
    "#### Plank's Law\n",
    "\n",
    "* [Plank's Law](https://en.wikipedia.org/wiki/Planck%27s_law) describes the spectra emitted by a blackbody at a temperature T\n",
    "* Calculated the blackbody flux at the above temperature at all of your data_wavelength points\n",
    "* Scale the blackbody flux to `[0->1]`"
   ]
  },
  {
   "cell_type": "code",
   "execution_count": 0,
   "metadata": {
    "collapsed": false
   },
   "outputs": [
   ],
   "source": [
   ]
  },
  {
   "cell_type": "markdown",
   "metadata": {
    "collapsed": false
   },
   "source": [
    "#### Plot the Data and the Blackbody fit on the same plot\n",
    "\n",
    "* Use the OO interface to matplotlib\n",
    "* Output size w:11in, h:8.5in\n",
    "* Make the plot look nice (including clear labels and a legend)"
   ]
  },
  {
   "cell_type": "code",
   "execution_count": 0,
   "metadata": {
    "collapsed": false
   },
   "outputs": [
   ],
   "source": [
   ]
  }
 ],
 "metadata": {
  "anaconda-cloud": {
  },
  "kernelspec": {
   "display_name": "Python 3 (Ubuntu Linux)",
   "language": "python",
   "name": "python3"
  },
  "language_info": {
   "codemirror_mode": {
    "name": "ipython",
    "version": 3
   },
   "file_extension": ".py",
   "mimetype": "text/x-python",
   "name": "python",
   "nbconvert_exporter": "python",
   "pygments_lexer": "ipython3",
   "version": "3.6.7"
  }
 },
 "nbformat": 4,
 "nbformat_minor": 0
}