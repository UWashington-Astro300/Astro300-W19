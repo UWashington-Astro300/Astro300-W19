{
 "cells": [
  {
   "cell_type": "markdown",
   "metadata": {
    "collapsed": false
   },
   "source": [
    "# Planning observations with `astroplan`"
   ]
  },
  {
   "cell_type": "code",
   "execution_count": 0,
   "metadata": {
    "collapsed": false
   },
   "outputs": [
   ],
   "source": [
    "import numpy as np\n",
    "\n",
    "import astropy.units as u\n",
    "from astropy.time import Time\n",
    "from astropy.coordinates import SkyCoord\n",
    "import pytz\n",
    "\n",
    "from astroplan import Observer, FixedTarget"
   ]
  },
  {
   "cell_type": "markdown",
   "metadata": {
    "collapsed": false
   },
   "source": [
    "# Time and Dates\n",
    "- ### All dates and times in are UTC: *Coordinated Universal Time* .\n",
    "- All `Time` calculation assume that the time is UTC.\n",
    "- UTC is related to  Greenwich Mean Time (GMT) but does not change with a change of seasons.\n",
    "- Time will default to 00:00:00 UTC."
   ]
  },
  {
   "cell_type": "code",
   "execution_count": 0,
   "metadata": {
    "collapsed": false
   },
   "outputs": [
   ],
   "source": [
    "my_date1 = Time(\"2019-03-11 13:40:15\")\n",
    "\n",
    "my_date1"
   ]
  },
  {
   "cell_type": "code",
   "execution_count": 0,
   "metadata": {
    "collapsed": false
   },
   "outputs": [
   ],
   "source": [
    "my_date1.iso"
   ]
  },
  {
   "cell_type": "code",
   "execution_count": 0,
   "metadata": {
    "collapsed": false
   },
   "outputs": [
   ],
   "source": [
    "my_date2 = Time(\"2019-03-11\")\n",
    "\n",
    "my_date2.iso"
   ]
  },
  {
   "cell_type": "markdown",
   "metadata": {
    "collapsed": false
   },
   "source": [
    "### Current UTC Time"
   ]
  },
  {
   "cell_type": "code",
   "execution_count": 0,
   "metadata": {
    "collapsed": false
   },
   "outputs": [
   ],
   "source": [
    "current_time = Time.now()    # Current UTC Time\n",
    "\n",
    "current_time"
   ]
  },
  {
   "cell_type": "code",
   "execution_count": 0,
   "metadata": {
    "collapsed": false
   },
   "outputs": [
   ],
   "source": [
    "print(\"The current time is {0.iso}\".format(current_time))"
   ]
  },
  {
   "cell_type": "markdown",
   "metadata": {
    "collapsed": false
   },
   "source": [
    "### Different Date Formats"
   ]
  },
  {
   "cell_type": "code",
   "execution_count": 0,
   "metadata": {
    "collapsed": false
   },
   "outputs": [
   ],
   "source": [
    "print(\"The current Julian Date is {0:.2f}\".format(current_time.jd))\n",
    "\n",
    "print(\"The current Modified Julian Date is {0:.2f}\".format(current_time.mjd))\n",
    "\n",
    "print(\"The current unix Epoch is {0:.2f}\".format(current_time.unix))  # Seconds since (Jan 01, 1970 00:00:00 UTC)\n",
    "\n",
    "print(\"The current fraction of a year is {0:.2f}\".format(current_time.decimalyear))"
   ]
  },
  {
   "cell_type": "markdown",
   "metadata": {
    "collapsed": false
   },
   "source": [
    "### Math with Time and Dates"
   ]
  },
  {
   "cell_type": "code",
   "execution_count": 0,
   "metadata": {
    "collapsed": false
   },
   "outputs": [
   ],
   "source": [
    "print(\"In 1 hour and 25 minutes it will be {0.iso} UTC\".format(current_time + 1*u.h + 25*u.min))"
   ]
  },
  {
   "cell_type": "code",
   "execution_count": 0,
   "metadata": {
    "collapsed": false
   },
   "outputs": [
   ],
   "source": [
    "Christmas = Time(\"2019-12-25 00:00:00\")\n",
    "\n",
    "delta_xmas = Christmas - current_time\n",
    "\n",
    "print(\"It is {0:.2f} until christmas, which is {1:.2f}, or {2:.2f}\"\n",
    "      .format(delta_xmas.to(u.d),delta_xmas.to(u.fortnight),delta_xmas.to(u.s)))"
   ]
  },
  {
   "cell_type": "markdown",
   "metadata": {
    "collapsed": false
   },
   "source": [
    "---\n",
    "\n",
    "### [Accurate Time](http://bmmorris.blogspot.com/2015/06/ut1-utc-and-astropy.html) - `UT1`\n",
    "\n",
    "`AstroPy` calculates the times of events to a very high accuracy. To do this, is has to account for the fact that  Earth's rotation period is constantly changing due to tidal forces and changes in the Earth's moment of inertia.\n",
    "\n",
    "To do this, `AstroPy` uses a time convention called `UT1`. This system is tied to the rotation of the Earth with repect to the positions of distant quasars. Since the Earth's rotation is constantly changing, the time system `UT1` is constanly changing with repect to `UTC`. \n",
    "\n",
    "The orientation of the Earth, which must be measured continuously to keep `UT1` accurate. This measurement is logged by the International Earth Rotation and Reference Systems Service (IERS). They publish a \"bulletin\" with the most recent measurements of the Earth's orientation. This bulletin is constantly being updated.\n",
    "\n",
    "You will run into occasions when you will get a warning that your dates are out of range of the IERS bulletin. To update the bulletin, run the follow block of code:\n",
    "\n",
    "---"
   ]
  },
  {
   "cell_type": "code",
   "execution_count": 0,
   "metadata": {
    "collapsed": false
   },
   "outputs": [
   ],
   "source": [
    "from astroplan import download_IERS_A\n",
    "\n",
    "download_IERS_A()"
   ]
  },
  {
   "cell_type": "markdown",
   "metadata": {
    "collapsed": false
   },
   "source": [
    "# Places\n",
    "\n",
    "## Setting your location - `Observer`"
   ]
  },
  {
   "cell_type": "code",
   "execution_count": 0,
   "metadata": {
    "collapsed": false
   },
   "outputs": [
   ],
   "source": [
    "this_room = Observer(longitude = -122.311473 * u.deg,\n",
    "                    latitude = 47 * u.deg + 39 * u.arcmin + 15 * u.arcsec,\n",
    "                    elevation = 63.4 * u.m,\n",
    "                    timezone = 'US/Pacific',\n",
    "                    name = \"Computer Lab\"\n",
    "                    )"
   ]
  },
  {
   "cell_type": "code",
   "execution_count": 0,
   "metadata": {
    "collapsed": false
   },
   "outputs": [
   ],
   "source": [
    "this_room"
   ]
  },
  {
   "cell_type": "code",
   "execution_count": 0,
   "metadata": {
    "collapsed": false
   },
   "outputs": [
   ],
   "source": [
    "this_room.name"
   ]
  },
  {
   "cell_type": "markdown",
   "metadata": {
    "collapsed": false
   },
   "source": [
    "### Working with timezones (local time)\n",
    "\n",
    "- [Timezone List](https://en.wikipedia.org/wiki/List_of_tz_database_time_zones)\n",
    "- Use the name in the **TZ** column.\n",
    "- Only use timezone conversions for printouts, NEVER calculations!\n",
    "- Working with tomezones is a [quick path to maddness!](https://xkcd.com/1883/)"
   ]
  },
  {
   "cell_type": "code",
   "execution_count": 0,
   "metadata": {
    "collapsed": false
   },
   "outputs": [
   ],
   "source": [
    "this_room.timezone"
   ]
  },
  {
   "cell_type": "code",
   "execution_count": 0,
   "metadata": {
    "collapsed": false
   },
   "outputs": [
   ],
   "source": [
    "local_now = current_time.to_datetime(this_room.timezone)\n",
    "print(local_now)"
   ]
  },
  {
   "cell_type": "markdown",
   "metadata": {
    "collapsed": false
   },
   "source": [
    "### Information at your location"
   ]
  },
  {
   "cell_type": "code",
   "execution_count": 0,
   "metadata": {
    "collapsed": false
   },
   "outputs": [
   ],
   "source": [
    "sunset_here = this_room.sun_set_time(current_time, which='nearest')\n",
    "\n",
    "print(\"Sunset will be at {0.iso} UTC\".format(sunset_here))"
   ]
  },
  {
   "cell_type": "code",
   "execution_count": 0,
   "metadata": {
    "collapsed": false
   },
   "outputs": [
   ],
   "source": [
    "print(\"Sunset will be at {0} local time\".format(sunset_here.to_datetime(this_room.timezone)))"
   ]
  },
  {
   "cell_type": "markdown",
   "metadata": {
    "collapsed": false
   },
   "source": [
    "### MRO\n",
    "\n",
    "The [Manastash Ridge Observatory (MRO)](https://sites.google.com/a/uw.edu/mro/) is operated by the Astronomy Department of the University of Washington, for the training of graduate and undergraduate students, as well as for astronomical research."
   ]
  },
  {
   "cell_type": "code",
   "execution_count": 0,
   "metadata": {
    "collapsed": false
   },
   "outputs": [
   ],
   "source": [
    "mro = Observer(longitude = -120.724533 * u.deg,\n",
    "               latitude = 46.951089 * u.deg,\n",
    "               elevation = 1198 * u.m,\n",
    "               timezone = 'US/Pacific',\n",
    "               name = \"MRO\"\n",
    "              )"
   ]
  },
  {
   "cell_type": "code",
   "execution_count": 0,
   "metadata": {
    "collapsed": false
   },
   "outputs": [
   ],
   "source": [
    "sunset_mro = mro.sun_set_time(current_time, which='nearest')\n",
    "\n",
    "print(\"Sunset at MRO will be at {0} local time\".format(sunset_mro.to_datetime(mro.timezone)))"
   ]
  },
  {
   "cell_type": "code",
   "execution_count": 0,
   "metadata": {
    "collapsed": false
   },
   "outputs": [
   ],
   "source": [
    "(sunset_here - sunset_mro).to(u.min)"
   ]
  },
  {
   "cell_type": "markdown",
   "metadata": {
    "collapsed": false
   },
   "source": [
    "## When can you observe?"
   ]
  },
  {
   "cell_type": "markdown",
   "metadata": {
    "collapsed": false
   },
   "source": [
    "#### set up a reference time:"
   ]
  },
  {
   "cell_type": "code",
   "execution_count": 0,
   "metadata": {
    "collapsed": false
   },
   "outputs": [
   ],
   "source": [
    "reference_time = current_time"
   ]
  },
  {
   "cell_type": "markdown",
   "metadata": {
    "collapsed": false
   },
   "source": [
    "### Astronomical twilight is when the Sun is 18 degrees below the horizon\n",
    "\n",
    "* observation begin at `twilight_evening_astronomical`\n",
    "* observations end at `twilight_moring_astronomical`\n",
    "\n",
    "You can choose which `twilight_evening_astronomical` relative to the `current_time` would you like to calculate:\n",
    "\n",
    "* `next`\n",
    "* `previous`\n",
    "* `nearest`"
   ]
  },
  {
   "cell_type": "code",
   "execution_count": 0,
   "metadata": {
    "collapsed": false
   },
   "outputs": [
   ],
   "source": [
    "astro_set = mro.twilight_evening_astronomical(reference_time, which='nearest')\n",
    "astro_rise = mro.twilight_morning_astronomical(reference_time, which='next')\n",
    "midnight_mro = mro.midnight(reference_time, which='next')\n",
    "\n",
    "print(\"Astronomical Evening Twilight starts at {0.iso} UTC\".format(astro_set))\n",
    "print(\"Astronomical Midnight is at {0.iso} UTC\".format(midnight_mro))\n",
    "print(\"Astronomical Morning Twilight starts at {0.iso} UTC\".format(astro_rise))"
   ]
  },
  {
   "cell_type": "code",
   "execution_count": 0,
   "metadata": {
    "collapsed": false
   },
   "outputs": [
   ],
   "source": [
    "observing_length = (astro_rise - astro_set).to(u.h)\n",
    "\n",
    "print(\"You can observe for {0:.1f} at MRO tonight\".format(observing_length))"
   ]
  },
  {
   "cell_type": "code",
   "execution_count": 0,
   "metadata": {
    "collapsed": false
   },
   "outputs": [
   ],
   "source": [
    "# Local Times\n",
    "\n",
    "print(\"Tonight's observing at MRO starts at {0},\\n peaks at {1} and,\\n ends at {2} local time\"\n",
    "      .format(astro_set.to_datetime(mro.timezone),\n",
    "              midnight_mro.to_datetime(mro.timezone),\n",
    "              astro_rise.to_datetime(mro.timezone)))"
   ]
  },
  {
   "cell_type": "markdown",
   "metadata": {
    "collapsed": false
   },
   "source": [
    "# Things\n",
    "\n",
    "## Objects in the sky - `FixedTarget`"
   ]
  },
  {
   "cell_type": "markdown",
   "metadata": {
    "collapsed": false
   },
   "source": [
    "### You can define targets by [coordinates](./Astro_Coordinates.pdf)"
   ]
  },
  {
   "cell_type": "code",
   "execution_count": 0,
   "metadata": {
    "collapsed": false
   },
   "outputs": [
   ],
   "source": [
    "coords = SkyCoord('02h19m00.0s', '+57d07m042s', frame='icrs')\n",
    "\n",
    "ngc869 = FixedTarget(name='NGC869', coord=coords)"
   ]
  },
  {
   "cell_type": "code",
   "execution_count": 0,
   "metadata": {
    "collapsed": false
   },
   "outputs": [
   ],
   "source": [
    "ngc869.ra"
   ]
  },
  {
   "cell_type": "code",
   "execution_count": 0,
   "metadata": {
    "collapsed": false
   },
   "outputs": [
   ],
   "source": [
    "ngc869.ra.hms"
   ]
  },
  {
   "cell_type": "markdown",
   "metadata": {
    "collapsed": false
   },
   "source": [
    "### Can you see the object?"
   ]
  },
  {
   "cell_type": "code",
   "execution_count": 0,
   "metadata": {
    "collapsed": false
   },
   "outputs": [
   ],
   "source": [
    "mro.target_is_up(midnight_mro, ngc869)"
   ]
  },
  {
   "cell_type": "markdown",
   "metadata": {
    "collapsed": false
   },
   "source": [
    "### Where can you see it a midnight?"
   ]
  },
  {
   "cell_type": "code",
   "execution_count": 0,
   "metadata": {
    "collapsed": false
   },
   "outputs": [
   ],
   "source": [
    "where_to_look = mro.altaz(midnight_mro, ngc869)"
   ]
  },
  {
   "cell_type": "code",
   "execution_count": 0,
   "metadata": {
    "collapsed": false
   },
   "outputs": [
   ],
   "source": [
    "where_to_look.alt"
   ]
  },
  {
   "cell_type": "code",
   "execution_count": 0,
   "metadata": {
    "collapsed": false
   },
   "outputs": [
   ],
   "source": [
    "where_to_look.az"
   ]
  },
  {
   "cell_type": "markdown",
   "metadata": {
    "collapsed": false
   },
   "source": [
    "### Most targets can be defined by name"
   ]
  },
  {
   "cell_type": "code",
   "execution_count": 0,
   "metadata": {
    "collapsed": false
   },
   "outputs": [
   ],
   "source": [
    "my_target = FixedTarget.from_name(\"ngc2403\")"
   ]
  },
  {
   "cell_type": "code",
   "execution_count": 0,
   "metadata": {
    "collapsed": false
   },
   "outputs": [
   ],
   "source": [
    "my_target.coord"
   ]
  },
  {
   "cell_type": "code",
   "execution_count": 0,
   "metadata": {
    "collapsed": false
   },
   "outputs": [
   ],
   "source": [
    "my_target.ra.hms"
   ]
  },
  {
   "cell_type": "markdown",
   "metadata": {
    "collapsed": false
   },
   "source": [
    "## Objects in the sky - Moving Targets (solar system targets)\n",
    "\n",
    "- `Astropy` used the `jplephem` package to calculate the positions\n",
    "- The built-in solar system objects are: 'sun', 'mercury', 'venus', 'earth-moon-barycenter', 'earth', 'moon', 'mars', 'jupiter', 'saturn', 'uranus', 'neptune', 'pluto'"
   ]
  },
  {
   "cell_type": "code",
   "execution_count": 0,
   "metadata": {
    "collapsed": false
   },
   "outputs": [
   ],
   "source": [
    "from astropy.coordinates import get_sun, get_body, get_moon\n",
    "from astroplan import moon_illumination"
   ]
  },
  {
   "cell_type": "markdown",
   "metadata": {
    "collapsed": false
   },
   "source": [
    "### Is the Sun above the horizion now?"
   ]
  },
  {
   "cell_type": "code",
   "execution_count": 0,
   "metadata": {
    "collapsed": false
   },
   "outputs": [
   ],
   "source": [
    "sun_now = get_body('sun',current_time)\n",
    "\n",
    "sun_now"
   ]
  },
  {
   "cell_type": "code",
   "execution_count": 0,
   "metadata": {
    "collapsed": false
   },
   "outputs": [
   ],
   "source": [
    "sun_location = this_room.altaz(current_time, sun_now)\n",
    "\n",
    "sun_location.alt, sun_location.az"
   ]
  },
  {
   "cell_type": "code",
   "execution_count": 0,
   "metadata": {
    "collapsed": false
   },
   "outputs": [
   ],
   "source": [
    "moon_now = get_body('moon',current_time)"
   ]
  },
  {
   "cell_type": "code",
   "execution_count": 0,
   "metadata": {
    "collapsed": false
   },
   "outputs": [
   ],
   "source": [
    "moon_illumination(current_time)"
   ]
  },
  {
   "cell_type": "code",
   "execution_count": 0,
   "metadata": {
    "collapsed": false
   },
   "outputs": [
   ],
   "source": [
    "sun_now.separation(moon_now)"
   ]
  },
  {
   "cell_type": "markdown",
   "metadata": {
    "collapsed": false
   },
   "source": [
    "# Planning - Observing at MRO"
   ]
  },
  {
   "cell_type": "markdown",
   "metadata": {
    "collapsed": false
   },
   "source": [
    "### [Air Mass](https://en.wikipedia.org/wiki/Air_mass_%28astronomy%29) is the optical path length through Earth’s atmosphere. \n",
    "\n",
    "* At sea-level, the air mass at the zenith is 1. \n",
    "* Air mass increases as you move toward the horizon.\n",
    "* Air mass at the horizon is approximately 38.\n",
    "* The best time to observe a target is at minimum airmass.\n",
    "* When the airmass of your target is getting close to 2, you should be observing another target."
   ]
  },
  {
   "cell_type": "code",
   "execution_count": 0,
   "metadata": {
    "collapsed": false
   },
   "outputs": [
   ],
   "source": [
    "my_target = FixedTarget.from_name(\"ngc2403\")"
   ]
  },
  {
   "cell_type": "code",
   "execution_count": 0,
   "metadata": {
    "collapsed": false
   },
   "outputs": [
   ],
   "source": [
    "mro.target_is_up(midnight_mro, my_target)"
   ]
  },
  {
   "cell_type": "markdown",
   "metadata": {
    "collapsed": false
   },
   "source": [
    "### Object is up at midnight at MRO - good"
   ]
  },
  {
   "cell_type": "code",
   "execution_count": 0,
   "metadata": {
    "collapsed": false
   },
   "outputs": [
   ],
   "source": [
    "altaz_my_target = mro.altaz(midnight_mro, my_target)\n",
    "\n",
    "altaz_my_target.alt, altaz_my_target.az"
   ]
  },
  {
   "cell_type": "markdown",
   "metadata": {
    "collapsed": false
   },
   "source": [
    "### Nice high altitude - looking good"
   ]
  },
  {
   "cell_type": "code",
   "execution_count": 0,
   "metadata": {
    "collapsed": false
   },
   "outputs": [
   ],
   "source": [
    "# You can find the airmass by using the .secz method\n",
    "\n",
    "altaz_my_target.secz"
   ]
  },
  {
   "cell_type": "markdown",
   "metadata": {
    "collapsed": false
   },
   "source": [
    "### Airmass < 2, you are good to go."
   ]
  },
  {
   "cell_type": "markdown",
   "metadata": {
    "collapsed": false
   },
   "source": [
    "## Planning observation is easier with plots"
   ]
  },
  {
   "cell_type": "code",
   "execution_count": 0,
   "metadata": {
    "collapsed": false
   },
   "outputs": [
   ],
   "source": [
    "%matplotlib inline\n",
    "import matplotlib.pyplot as plt\n",
    "\n",
    "from astroplan import time_grid_from_range\n",
    "\n",
    "from astroplan.plots import plot_airmass"
   ]
  },
  {
   "cell_type": "markdown",
   "metadata": {
    "collapsed": false
   },
   "source": [
    "#### Setup our observing window"
   ]
  },
  {
   "cell_type": "code",
   "execution_count": 0,
   "metadata": {
    "collapsed": false
   },
   "outputs": [
   ],
   "source": [
    "start_time = astro_set\n",
    "end_time = astro_rise\n",
    "\n",
    "observing_range = [astro_set, astro_rise]\n",
    "\n",
    "time_grid = time_grid_from_range(observing_range)"
   ]
  },
  {
   "cell_type": "markdown",
   "metadata": {
    "collapsed": false
   },
   "source": [
    "### Plot the airmass of the target over the night"
   ]
  },
  {
   "cell_type": "code",
   "execution_count": 0,
   "metadata": {
    "collapsed": false
   },
   "outputs": [
   ],
   "source": [
    "plot_airmass(my_target, mro, time_grid);"
   ]
  },
  {
   "cell_type": "markdown",
   "metadata": {
    "collapsed": false
   },
   "source": [
    "#### This is good target for observation at MRO for most of the night"
   ]
  },
  {
   "cell_type": "markdown",
   "metadata": {
    "collapsed": false
   },
   "source": [
    "### Not all targets can (or should) be observed at all locations"
   ]
  },
  {
   "cell_type": "code",
   "execution_count": 0,
   "metadata": {
    "collapsed": false
   },
   "outputs": [
   ],
   "source": [
    "low_target = FixedTarget.from_name(\"Sirius\")"
   ]
  },
  {
   "cell_type": "code",
   "execution_count": 0,
   "metadata": {
    "collapsed": false
   },
   "outputs": [
   ],
   "source": [
    "mro.target_is_up(midnight_mro, low_target)"
   ]
  },
  {
   "cell_type": "code",
   "execution_count": 0,
   "metadata": {
    "collapsed": false
   },
   "outputs": [
   ],
   "source": [
    "plot_airmass(low_target, mro, time_grid, max_airmass=5.0);"
   ]
  },
  {
   "cell_type": "markdown",
   "metadata": {
    "collapsed": false
   },
   "source": [
    "#### Not looking good"
   ]
  },
  {
   "cell_type": "markdown",
   "metadata": {
    "collapsed": false
   },
   "source": [
    "As you can see, this is bad target for observation at MRO."
   ]
  }
 ],
 "metadata": {
  "anaconda-cloud": {
  },
  "kernelspec": {
   "display_name": "Python 3 (Anaconda 5)",
   "language": "python",
   "name": "anaconda5"
  },
  "language_info": {
   "codemirror_mode": {
    "name": "ipython",
    "version": 3
   },
   "file_extension": ".py",
   "mimetype": "text/x-python",
   "name": "python",
   "nbconvert_exporter": "python",
   "pygments_lexer": "ipython3",
   "version": "3.6.6"
  }
 },
 "nbformat": 4,
 "nbformat_minor": 0
}