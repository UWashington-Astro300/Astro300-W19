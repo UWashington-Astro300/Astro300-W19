{
 "cells": [
  {
   "cell_type": "markdown",
   "metadata": {
    "collapsed": false
   },
   "source": [
    "# Images in Python"
   ]
  },
  {
   "cell_type": "code",
   "execution_count": 0,
   "metadata": {
    "collapsed": false
   },
   "outputs": [
   ],
   "source": [
    "%matplotlib inline\n",
    "\n",
    "import numpy as np\n",
    "import matplotlib.pyplot as plt"
   ]
  },
  {
   "cell_type": "markdown",
   "metadata": {
    "collapsed": false
   },
   "source": [
    "### Working with images in python is essentially a visual way of working with 2-d arrays (matrices)"
   ]
  },
  {
   "cell_type": "code",
   "execution_count": 0,
   "metadata": {
    "collapsed": false
   },
   "outputs": [
   ],
   "source": [
    "np.random.seed(42)\n",
    "my_array = np.random.randint(0,10,36)     # 36 random ints between 0 and 9\n",
    "my_array"
   ]
  },
  {
   "cell_type": "code",
   "execution_count": 0,
   "metadata": {
    "collapsed": false
   },
   "outputs": [
   ],
   "source": [
    "my_matrix = np.reshape(my_array,(6,6))\n",
    "print(my_matrix)"
   ]
  },
  {
   "cell_type": "code",
   "execution_count": 0,
   "metadata": {
    "collapsed": false
   },
   "outputs": [
   ],
   "source": [
    "my_matrix.ndim, my_matrix.shape, my_matrix.dtype"
   ]
  },
  {
   "cell_type": "markdown",
   "metadata": {
    "collapsed": false
   },
   "source": [
    "### All of the normal numpy commands work with matrices (of any dimension)"
   ]
  },
  {
   "cell_type": "code",
   "execution_count": 0,
   "metadata": {
    "collapsed": false
   },
   "outputs": [
   ],
   "source": [
    "my_matrix.mean()        # mean of the whole matrix"
   ]
  },
  {
   "cell_type": "markdown",
   "metadata": {
    "collapsed": false
   },
   "source": [
    "### You can work over just the rows or columns of the matrix\n",
    "\n",
    "* axis = 0 (COLUMNS)\n",
    "* axis = 1 (ROWS)"
   ]
  },
  {
   "cell_type": "code",
   "execution_count": 0,
   "metadata": {
    "collapsed": false
   },
   "outputs": [
   ],
   "source": [
    "my_matrix.mean(axis=0)   # mean of the columns"
   ]
  },
  {
   "cell_type": "code",
   "execution_count": 0,
   "metadata": {
    "collapsed": false
   },
   "outputs": [
   ],
   "source": [
    "my_matrix.mean(axis=0)[0]  # mean of the 0th column"
   ]
  },
  {
   "cell_type": "code",
   "execution_count": 0,
   "metadata": {
    "collapsed": false
   },
   "outputs": [
   ],
   "source": [
    "my_matrix.mean(axis=1)   # mean of the rows"
   ]
  },
  {
   "cell_type": "code",
   "execution_count": 0,
   "metadata": {
    "collapsed": false
   },
   "outputs": [
   ],
   "source": [
    "my_matrix.flatten()      # convert to 1D (useful for some plotting)"
   ]
  },
  {
   "cell_type": "markdown",
   "metadata": {
    "collapsed": false
   },
   "source": [
    "### Math on matrices/images applies to every value"
   ]
  },
  {
   "cell_type": "code",
   "execution_count": 0,
   "metadata": {
    "collapsed": false
   },
   "outputs": [
   ],
   "source": [
    "another_matrix = my_matrix + 2\n",
    "\n",
    "another_matrix"
   ]
  },
  {
   "cell_type": "markdown",
   "metadata": {
    "collapsed": false
   },
   "source": [
    "## `imshow` will display 2-d arrays as images"
   ]
  },
  {
   "cell_type": "code",
   "execution_count": 0,
   "metadata": {
    "collapsed": false
   },
   "outputs": [
   ],
   "source": [
    "plt.style.use('ggplot')\n",
    "plt.rc('axes', grid=False)   # turn off the background grid for images"
   ]
  },
  {
   "cell_type": "code",
   "execution_count": 0,
   "metadata": {
    "collapsed": false
   },
   "outputs": [
   ],
   "source": [
    "plt.imshow(my_matrix, cmap=plt.cm.Blues);"
   ]
  },
  {
   "cell_type": "markdown",
   "metadata": {
    "collapsed": false
   },
   "source": [
    "### Show the image represenation of `test_image` with a colorbar"
   ]
  },
  {
   "cell_type": "code",
   "execution_count": 0,
   "metadata": {
    "collapsed": false
   },
   "outputs": [
   ],
   "source": [
    "plt.imshow(my_matrix, cmap=plt.cm.Blues)\n",
    "plt.colorbar();"
   ]
  },
  {
   "cell_type": "markdown",
   "metadata": {
    "collapsed": false
   },
   "source": [
    "### Colormap reference: http://matplotlib.org/examples/color/colormaps_reference.html"
   ]
  },
  {
   "cell_type": "code",
   "execution_count": 0,
   "metadata": {
    "collapsed": false
   },
   "outputs": [
   ],
   "source": [
    "fig, ax = plt.subplots(1,5)\n",
    "\n",
    "fig.set_size_inches(16,4)\n",
    "\n",
    "fig.tight_layout()\n",
    "\n",
    "ax[0].imshow(my_matrix, cmap=plt.cm.viridis)\n",
    "ax[0].set_xlabel('viridis')\n",
    "\n",
    "ax[1].imshow(my_matrix, cmap=plt.cm.hot)\n",
    "ax[1].set_xlabel('hot')\n",
    "\n",
    "ax[2].imshow(my_matrix, cmap=plt.cm.magma)\n",
    "ax[2].set_xlabel('magma')\n",
    "\n",
    "ax[3].imshow(my_matrix, cmap=plt.cm.Spectral)\n",
    "ax[3].set_xlabel('Spectral')\n",
    "\n",
    "ax[4].imshow(my_matrix, cmap=plt.cm.gray)\n",
    "ax[4].set_xlabel('gray');"
   ]
  },
  {
   "cell_type": "markdown",
   "metadata": {
    "collapsed": false
   },
   "source": [
    "### Images are just arrays so they can be sliced.\n",
    "\n",
    " * The origin is the upper left hand corner `[0,0]`\n",
    " * `[Start_Row:End_Row, Start_Column:End_Column]`\n",
    "   - Start: first element you want\n",
    "   - End: First element you DON'T want\n",
    "   - `:`  is the whole range"
   ]
  },
  {
   "cell_type": "code",
   "execution_count": 0,
   "metadata": {
    "collapsed": false
   },
   "outputs": [
   ],
   "source": [
    "fig, ax = plt.subplots(1,4)\n",
    "fig.set_size_inches(16,4)\n",
    "\n",
    "fig.tight_layout()\n",
    "\n",
    "ax[0].imshow(my_matrix, cmap=plt.cm.GnBu)\n",
    "ax[0].set_xlabel('Original')\n",
    "\n",
    "ax[1].imshow(my_matrix[:,0:2], cmap=plt.cm.GnBu)\n",
    "ax[1].set_xlabel('[:,0:2]')                         # all rows, 2 columns\n",
    "\n",
    "ax[2].imshow(my_matrix[0:2,:], cmap=plt.cm.GnBu)    # 2 rows, all columns\n",
    "ax[2].set_xlabel('[0:2,:]')\n",
    "\n",
    "ax[3].imshow(my_matrix[2:4,2:4], cmap=plt.cm.GnBu);\n",
    "ax[3].set_xlabel('[2:4,2:4]') ;                     # center"
   ]
  },
  {
   "cell_type": "markdown",
   "metadata": {
    "collapsed": false
   },
   "source": [
    "### Images are just arrays so they can be [manipulated](https://docs.scipy.org/doc/numpy-1.13.0/reference/routines.array-manipulation.html)."
   ]
  },
  {
   "cell_type": "code",
   "execution_count": 0,
   "metadata": {
    "collapsed": false
   },
   "outputs": [
   ],
   "source": [
    "fig, ax = plt.subplots(1,5)\n",
    "fig.set_size_inches(16,4)\n",
    "\n",
    "fig.tight_layout()\n",
    "\n",
    "ax[0].imshow(my_matrix, cmap=plt.cm.GnBu)\n",
    "ax[0].set_xlabel('my_matrix')\n",
    "\n",
    "ax[1].imshow(np.flip(my_matrix,axis=0), cmap=plt.cm.GnBu)      # axis = 0 (COLUMNS)\n",
    "ax[1].set_xlabel('np.flip(my_matrix,axis=0)')\n",
    "\n",
    "ax[2].imshow(np.flip(my_matrix,axis=1), cmap=plt.cm.GnBu)      # axis = 1 (ROWS)\n",
    "ax[2].set_xlabel('np.flip(my_matrix,axis=1)')\n",
    "\n",
    "ax[3].imshow(np.rot90(my_matrix), cmap=plt.cm.GnBu)            # Rotate 90 counter-clockwise\n",
    "ax[3].set_xlabel('np.rot90(my_matrix)')\n",
    "\n",
    "ax[4].imshow(np.roll(my_matrix,1,axis=0), cmap=plt.cm.GnBu)    # axis = 0 (COLUMNS)\n",
    "ax[4].set_xlabel('np.roll(my_matrix,1,axis=0)');"
   ]
  },
  {
   "cell_type": "markdown",
   "metadata": {
    "collapsed": false
   },
   "source": [
    "## WARNING! Common image formats DO NOT preserve dynamic range of original data!!\n",
    "- Common image formats: jpg, gif, png, tiff\n",
    "- Common image formats will re-scale your data values to [0:1]\n",
    "- Common image formats are **NOT** suitable for scientific data!"
   ]
  },
  {
   "cell_type": "code",
   "execution_count": 0,
   "metadata": {
    "collapsed": false
   },
   "outputs": [
   ],
   "source": [
    "plt.imsave('Square.png', my_matrix, cmap=plt.cm.gray)      # Write my_matrix to a PNG file\n",
    "\n",
    "my_png = plt.imread('Square.png')                          # Read in the PNG file\n",
    "\n",
    "print(\"The original data has a min = {0:.2f} and a max = {1:.2f}\".format(my_matrix.min(), my_matrix.max()))\n",
    "\n",
    "print(\"The PNG file has a min = {0:.2f} and a max = {1:.2f}\".format(my_png.min(), my_png.max()))"
   ]
  },
  {
   "cell_type": "markdown",
   "metadata": {
    "collapsed": false
   },
   "source": [
    "## FITS file (Flexible Image Transport System) - Standard Astro Data Format\n",
    "\n",
    "FITS (Flexible Image Transport System) is the data format most widely used within astronomy for transporting, analyzing, and archiving scientific data files. FITS is much more than just another image format (such as JPG or GIF) and is primarily designed to store scientific data sets consisting of multidimensional arrays (images) and 2-dimensional tables organized into rows and columns of information."
   ]
  },
  {
   "cell_type": "code",
   "execution_count": 0,
   "metadata": {
    "collapsed": false
   },
   "outputs": [
   ],
   "source": [
    "import astropy.io.fits as fits"
   ]
  },
  {
   "cell_type": "markdown",
   "metadata": {
    "collapsed": false
   },
   "source": [
    "## FITS files consist of at least two parts - `Header` and `Data`\n",
    "\n",
    "* A FITS file is comprised of segments called Header/Data Units (HDUs), where the first [0] HDU is called the `Primary HDU`.\n",
    "* The primary data array can contain a 1-D spectrum, a 2-D image, or a 3-D data cube.\n",
    "* Every HDU consists of an ASCII formatted `Header Unit`. \n",
    "* Each header unit contains a sequence of fixed-length 80-character keyword (`Cards`)"
   ]
  },
  {
   "cell_type": "code",
   "execution_count": 0,
   "metadata": {
    "collapsed": false
   },
   "outputs": [
   ],
   "source": [
    "data_file = \"./Data/bsg01.fits\"\n",
    "\n",
    "my_fits_file = fits.open(data_file)\n",
    "\n",
    "my_fits_file.info()"
   ]
  },
  {
   "cell_type": "code",
   "execution_count": 0,
   "metadata": {
    "collapsed": false
   },
   "outputs": [
   ],
   "source": [
    "image_data = my_fits_file[0].data\n",
    "image_header = my_fits_file[0].header"
   ]
  },
  {
   "cell_type": "code",
   "execution_count": 0,
   "metadata": {
    "collapsed": false
   },
   "outputs": [
   ],
   "source": [
    "image_header"
   ]
  },
  {
   "cell_type": "code",
   "execution_count": 0,
   "metadata": {
    "collapsed": false
   },
   "outputs": [
   ],
   "source": [
    "print(\"The image has a shape [height,width] of {0}\".format(image_data.shape))\n",
    "print(\"The image is made up of data of type {0}\".format(image_data.dtype))"
   ]
  },
  {
   "cell_type": "markdown",
   "metadata": {
    "collapsed": false
   },
   "source": [
    "## FITS format preserves the full dynamic range of data"
   ]
  },
  {
   "cell_type": "code",
   "execution_count": 0,
   "metadata": {
    "collapsed": false
   },
   "outputs": [
   ],
   "source": [
    "print(\"The image has a maximum value of {0}\".format(image_data.max()))\n",
    "print(\"The image has a minimum value of {0}\".format(image_data.min()))"
   ]
  },
  {
   "cell_type": "code",
   "execution_count": 0,
   "metadata": {
    "collapsed": false
   },
   "outputs": [
   ],
   "source": [
    "fig, ax = plt.subplots(1,2)\n",
    "\n",
    "fig.set_size_inches(12,6)\n",
    "\n",
    "fig.tight_layout()\n",
    "\n",
    "ax[0].imshow(image_data,cmap=plt.cm.gray)\n",
    "\n",
    "ax[1].hist(image_data.flatten(),bins=20);"
   ]
  },
  {
   "cell_type": "markdown",
   "metadata": {
    "collapsed": false
   },
   "source": [
    "## You can use masks on images"
   ]
  },
  {
   "cell_type": "code",
   "execution_count": 0,
   "metadata": {
    "collapsed": false
   },
   "outputs": [
   ],
   "source": [
    "copy_data = np.copy(image_data)        # make a copy of the data to work with\n",
    "\n",
    "cut_off = 40\n",
    "\n",
    "mask = np.where(copy_data > cut_off)\n",
    "copy_data[mask] = 60                   # You can not just throw data away, you have to set it to something."
   ]
  },
  {
   "cell_type": "code",
   "execution_count": 0,
   "metadata": {
    "collapsed": false
   },
   "outputs": [
   ],
   "source": [
    "print(\"The cropped image has a maximum value of {0}\".format(copy_data.max()))\n",
    "print(\"The cropped image has a minimum value of {0}\".format(copy_data.min()))"
   ]
  },
  {
   "cell_type": "markdown",
   "metadata": {
    "collapsed": false
   },
   "source": [
    "#### You can use specific bins for histograms"
   ]
  },
  {
   "cell_type": "code",
   "execution_count": 0,
   "metadata": {
    "collapsed": false
   },
   "outputs": [
   ],
   "source": [
    "my_bins = np.arange(0,110,5)\n",
    "\n",
    "my_bins"
   ]
  },
  {
   "cell_type": "code",
   "execution_count": 0,
   "metadata": {
    "collapsed": false
   },
   "outputs": [
   ],
   "source": [
    "fig, ax = plt.subplots(1,2)\n",
    "\n",
    "fig.set_size_inches(12,6)\n",
    "\n",
    "fig.tight_layout()\n",
    "\n",
    "ax[0].imshow(copy_data,cmap=plt.cm.gray)\n",
    "\n",
    "ax[1].hist(image_data.flatten(),bins=my_bins)\n",
    "ax[1].hist(copy_data.flatten(),bins=my_bins, alpha = 0.40);"
   ]
  },
  {
   "cell_type": "markdown",
   "metadata": {
    "collapsed": false
   },
   "source": [
    "## You can add and subtract images"
   ]
  },
  {
   "cell_type": "code",
   "execution_count": 0,
   "metadata": {
    "collapsed": false
   },
   "outputs": [
   ],
   "source": [
    "another_image_file = \"./Data/bsg02.fits\"\n",
    "\n",
    "another_image_data = fits.getdata(another_image_file)     # a quick way to just get the data"
   ]
  },
  {
   "cell_type": "code",
   "execution_count": 0,
   "metadata": {
    "collapsed": false
   },
   "outputs": [
   ],
   "source": [
    "fig, ax = plt.subplots(1,2)\n",
    "fig.set_size_inches(8,6)\n",
    "\n",
    "fig.tight_layout()\n",
    "\n",
    "ax[0].set_title(\"Original Image\")\n",
    "ax[1].set_title(\"Another Image\")\n",
    "\n",
    "ax[0].imshow(image_data, cmap=plt.cm.gray)\n",
    "ax[1].imshow(another_image_data, cmap=plt.cm.gray);"
   ]
  },
  {
   "cell_type": "markdown",
   "metadata": {
    "collapsed": false
   },
   "source": [
    "## The two images above may look the same but they are not!\n",
    "\n",
    "### Subtracting the two images reveals the truth."
   ]
  },
  {
   "cell_type": "code",
   "execution_count": 0,
   "metadata": {
    "collapsed": false
   },
   "outputs": [
   ],
   "source": [
    "real_image = image_data - another_image_data                 # Subtract the images pixel by pixel"
   ]
  },
  {
   "cell_type": "code",
   "execution_count": 0,
   "metadata": {
    "collapsed": false
   },
   "outputs": [
   ],
   "source": [
    "fig, ax = plt.subplots(1,3)\n",
    "fig.set_size_inches(12,6)\n",
    "\n",
    "fig.tight_layout()\n",
    "\n",
    "ax[0].set_title(\"Original Image\")\n",
    "ax[1].set_title(\"Another Image\")\n",
    "ax[2].set_title(\"Real Image!\")\n",
    "\n",
    "ax[0].imshow(image_data, cmap=plt.cm.gray)\n",
    "ax[1].imshow(another_image_data, cmap=plt.cm.gray);\n",
    "ax[2].imshow(real_image, cmap=plt.cm.gray);"
   ]
  },
  {
   "cell_type": "code",
   "execution_count": 0,
   "metadata": {
    "collapsed": false
   },
   "outputs": [
   ],
   "source": [
    "print(\"The real image has a maximum value of {0}\".format(real_image.max()))\n",
    "print(\"The real image has a minimum value of {0}\".format(real_image.min()))"
   ]
  },
  {
   "cell_type": "markdown",
   "metadata": {
    "collapsed": false
   },
   "source": [
    "---\n",
    "## FITS Images - An astronomical example"
   ]
  },
  {
   "cell_type": "code",
   "execution_count": 0,
   "metadata": {
    "collapsed": false
   },
   "outputs": [
   ],
   "source": [
    "star_file = \"./Data/star_field.fits\"\n",
    "\n",
    "star_fits_file = fits.open(star_file)\n",
    "\n",
    "star_fits_file.info()"
   ]
  },
  {
   "cell_type": "code",
   "execution_count": 0,
   "metadata": {
    "collapsed": false
   },
   "outputs": [
   ],
   "source": [
    "star_data = star_fits_file[0].data\n",
    "star_header = star_fits_file[0].header"
   ]
  },
  {
   "cell_type": "code",
   "execution_count": 0,
   "metadata": {
    "collapsed": false
   },
   "outputs": [
   ],
   "source": [
    "plt.imshow(star_data, cmap=plt.cm.gray);"
   ]
  },
  {
   "cell_type": "markdown",
   "metadata": {
    "collapsed": false
   },
   "source": [
    "### Notice the origin is in the upper left corner (the image is upside down)"
   ]
  },
  {
   "cell_type": "code",
   "execution_count": 0,
   "metadata": {
    "collapsed": false
   },
   "outputs": [
   ],
   "source": [
    "plt.imshow(star_data, origin='lower', cmap=plt.cm.gray);"
   ]
  },
  {
   "cell_type": "markdown",
   "metadata": {
    "collapsed": false
   },
   "source": [
    "### Better, the origin is in the lower left corner"
   ]
  },
  {
   "cell_type": "markdown",
   "metadata": {
    "collapsed": false
   },
   "source": [
    "## World Coordinate System `wcs`"
   ]
  },
  {
   "cell_type": "code",
   "execution_count": 0,
   "metadata": {
    "collapsed": false
   },
   "outputs": [
   ],
   "source": [
    "from astropy.wcs import WCS"
   ]
  },
  {
   "cell_type": "code",
   "execution_count": 0,
   "metadata": {
    "collapsed": false
   },
   "outputs": [
   ],
   "source": [
    "my_wcs = WCS(star_header)  # Ignore the warning"
   ]
  },
  {
   "cell_type": "code",
   "execution_count": 0,
   "metadata": {
    "collapsed": false
   },
   "outputs": [
   ],
   "source": [
    "my_wcs"
   ]
  },
  {
   "cell_type": "code",
   "execution_count": 0,
   "metadata": {
    "collapsed": false
   },
   "outputs": [
   ],
   "source": [
    "fig = plt.figure()\n",
    "\n",
    "ax1 = fig.add_subplot(121)\n",
    "ax2 = fig.add_subplot(122, projection=my_wcs)\n",
    "\n",
    "fig.set_size_inches(14,6)\n",
    "\n",
    "fig.tight_layout()\n",
    "\n",
    "ax1.imshow(star_data, origin='lower', cmap=plt.cm.gray)\n",
    "ax1.set_xlabel('X')\n",
    "ax1.set_ylabel('Y')\n",
    "\n",
    "ax2.grid(color='y', ls='-')\n",
    "ax2.set_xlabel('Right Ascension (J2000)')\n",
    "ax2.set_ylabel('Declination (J2000)')\n",
    "\n",
    "ax2.imshow(star_data, origin='lower', cmap=plt.cm.gray);"
   ]
  },
  {
   "cell_type": "markdown",
   "metadata": {
    "collapsed": false
   },
   "source": [
    "### Side Topic - FITS Table"
   ]
  },
  {
   "cell_type": "code",
   "execution_count": 0,
   "metadata": {
    "collapsed": false
   },
   "outputs": [
   ],
   "source": [
    "star_fits_file.info()"
   ]
  },
  {
   "cell_type": "code",
   "execution_count": 0,
   "metadata": {
    "collapsed": false
   },
   "outputs": [
   ],
   "source": [
    "from astropy.table import Table\n",
    "\n",
    "star_data_table = Table.read(star_fits_file[1], format='fits')"
   ]
  },
  {
   "cell_type": "code",
   "execution_count": 0,
   "metadata": {
    "collapsed": false
   },
   "outputs": [
   ],
   "source": [
    "star_data_table"
   ]
  },
  {
   "cell_type": "code",
   "execution_count": 0,
   "metadata": {
    "collapsed": false
   },
   "outputs": [
   ],
   "source": [
    "star_data_table.to_pandas()"
   ]
  },
  {
   "cell_type": "markdown",
   "metadata": {
    "collapsed": false
   },
   "source": [
    "# RGB - Pseudocolor Images"
   ]
  },
  {
   "cell_type": "code",
   "execution_count": 0,
   "metadata": {
    "collapsed": false
   },
   "outputs": [
   ],
   "source": [
    "from astropy.visualization import make_lupton_rgb"
   ]
  },
  {
   "cell_type": "code",
   "execution_count": 0,
   "metadata": {
    "collapsed": false
   },
   "outputs": [
   ],
   "source": [
    "red_img = fits.getdata(\"./Data/m64_ir.fits\").astype(float)\n",
    "green_img = fits.getdata(\"./Data/m64_red.fits\").astype(float)\n",
    "blue_img= fits.getdata(\"./Data/m64_blue.fits\").astype(float)"
   ]
  },
  {
   "cell_type": "code",
   "execution_count": 0,
   "metadata": {
    "collapsed": false
   },
   "outputs": [
   ],
   "source": [
    "red_img.shape, green_img.shape, blue_img.shape"
   ]
  },
  {
   "cell_type": "markdown",
   "metadata": {
    "collapsed": false
   },
   "source": [
    "#### Not all the same size"
   ]
  },
  {
   "cell_type": "code",
   "execution_count": 0,
   "metadata": {
    "collapsed": false
   },
   "outputs": [
   ],
   "source": [
    "green_img = fits.getdata(\"./Data/m64_red.fits\").astype(float)[0:882,0:882]\n",
    "blue_img= fits.getdata(\"./Data/m64_blue.fits\").astype(float)[0:882,0:882]"
   ]
  },
  {
   "cell_type": "code",
   "execution_count": 0,
   "metadata": {
    "collapsed": false
   },
   "outputs": [
   ],
   "source": [
    "red_img.shape, green_img.shape, blue_img.shape"
   ]
  },
  {
   "cell_type": "markdown",
   "metadata": {
    "collapsed": false
   },
   "source": [
    "#### Clean up the images a little ..."
   ]
  },
  {
   "cell_type": "code",
   "execution_count": 0,
   "metadata": {
    "collapsed": false
   },
   "outputs": [
   ],
   "source": [
    "fig, ax = plt.subplots(1,1)\n",
    "fig.set_size_inches(8,4)\n",
    "\n",
    "fig.tight_layout()\n",
    "\n",
    "ax.hist(red_img.flatten(),bins=50, color='r')\n",
    "ax.hist(green_img.flatten(),bins=50, color='g')\n",
    "ax.hist(blue_img.flatten(),bins=50, color='b');"
   ]
  },
  {
   "cell_type": "code",
   "execution_count": 0,
   "metadata": {
    "collapsed": false
   },
   "outputs": [
   ],
   "source": [
    "clean_r =  red_img - red_img.mean()\n",
    "clean_g =  green_img - green_img.mean()\n",
    "clean_b =  blue_img - blue_img.mean()"
   ]
  },
  {
   "cell_type": "code",
   "execution_count": 0,
   "metadata": {
    "collapsed": false
   },
   "outputs": [
   ],
   "source": [
    "fig, ax = plt.subplots(1,1)\n",
    "fig.set_size_inches(8,4)\n",
    "\n",
    "fig.tight_layout()\n",
    "\n",
    "ax.hist(clean_r.flatten(),bins=50, color='r')\n",
    "ax.hist(clean_g.flatten(),bins=50, color='g')\n",
    "ax.hist(clean_b.flatten(),bins=50, color='b');"
   ]
  },
  {
   "cell_type": "code",
   "execution_count": 0,
   "metadata": {
    "collapsed": false
   },
   "outputs": [
   ],
   "source": [
    "fig, ax = plt.subplots(1,1)\n",
    "fig.set_size_inches(8,4)\n",
    "\n",
    "fig.tight_layout()\n",
    "\n",
    "ax.set_ylim(0,3000)\n",
    "\n",
    "ax.hist(clean_b.flatten(),bins=50, color='b')\n",
    "ax.hist(clean_g.flatten(),bins=50, color='g')\n",
    "ax.hist(clean_r.flatten(),bins=50, color='r');"
   ]
  },
  {
   "cell_type": "code",
   "execution_count": 0,
   "metadata": {
    "collapsed": false
   },
   "outputs": [
   ],
   "source": [
    "fig, ax = plt.subplots(1,3)\n",
    "fig.set_size_inches(12,6)\n",
    "\n",
    "fig.tight_layout()\n",
    "\n",
    "ax[0].set_title(\"R\")\n",
    "ax[1].set_title(\"G\")\n",
    "ax[2].set_title(\"B\")\n",
    "\n",
    "ax[0].imshow(clean_r, origin='lower', cmap=plt.cm.gray)\n",
    "ax[1].imshow(clean_g, origin='lower', cmap=plt.cm.gray);\n",
    "ax[2].imshow(clean_b, origin='lower', cmap=plt.cm.gray);"
   ]
  },
  {
   "cell_type": "code",
   "execution_count": 0,
   "metadata": {
    "collapsed": false
   },
   "outputs": [
   ],
   "source": [
    "color_image = make_lupton_rgb(clean_r, clean_g, clean_b, stretch = 2000)"
   ]
  },
  {
   "cell_type": "code",
   "execution_count": 0,
   "metadata": {
    "collapsed": false
   },
   "outputs": [
   ],
   "source": [
    "fig, ax = plt.subplots(1,1)\n",
    "fig.set_size_inches(6,6)\n",
    "\n",
    "fig.tight_layout()\n",
    "\n",
    "ax.imshow(color_image, origin='lower', cmap=plt.cm.gray);"
   ]
  },
  {
   "cell_type": "markdown",
   "metadata": {
    "collapsed": false
   },
   "source": [
    "---\n",
    "## Sigma Clipping"
   ]
  },
  {
   "cell_type": "code",
   "execution_count": 0,
   "metadata": {
    "collapsed": false
   },
   "outputs": [
   ],
   "source": [
    "from astropy import stats"
   ]
  },
  {
   "cell_type": "code",
   "execution_count": 0,
   "metadata": {
    "collapsed": false
   },
   "outputs": [
   ],
   "source": [
    "my_data = np.array([1, 5, 6, 8, 100, 5, 3, 2, 4, 5])\n",
    "\n",
    "my_data.mean(), my_data.std()"
   ]
  },
  {
   "cell_type": "code",
   "execution_count": 0,
   "metadata": {
    "collapsed": false
   },
   "outputs": [
   ],
   "source": [
    "filtered_data = stats.sigma_clip(my_data, sigma=2, iters=5) \n",
    "\n",
    "filtered_data"
   ]
  },
  {
   "cell_type": "markdown",
   "metadata": {
    "collapsed": false
   },
   "source": [
    "#### Rejected Data"
   ]
  },
  {
   "cell_type": "code",
   "execution_count": 0,
   "metadata": {
    "collapsed": false
   },
   "outputs": [
   ],
   "source": [
    "my_data[filtered_data.mask]"
   ]
  },
  {
   "cell_type": "markdown",
   "metadata": {
    "collapsed": false
   },
   "source": [
    "#### Accepted Data"
   ]
  },
  {
   "cell_type": "code",
   "execution_count": 0,
   "metadata": {
    "collapsed": false
   },
   "outputs": [
   ],
   "source": [
    "my_data[~filtered_data.mask]"
   ]
  },
  {
   "cell_type": "markdown",
   "metadata": {
    "collapsed": false
   },
   "source": [
    "## Sigma clipping an image"
   ]
  },
  {
   "cell_type": "code",
   "execution_count": 0,
   "metadata": {
    "collapsed": false
   },
   "outputs": [
   ],
   "source": [
    "star_data.mean(), star_data.std(), star_data.max(), star_data.min()"
   ]
  },
  {
   "cell_type": "code",
   "execution_count": 0,
   "metadata": {
    "collapsed": false
   },
   "outputs": [
   ],
   "source": [
    "clip_star = stats.sigma_clip(star_data, sigma=8, iters=5) "
   ]
  },
  {
   "cell_type": "code",
   "execution_count": 0,
   "metadata": {
    "collapsed": false
   },
   "outputs": [
   ],
   "source": [
    "copy_data = np.copy(star_data)        # make a copy of the data to work with\n",
    "\n",
    "copy_data[~clip_star.mask] = star_data.min()"
   ]
  },
  {
   "cell_type": "code",
   "execution_count": 0,
   "metadata": {
    "collapsed": false
   },
   "outputs": [
   ],
   "source": [
    "fig, ax = plt.subplots(1,2)\n",
    "\n",
    "fig.set_size_inches(12,6)\n",
    "\n",
    "fig.tight_layout()\n",
    "\n",
    "ax[0].imshow(star_data, origin='lower', cmap=plt.cm.gray)\n",
    "ax[1].imshow(copy_data, origin='lower', cmap=plt.cm.gray);"
   ]
  },
  {
   "cell_type": "code",
   "execution_count": 0,
   "metadata": {
    "collapsed": false
   },
   "outputs": [
   ],
   "source": [
   ]
  }
 ],
 "metadata": {
  "anaconda-cloud": {
  },
  "kernelspec": {
   "display_name": "Python 3 (Anaconda 5)",
   "language": "python",
   "name": "anaconda5"
  },
  "language_info": {
   "codemirror_mode": {
    "name": "ipython",
    "version": 3
   },
   "file_extension": ".py",
   "mimetype": "text/x-python",
   "name": "python",
   "nbconvert_exporter": "python",
   "pygments_lexer": "ipython3",
   "version": "3.6.6"
  }
 },
 "nbformat": 4,
 "nbformat_minor": 0
}